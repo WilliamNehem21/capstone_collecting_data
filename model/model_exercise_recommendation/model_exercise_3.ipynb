{
 "cells": [
  {
   "cell_type": "code",
   "execution_count": 1,
   "metadata": {
    "colab": {
     "base_uri": "https://localhost:8080/"
    },
    "executionInfo": {
     "elapsed": 346655,
     "status": "ok",
     "timestamp": 1686462122212,
     "user": {
      "displayName": "William Nehemia M213DSX0235",
      "userId": "07160615254805994192"
     },
     "user_tz": -420
    },
    "id": "rodIDMFltOx-",
    "outputId": "075f413d-a7cf-4ac3-bcc3-ce627a138c74"
   },
   "outputs": [
    {
     "name": "stdout",
     "output_type": "stream",
     "text": [
      "Mounted at /content/drive\n",
      "  Activity, Exercise or Sport (1 hour) Intensity Description  \\\n",
      "0          Cycling, mountain bike, bmx                   NaN   \n",
      "1  Cycling, <10 mph, leisure bicycling                   NaN   \n",
      "2             Cycling, >20 mph, racing                   NaN   \n",
      "3          Cycling, 10-11.9 mph, light                   NaN   \n",
      "4       Cycling, 12-13.9 mph, moderate                   NaN   \n",
      "\n",
      "   Duration (minutes)  Calories per kg  \n",
      "0                  60         1.750730  \n",
      "1                  60         0.823236  \n",
      "2                  60         3.294974  \n",
      "3                  60         1.234853  \n",
      "4                  60         1.647825  \n"
     ]
    }
   ],
   "source": [
    "from google.colab import drive\n",
    "import pandas as pd\n",
    "from sklearn.model_selection import train_test_split\n",
    "from sklearn.preprocessing import LabelEncoder\n",
    "from keras.utils import np_utils\n",
    "from keras.wrappers.scikit_learn import KerasClassifier\n",
    "from sklearn.model_selection import KFold\n",
    "from sklearn.model_selection import cross_val_score\n",
    "from sklearn.preprocessing import MinMaxScaler\n",
    "import matplotlib.pyplot as plt\n",
    "import numpy as np\n",
    "import tensorflow as tf\n",
    "from tensorflow import keras    \n",
    "from tensorflow.keras.layers import Flatten   \n",
    "from tensorflow.keras.layers import Dense, Dropout\n",
    "from tensorflow.keras import regularizers\n",
    "from keras.optimizers import Adam, Adamax, Adadelta, Nadam, SGD\n",
    "from sklearn.metrics import classification_report, confusion_matrix\n",
    "from sklearn import metrics\n",
    "from sklearn.preprocessing import StandardScaler\n",
    "\n",
    "from sklearn.metrics import confusion_matrix\n",
    "import matplotlib.pyplot as plt\n",
    "import seaborn as sns\n",
    "%matplotlib inline\n",
    "\n",
    "\n",
    "drive.mount(\"/content/drive\")\n",
    "path = \"/content/drive/MyDrive/Capstone/exercise_datasetV2.csv\"\n",
    "df = pd.read_csv(path)\n",
    "print(df.head())\n",
    "banyak_kategori = len(df.index)\n"
   ]
  },
  {
   "cell_type": "code",
   "execution_count": 2,
   "metadata": {
    "colab": {
     "base_uri": "https://localhost:8080/"
    },
    "executionInfo": {
     "elapsed": 3444,
     "status": "ok",
     "timestamp": 1686462125601,
     "user": {
      "displayName": "William Nehemia M213DSX0235",
      "userId": "07160615254805994192"
     },
     "user_tz": -420
    },
    "id": "pxRy28e4uPWD",
    "outputId": "426cf746-7a2d-4edc-bf73-60959ae9b6b5"
   },
   "outputs": [
    {
     "name": "stdout",
     "output_type": "stream",
     "text": [
      "0\n",
      "1\n",
      "2\n",
      "3\n",
      "4\n",
      "5\n",
      "6\n",
      "7\n",
      "8\n",
      "9\n",
      "10\n",
      "11\n",
      "12\n",
      "13\n",
      "14\n",
      "15\n",
      "16\n",
      "17\n",
      "18\n",
      "19\n",
      "20\n",
      "21\n",
      "22\n",
      "23\n",
      "24\n",
      "25\n",
      "26\n",
      "27\n",
      "28\n",
      "29\n",
      "30\n",
      "31\n",
      "32\n",
      "33\n",
      "34\n",
      "35\n",
      "36\n",
      "37\n",
      "38\n",
      "39\n",
      "40\n",
      "41\n",
      "42\n",
      "43\n",
      "44\n",
      "45\n",
      "46\n",
      "47\n",
      "48\n",
      "49\n",
      "50\n",
      "51\n",
      "52\n",
      "53\n",
      "54\n",
      "55\n",
      "56\n",
      "57\n",
      "58\n",
      "59\n",
      "60\n",
      "61\n",
      "62\n",
      "63\n",
      "64\n",
      "65\n",
      "66\n",
      "67\n",
      "68\n",
      "69\n",
      "70\n",
      "71\n",
      "72\n",
      "73\n",
      "74\n",
      "75\n",
      "76\n",
      "77\n",
      "78\n",
      "79\n",
      "80\n",
      "81\n",
      "82\n",
      "83\n",
      "84\n",
      "85\n",
      "86\n",
      "87\n",
      "88\n",
      "89\n",
      "90\n",
      "91\n",
      "92\n",
      "93\n",
      "94\n",
      "95\n",
      "96\n",
      "97\n",
      "98\n",
      "99\n",
      "100\n",
      "101\n",
      "102\n",
      "103\n",
      "104\n",
      "105\n",
      "106\n",
      "107\n",
      "108\n",
      "109\n",
      "110\n",
      "111\n",
      "112\n",
      "113\n",
      "114\n",
      "115\n",
      "116\n",
      "117\n",
      "118\n",
      "119\n",
      "120\n",
      "121\n",
      "122\n",
      "123\n",
      "124\n",
      "125\n",
      "126\n",
      "127\n",
      "128\n",
      "129\n",
      "130\n",
      "131\n",
      "132\n",
      "133\n",
      "134\n",
      "135\n",
      "136\n",
      "137\n",
      "138\n",
      "139\n",
      "140\n",
      "141\n",
      "142\n",
      "143\n",
      "144\n",
      "145\n",
      "146\n",
      "147\n",
      "148\n",
      "149\n",
      "150\n",
      "151\n",
      "152\n",
      "153\n",
      "154\n",
      "155\n",
      "156\n",
      "157\n",
      "158\n",
      "159\n",
      "160\n",
      "161\n",
      "162\n",
      "163\n",
      "164\n",
      "165\n",
      "166\n",
      "167\n",
      "168\n",
      "169\n",
      "170\n",
      "171\n",
      "172\n",
      "173\n",
      "174\n",
      "175\n",
      "176\n",
      "177\n",
      "178\n",
      "179\n",
      "180\n",
      "181\n",
      "182\n",
      "183\n",
      "184\n",
      "185\n",
      "186\n",
      "187\n",
      "188\n",
      "189\n",
      "190\n",
      "191\n",
      "192\n",
      "193\n",
      "194\n",
      "195\n",
      "196\n",
      "197\n",
      "198\n",
      "199\n",
      "200\n",
      "201\n",
      "202\n",
      "203\n",
      "204\n",
      "205\n",
      "206\n",
      "207\n",
      "208\n",
      "209\n",
      "210\n",
      "211\n",
      "212\n",
      "213\n",
      "214\n",
      "215\n",
      "216\n",
      "217\n",
      "218\n",
      "219\n",
      "220\n",
      "221\n",
      "222\n",
      "223\n",
      "224\n",
      "225\n",
      "226\n",
      "227\n",
      "228\n",
      "229\n",
      "230\n",
      "231\n",
      "232\n",
      "233\n",
      "234\n",
      "235\n",
      "236\n",
      "237\n",
      "238\n",
      "239\n",
      "240\n",
      "241\n",
      "242\n",
      "243\n",
      "244\n",
      "245\n",
      "246\n",
      "247\n",
      "  Activity, Exercise or Sport (1 hour)  Duration (minutes)  Calories per kg  \\\n",
      "0          Cycling, mountain bike, bmx                   1         0.058358   \n",
      "1          Cycling, mountain bike, bmx                   1         0.087536   \n",
      "2          Cycling, mountain bike, bmx                   1         0.116715   \n",
      "3          Cycling, mountain bike, bmx                   1         0.145894   \n",
      "4          Cycling, mountain bike, bmx                   1         0.175073   \n",
      "\n",
      "   berat Intensity Description  \n",
      "0      2                   NaN  \n",
      "1      3                   NaN  \n",
      "2      4                   NaN  \n",
      "3      5                   NaN  \n",
      "4      6                   NaN  \n",
      "            Activity, Exercise or Sport (1 hour)  Duration (minutes)  \\\n",
      "1448811                         General cleaning                  60   \n",
      "1448812                        Cleaning, dusting                  60   \n",
      "1448813                         Taking out trash                  60   \n",
      "1448814            Walking, pushing a wheelchair                  60   \n",
      "1448815  Teach physical education,exercise class                  60   \n",
      "\n",
      "         Calories per kg  berat Intensity Description  \n",
      "1448811         0.721008      1                   NaN  \n",
      "1448812         0.515199      1                   NaN  \n",
      "1448813         0.617427      1                   NaN  \n",
      "1448814         0.823236      1                   NaN  \n",
      "1448815         0.823236      1                   NaN  \n"
     ]
    }
   ],
   "source": [
    "list_berat = []\n",
    "for i in range(len(df.index)):\n",
    "  list_berat.append(1)\n",
    "\n",
    "df['berat'] =  list_berat\n",
    "dict_df = {'Activity, Exercise or Sport (1 hour)' : [], 'Duration (minutes)': [], 'Calories per kg': [], 'berat' : []}\n",
    "df_new = df\n",
    "for index, row in df.iterrows():\n",
    "  print(index)\n",
    "  menit = row['Duration (minutes)']\n",
    "  activity = row['Activity, Exercise or Sport (1 hour)']\n",
    "  calories = row['Calories per kg']\n",
    "  for i in range(1,menit):\n",
    "    for j in range(2,101):\n",
    "      new_calories = calories*1.0/60*i*j\n",
    "      list_activity = dict_df.get('Activity, Exercise or Sport (1 hour)')\n",
    "      list_duration = dict_df.get('Duration (minutes)')\n",
    "      list_calories = dict_df.get('Calories per kg')\n",
    "      list_berat = dict_df.get('berat')\n",
    "      list_activity.append(activity)\n",
    "      list_duration.append(i)\n",
    "      list_calories.append(new_calories)\n",
    "      list_berat.append(j)\n",
    "      #new_row = pd.DataFrame({'Activity, Exercise or Sport (1 hour)' : [activity], 'Duration (minutes)': [i], 'Calories per kg': [new_calories], 'berat' : [j]})\n",
    "      \n",
    "df_curr = pd.DataFrame(dict_df)   \n",
    "df_new = pd.concat([df_curr, df_new.loc[:]]).reset_index(drop=True)\n",
    "#df2 = pd.concat([new_row,df.loc[:]]).reset_index(drop=True)\n",
    "print(df_new.head())\n",
    "print(df_new.tail())"
   ]
  },
  {
   "cell_type": "code",
   "execution_count": 3,
   "metadata": {
    "colab": {
     "base_uri": "https://localhost:8080/"
    },
    "executionInfo": {
     "elapsed": 75,
     "status": "ok",
     "timestamp": 1686462125604,
     "user": {
      "displayName": "William Nehemia M213DSX0235",
      "userId": "07160615254805994192"
     },
     "user_tz": -420
    },
    "id": "0QmN7wY7wnDX",
    "outputId": "59d62d8f-0981-4a44-db8b-c7f73f29d080"
   },
   "outputs": [
    {
     "name": "stdout",
     "output_type": "stream",
     "text": [
      "1448816\n",
      "       Duration (minutes)  Calories per kg         berat\n",
      "count        1.448816e+06     1.448816e+06  1.448816e+06\n",
      "mean         3.000514e+01     3.467251e+01  5.099144e+01\n",
      "std          1.703246e+01     3.748635e+01  2.858243e+01\n",
      "min          1.000000e+00     1.033558e-02  1.000000e+00\n",
      "25%          1.500000e+01     8.237434e+00  2.600000e+01\n",
      "50%          3.000000e+01     2.219663e+01  5.100000e+01\n",
      "75%          4.500000e+01     4.774767e+01  7.600000e+01\n",
      "max          6.000000e+01     3.644815e+02  1.000000e+02\n",
      "Activity, Exercise or Sport (1 hour)     object\n",
      "Duration (minutes)                        int64\n",
      "Calories per kg                         float64\n",
      "berat                                     int64\n",
      "Intensity Description                    object\n",
      "dtype: object\n",
      "                      activity  durasi  calories  berat Intensity Description\n",
      "0  Cycling, mountain bike, bmx       1  0.058358      2                   NaN\n",
      "1  Cycling, mountain bike, bmx       1  0.087536      3                   NaN\n",
      "2  Cycling, mountain bike, bmx       1  0.116715      4                   NaN\n",
      "3  Cycling, mountain bike, bmx       1  0.145894      5                   NaN\n",
      "4  Cycling, mountain bike, bmx       1  0.175073      6                   NaN\n"
     ]
    }
   ],
   "source": [
    "print(len(df_new.index))\n",
    "print(df_new.describe())\n",
    "print(df_new.dtypes)\n",
    "df_new.rename(columns = {'Activity, Exercise or Sport (1 hour)':'activity', 'Duration (minutes)' : 'durasi' , 'Calories per kg' : 'calories' }, inplace = True)\n",
    "print(df_new.head())"
   ]
  },
  {
   "cell_type": "code",
   "execution_count": 4,
   "metadata": {
    "colab": {
     "base_uri": "https://localhost:8080/",
     "height": 313
    },
    "executionInfo": {
     "elapsed": 1106,
     "status": "ok",
     "timestamp": 1686462126690,
     "user": {
      "displayName": "William Nehemia M213DSX0235",
      "userId": "07160615254805994192"
     },
     "user_tz": -420
    },
    "id": "JNALWDU8wrPL",
    "outputId": "3d950028-a891-457f-f70e-7ef55122b0bb"
   },
   "outputs": [
    {
     "name": "stdout",
     "output_type": "stream",
     "text": [
      "                      activity  durasi  calories  berat Intensity Description\n",
      "0  Cycling, mountain bike, bmx       1  0.058358      2                   NaN\n",
      "1  Cycling, mountain bike, bmx       1  0.087536      3                   NaN\n",
      "2  Cycling, mountain bike, bmx       1  0.116715      4                   NaN\n",
      "3  Cycling, mountain bike, bmx       1  0.145894      5                   NaN\n",
      "4  Cycling, mountain bike, bmx       1  0.175073      6                   NaN\n"
     ]
    },
    {
     "data": {
      "text/html": [
       "\n",
       "  <div id=\"df-37134265-b278-48cf-ab1e-66ac359ad44b\">\n",
       "    <div class=\"colab-df-container\">\n",
       "      <div>\n",
       "<style scoped>\n",
       "    .dataframe tbody tr th:only-of-type {\n",
       "        vertical-align: middle;\n",
       "    }\n",
       "\n",
       "    .dataframe tbody tr th {\n",
       "        vertical-align: top;\n",
       "    }\n",
       "\n",
       "    .dataframe thead th {\n",
       "        text-align: right;\n",
       "    }\n",
       "</style>\n",
       "<table border=\"1\" class=\"dataframe\">\n",
       "  <thead>\n",
       "    <tr style=\"text-align: right;\">\n",
       "      <th></th>\n",
       "      <th>durasi</th>\n",
       "      <th>calories</th>\n",
       "      <th>berat</th>\n",
       "    </tr>\n",
       "  </thead>\n",
       "  <tbody>\n",
       "    <tr>\n",
       "      <th>0</th>\n",
       "      <td>1</td>\n",
       "      <td>0.058358</td>\n",
       "      <td>2</td>\n",
       "    </tr>\n",
       "    <tr>\n",
       "      <th>1</th>\n",
       "      <td>1</td>\n",
       "      <td>0.087536</td>\n",
       "      <td>3</td>\n",
       "    </tr>\n",
       "    <tr>\n",
       "      <th>2</th>\n",
       "      <td>1</td>\n",
       "      <td>0.116715</td>\n",
       "      <td>4</td>\n",
       "    </tr>\n",
       "    <tr>\n",
       "      <th>3</th>\n",
       "      <td>1</td>\n",
       "      <td>0.145894</td>\n",
       "      <td>5</td>\n",
       "    </tr>\n",
       "    <tr>\n",
       "      <th>4</th>\n",
       "      <td>1</td>\n",
       "      <td>0.175073</td>\n",
       "      <td>6</td>\n",
       "    </tr>\n",
       "  </tbody>\n",
       "</table>\n",
       "</div>\n",
       "      <button class=\"colab-df-convert\" onclick=\"convertToInteractive('df-37134265-b278-48cf-ab1e-66ac359ad44b')\"\n",
       "              title=\"Convert this dataframe to an interactive table.\"\n",
       "              style=\"display:none;\">\n",
       "        \n",
       "  <svg xmlns=\"http://www.w3.org/2000/svg\" height=\"24px\"viewBox=\"0 0 24 24\"\n",
       "       width=\"24px\">\n",
       "    <path d=\"M0 0h24v24H0V0z\" fill=\"none\"/>\n",
       "    <path d=\"M18.56 5.44l.94 2.06.94-2.06 2.06-.94-2.06-.94-.94-2.06-.94 2.06-2.06.94zm-11 1L8.5 8.5l.94-2.06 2.06-.94-2.06-.94L8.5 2.5l-.94 2.06-2.06.94zm10 10l.94 2.06.94-2.06 2.06-.94-2.06-.94-.94-2.06-.94 2.06-2.06.94z\"/><path d=\"M17.41 7.96l-1.37-1.37c-.4-.4-.92-.59-1.43-.59-.52 0-1.04.2-1.43.59L10.3 9.45l-7.72 7.72c-.78.78-.78 2.05 0 2.83L4 21.41c.39.39.9.59 1.41.59.51 0 1.02-.2 1.41-.59l7.78-7.78 2.81-2.81c.8-.78.8-2.07 0-2.86zM5.41 20L4 18.59l7.72-7.72 1.47 1.35L5.41 20z\"/>\n",
       "  </svg>\n",
       "      </button>\n",
       "      \n",
       "  <style>\n",
       "    .colab-df-container {\n",
       "      display:flex;\n",
       "      flex-wrap:wrap;\n",
       "      gap: 12px;\n",
       "    }\n",
       "\n",
       "    .colab-df-convert {\n",
       "      background-color: #E8F0FE;\n",
       "      border: none;\n",
       "      border-radius: 50%;\n",
       "      cursor: pointer;\n",
       "      display: none;\n",
       "      fill: #1967D2;\n",
       "      height: 32px;\n",
       "      padding: 0 0 0 0;\n",
       "      width: 32px;\n",
       "    }\n",
       "\n",
       "    .colab-df-convert:hover {\n",
       "      background-color: #E2EBFA;\n",
       "      box-shadow: 0px 1px 2px rgba(60, 64, 67, 0.3), 0px 1px 3px 1px rgba(60, 64, 67, 0.15);\n",
       "      fill: #174EA6;\n",
       "    }\n",
       "\n",
       "    [theme=dark] .colab-df-convert {\n",
       "      background-color: #3B4455;\n",
       "      fill: #D2E3FC;\n",
       "    }\n",
       "\n",
       "    [theme=dark] .colab-df-convert:hover {\n",
       "      background-color: #434B5C;\n",
       "      box-shadow: 0px 1px 3px 1px rgba(0, 0, 0, 0.15);\n",
       "      filter: drop-shadow(0px 1px 2px rgba(0, 0, 0, 0.3));\n",
       "      fill: #FFFFFF;\n",
       "    }\n",
       "  </style>\n",
       "\n",
       "      <script>\n",
       "        const buttonEl =\n",
       "          document.querySelector('#df-37134265-b278-48cf-ab1e-66ac359ad44b button.colab-df-convert');\n",
       "        buttonEl.style.display =\n",
       "          google.colab.kernel.accessAllowed ? 'block' : 'none';\n",
       "\n",
       "        async function convertToInteractive(key) {\n",
       "          const element = document.querySelector('#df-37134265-b278-48cf-ab1e-66ac359ad44b');\n",
       "          const dataTable =\n",
       "            await google.colab.kernel.invokeFunction('convertToInteractive',\n",
       "                                                     [key], {});\n",
       "          if (!dataTable) return;\n",
       "\n",
       "          const docLinkHtml = 'Like what you see? Visit the ' +\n",
       "            '<a target=\"_blank\" href=https://colab.research.google.com/notebooks/data_table.ipynb>data table notebook</a>'\n",
       "            + ' to learn more about interactive tables.';\n",
       "          element.innerHTML = '';\n",
       "          dataTable['output_type'] = 'display_data';\n",
       "          await google.colab.output.renderOutput(dataTable, element);\n",
       "          const docLink = document.createElement('div');\n",
       "          docLink.innerHTML = docLinkHtml;\n",
       "          element.appendChild(docLink);\n",
       "        }\n",
       "      </script>\n",
       "    </div>\n",
       "  </div>\n",
       "  "
      ],
      "text/plain": [
       "   durasi  calories  berat\n",
       "0       1  0.058358      2\n",
       "1       1  0.087536      3\n",
       "2       1  0.116715      4\n",
       "3       1  0.145894      5\n",
       "4       1  0.175073      6"
      ]
     },
     "execution_count": 4,
     "metadata": {},
     "output_type": "execute_result"
    }
   ],
   "source": [
    "target = df['Activity, Exercise or Sport (1 hour)']\n",
    "print(df_new.head())\n",
    "numeric_feature_names = ['durasi', 'calories', 'berat']\n",
    "numeric_features = df_new[numeric_feature_names]\n",
    "numeric_features.head()"
   ]
  },
  {
   "cell_type": "code",
   "execution_count": 6,
   "metadata": {
    "colab": {
     "base_uri": "https://localhost:8080/"
    },
    "executionInfo": {
     "elapsed": 123,
     "status": "ok",
     "timestamp": 1686462126692,
     "user": {
      "displayName": "William Nehemia M213DSX0235",
      "userId": "07160615254805994192"
     },
     "user_tz": -420
    },
    "id": "YDdjSP0GQbHE",
    "outputId": "011b2377-3a63-4326-e616-44bf07bba072"
   },
   "outputs": [
    {
     "name": "stdout",
     "output_type": "stream",
     "text": [
      "248\n"
     ]
    }
   ],
   "source": [
    "jumlah_class = len(df_new['activity'].value_counts())\n",
    "print(jumlah_class)"
   ]
  },
  {
   "cell_type": "code",
   "execution_count": 7,
   "metadata": {
    "colab": {
     "base_uri": "https://localhost:8080/"
    },
    "executionInfo": {
     "elapsed": 115,
     "status": "ok",
     "timestamp": 1686462126692,
     "user": {
      "displayName": "William Nehemia M213DSX0235",
      "userId": "07160615254805994192"
     },
     "user_tz": -420
    },
    "id": "XZ8bIl60W6BF",
    "outputId": "88728e59-abed-44e7-e6e0-720743f28cd8"
   },
   "outputs": [
    {
     "name": "stdout",
     "output_type": "stream",
     "text": [
      "                      activity  durasi  calories  berat Intensity Description  \\\n",
      "0  Cycling, mountain bike, bmx       1  0.058358      2                   NaN   \n",
      "1  Cycling, mountain bike, bmx       1  0.087536      3                   NaN   \n",
      "2  Cycling, mountain bike, bmx       1  0.116715      4                   NaN   \n",
      "3  Cycling, mountain bike, bmx       1  0.145894      5                   NaN   \n",
      "4  Cycling, mountain bike, bmx       1  0.175073      6                   NaN   \n",
      "\n",
      "  activity_category  \n",
      "0                61  \n",
      "1                61  \n",
      "2                61  \n",
      "3                61  \n",
      "4                61  \n"
     ]
    }
   ],
   "source": [
    "df_new['activity'] = df_new['activity'].astype('category')\n",
    "df_new['activity_category'] = df_new['activity'].cat.codes.astype('category')\n",
    "print(df_new.head())"
   ]
  },
  {
   "cell_type": "code",
   "execution_count": 8,
   "metadata": {
    "executionInfo": {
     "elapsed": 112,
     "status": "ok",
     "timestamp": 1686462126693,
     "user": {
      "displayName": "William Nehemia M213DSX0235",
      "userId": "07160615254805994192"
     },
     "user_tz": -420
    },
    "id": "jQoBYTS2XSHR"
   },
   "outputs": [],
   "source": [
    "df_new_2 = df_new.drop(columns = ['activity', 'Intensity Description', 'activity_category'])\n",
    "sc = StandardScaler()\n",
    "x = pd.DataFrame(sc.fit_transform(df_new_2))"
   ]
  },
  {
   "cell_type": "code",
   "execution_count": 9,
   "metadata": {
    "executionInfo": {
     "elapsed": 112,
     "status": "ok",
     "timestamp": 1686462126693,
     "user": {
      "displayName": "William Nehemia M213DSX0235",
      "userId": "07160615254805994192"
     },
     "user_tz": -420
    },
    "id": "b87zqOZ93r2F"
   },
   "outputs": [],
   "source": [
    "df_new_2['durasi'] = MinMaxScaler().fit_transform(np.array(df_new_2['durasi']).reshape(-1,1))\n",
    "df_new_2['calories'] = MinMaxScaler().fit_transform(np.array(df_new_2['calories']).reshape(-1,1))\n",
    "df_new_2['berat'] = MinMaxScaler().fit_transform(np.array(df_new_2['berat']).reshape(-1,1))"
   ]
  },
  {
   "cell_type": "code",
   "execution_count": 10,
   "metadata": {
    "executionInfo": {
     "elapsed": 2591,
     "status": "ok",
     "timestamp": 1686462129173,
     "user": {
      "displayName": "William Nehemia M213DSX0235",
      "userId": "07160615254805994192"
     },
     "user_tz": -420
    },
    "id": "YP6424uZr3nY"
   },
   "outputs": [],
   "source": [
    "y = tf.keras.utils.to_categorical(df_new[\"activity_category\"].values, num_classes=jumlah_class)\n",
    "\n",
    "x_train, x_test, y_train, y_test = train_test_split(x.values, y, test_size=0.2)"
   ]
  },
  {
   "cell_type": "code",
   "execution_count": 11,
   "metadata": {
    "colab": {
     "base_uri": "https://localhost:8080/"
    },
    "executionInfo": {
     "elapsed": 16,
     "status": "ok",
     "timestamp": 1686462129178,
     "user": {
      "displayName": "William Nehemia M213DSX0235",
      "userId": "07160615254805994192"
     },
     "user_tz": -420
    },
    "id": "HUor4l-J55f2",
    "outputId": "53e95e97-ffee-4aef-8c51-8206edfeccb7"
   },
   "outputs": [
    {
     "name": "stdout",
     "output_type": "stream",
     "text": [
      "[[-0.64612751 -0.21978469  1.36477452]\n",
      " [ 0.23454433  1.76455689  0.73501679]\n",
      " [-1.35066498 -0.85191691 -1.11926986]\n",
      " ...\n",
      " [-1.29195353 -0.81506008 -1.25921602]\n",
      " [-0.58741606 -0.10019745  1.71463993]\n",
      " [ 0.9390818   1.096578   -0.38455251]]\n",
      "[[0. 0. 0. ... 0. 0. 0.]\n",
      " [0. 0. 0. ... 0. 0. 0.]\n",
      " [0. 0. 0. ... 0. 0. 0.]\n",
      " ...\n",
      " [0. 0. 0. ... 0. 0. 0.]\n",
      " [0. 0. 0. ... 0. 0. 0.]\n",
      " [0. 0. 0. ... 0. 0. 0.]]\n",
      "[[-0.17643586 -0.81368662 -1.46913527]\n",
      " [ 1.05650471 -0.5381065  -1.39916218]\n",
      " [-0.82226188 -0.24853981  0.9099495 ]\n",
      " ...\n",
      " [ 0.99779325 -0.29243914 -1.04929678]\n",
      " [-0.99839625 -0.1393166   0.52509755]\n",
      " [ 0.58681306  1.35641312  1.32978798]]\n",
      "[[0. 0. 0. ... 0. 0. 0.]\n",
      " [0. 0. 0. ... 0. 0. 0.]\n",
      " [0. 0. 0. ... 0. 0. 0.]\n",
      " ...\n",
      " [0. 0. 0. ... 0. 0. 0.]\n",
      " [0. 0. 0. ... 0. 0. 0.]\n",
      " [0. 0. 0. ... 0. 0. 0.]]\n"
     ]
    }
   ],
   "source": [
    "print(x_train)\n",
    "print(y_train)\n",
    "print(x_test)\n",
    "print(y_test)"
   ]
  },
  {
   "cell_type": "code",
   "execution_count": 12,
   "metadata": {
    "executionInfo": {
     "elapsed": 12,
     "status": "ok",
     "timestamp": 1686462129179,
     "user": {
      "displayName": "William Nehemia M213DSX0235",
      "userId": "07160615254805994192"
     },
     "user_tz": -420
    },
    "id": "Bfqf_VCRs6ik"
   },
   "outputs": [],
   "source": [
    "from keras.engine import sequential\n",
    "def get_model():\n",
    "    model =  tf.keras.Sequential([\n",
    "        Dense(1024, activation='relu'),\n",
    "        \n",
    "        Dense(512, activation='relu'),\n",
    "        \n",
    "        \n",
    "        \n",
    "       \n",
    "        \n",
    "        \n",
    "        \n",
    "        Dense(banyak_kategori, activation='softmax')\n",
    "    ])\n",
    "\n",
    "    optimizer = SGD(learning_rate=0.01)\n",
    "\n",
    "    model.compile(optimizer= optimizer,\n",
    "                  loss='categorical_crossentropy',\n",
    "                  metrics=['accuracy'])\n",
    "    return model"
   ]
  },
  {
   "cell_type": "code",
   "execution_count": 13,
   "metadata": {
    "executionInfo": {
     "elapsed": 15,
     "status": "ok",
     "timestamp": 1686462129183,
     "user": {
      "displayName": "William Nehemia M213DSX0235",
      "userId": "07160615254805994192"
     },
     "user_tz": -420
    },
    "id": "LCHbYtiPXvdI"
   },
   "outputs": [],
   "source": [
    "my_callbacks = [\n",
    "    tf.keras.callbacks.EarlyStopping(patience=2),\n",
    "    tf.keras.callbacks.ModelCheckpoint(filepath='model.{epoch:02d}-{val_loss:.2f}.h5'),\n",
    "    tf.keras.callbacks.TensorBoard(log_dir='./logs'),\n",
    "]"
   ]
  },
  {
   "cell_type": "code",
   "execution_count": 14,
   "metadata": {
    "executionInfo": {
     "elapsed": 15,
     "status": "ok",
     "timestamp": 1686462129184,
     "user": {
      "displayName": "William Nehemia M213DSX0235",
      "userId": "07160615254805994192"
     },
     "user_tz": -420
    },
    "id": "V2hzVHinWGnW"
   },
   "outputs": [],
   "source": [
    "model = get_model()"
   ]
  },
  {
   "cell_type": "code",
   "execution_count": null,
   "metadata": {
    "colab": {
     "base_uri": "https://localhost:8080/"
    },
    "id": "I2LCjFEztSw_",
    "outputId": "a88d388a-2379-48af-b0ae-7f7c0634aab5"
   },
   "outputs": [
    {
     "name": "stdout",
     "output_type": "stream",
     "text": [
      "Epoch 1/100\n",
      "36221/36221 [==============================] - 565s 16ms/step - loss: 4.7259 - accuracy: 0.0239 - val_loss: 4.1264 - val_accuracy: 0.0367\n",
      "Epoch 2/100\n",
      "36221/36221 [==============================] - 540s 15ms/step - loss: 3.8702 - accuracy: 0.0550 - val_loss: 4.1393 - val_accuracy: 0.0486\n",
      "Epoch 3/100\n",
      "36221/36221 [==============================] - 543s 15ms/step - loss: 3.5713 - accuracy: 0.0704 - val_loss: 3.4781 - val_accuracy: 0.0744\n",
      "Epoch 4/100\n",
      "36221/36221 [==============================] - 546s 15ms/step - loss: 3.3973 - accuracy: 0.0799 - val_loss: 3.3869 - val_accuracy: 0.0751\n",
      "Epoch 5/100\n",
      "36221/36221 [==============================] - 546s 15ms/step - loss: 3.2857 - accuracy: 0.0867 - val_loss: 3.4226 - val_accuracy: 0.0836\n",
      "Epoch 6/100\n",
      "36221/36221 [==============================] - 538s 15ms/step - loss: 3.2074 - accuracy: 0.0931 - val_loss: 3.2451 - val_accuracy: 0.0873\n",
      "Epoch 7/100\n",
      "36221/36221 [==============================] - 544s 15ms/step - loss: 3.1485 - accuracy: 0.0976 - val_loss: 3.1424 - val_accuracy: 0.0970\n",
      "Epoch 8/100\n",
      "36221/36221 [==============================] - 549s 15ms/step - loss: 3.1012 - accuracy: 0.1019 - val_loss: 3.3580 - val_accuracy: 0.0874\n",
      "Epoch 9/100\n",
      "36221/36221 [==============================] - 548s 15ms/step - loss: 3.0620 - accuracy: 0.1055 - val_loss: 3.0810 - val_accuracy: 0.1041\n",
      "Epoch 10/100\n",
      "36221/36221 [==============================] - 549s 15ms/step - loss: 3.0301 - accuracy: 0.1077 - val_loss: 3.0174 - val_accuracy: 0.1053\n",
      "Epoch 11/100\n",
      "36221/36221 [==============================] - 550s 15ms/step - loss: 3.0013 - accuracy: 0.1101 - val_loss: 3.0555 - val_accuracy: 0.0991\n",
      "Epoch 12/100\n",
      "36221/36221 [==============================] - 549s 15ms/step - loss: 2.9766 - accuracy: 0.1118 - val_loss: 3.5222 - val_accuracy: 0.0920\n",
      "Epoch 13/100\n",
      "36221/36221 [==============================] - 547s 15ms/step - loss: 2.9552 - accuracy: 0.1133 - val_loss: 3.0040 - val_accuracy: 0.1047\n",
      "Epoch 14/100\n",
      "36221/36221 [==============================] - 548s 15ms/step - loss: 2.9352 - accuracy: 0.1148 - val_loss: 2.9484 - val_accuracy: 0.1129\n",
      "Epoch 15/100\n",
      "36221/36221 [==============================] - 555s 15ms/step - loss: 2.9190 - accuracy: 0.1162 - val_loss: 2.9409 - val_accuracy: 0.1105\n",
      "Epoch 16/100\n",
      "36221/36221 [==============================] - 552s 15ms/step - loss: 2.9040 - accuracy: 0.1168 - val_loss: 2.9485 - val_accuracy: 0.1152\n",
      "Epoch 17/100\n",
      "36221/36221 [==============================] - 549s 15ms/step - loss: 2.8909 - accuracy: 0.1182 - val_loss: 2.8730 - val_accuracy: 0.1191\n",
      "Epoch 18/100\n",
      "36221/36221 [==============================] - 542s 15ms/step - loss: 2.8788 - accuracy: 0.1186 - val_loss: 2.8804 - val_accuracy: 0.1160\n",
      "Epoch 19/100\n",
      "36221/36221 [==============================] - 549s 15ms/step - loss: 2.8680 - accuracy: 0.1193 - val_loss: 3.1392 - val_accuracy: 0.1039\n",
      "Epoch 20/100\n",
      "36221/36221 [==============================] - 552s 15ms/step - loss: 2.8589 - accuracy: 0.1198 - val_loss: 2.8452 - val_accuracy: 0.1218\n",
      "Epoch 21/100\n",
      "36221/36221 [==============================] - 550s 15ms/step - loss: 2.8495 - accuracy: 0.1206 - val_loss: 2.8618 - val_accuracy: 0.1190\n",
      "Epoch 22/100\n",
      "36221/36221 [==============================] - 558s 15ms/step - loss: 2.8409 - accuracy: 0.1216 - val_loss: 2.8773 - val_accuracy: 0.1163\n",
      "Epoch 23/100\n",
      "36221/36221 [==============================] - 545s 15ms/step - loss: 2.8352 - accuracy: 0.1215 - val_loss: 2.8253 - val_accuracy: 0.1239\n",
      "Epoch 24/100\n",
      "36221/36221 [==============================] - 567s 16ms/step - loss: 2.8273 - accuracy: 0.1218 - val_loss: 2.8073 - val_accuracy: 0.1233\n",
      "Epoch 25/100\n",
      "36221/36221 [==============================] - 561s 15ms/step - loss: 2.8211 - accuracy: 0.1223 - val_loss: 2.8041 - val_accuracy: 0.1208\n",
      "Epoch 26/100\n",
      "36221/36221 [==============================] - 564s 16ms/step - loss: 2.8151 - accuracy: 0.1225 - val_loss: 3.0443 - val_accuracy: 0.1089\n",
      "Epoch 27/100\n",
      "36221/36221 [==============================] - 565s 16ms/step - loss: 2.8106 - accuracy: 0.1228 - val_loss: 2.8161 - val_accuracy: 0.1223\n",
      "Epoch 28/100\n",
      "36221/36221 [==============================] - 570s 16ms/step - loss: 2.8053 - accuracy: 0.1228 - val_loss: 2.7971 - val_accuracy: 0.1248\n",
      "Epoch 29/100\n",
      "36221/36221 [==============================] - 558s 15ms/step - loss: 2.8002 - accuracy: 0.1231 - val_loss: 2.7899 - val_accuracy: 0.1258\n",
      "Epoch 30/100\n",
      "36221/36221 [==============================] - 563s 16ms/step - loss: 2.7961 - accuracy: 0.1232 - val_loss: 2.7749 - val_accuracy: 0.1260\n",
      "Epoch 31/100\n",
      "36221/36221 [==============================] - 560s 15ms/step - loss: 2.7917 - accuracy: 0.1236 - val_loss: 2.8363 - val_accuracy: 0.1193\n",
      "Epoch 32/100\n",
      "36221/36221 [==============================] - 575s 16ms/step - loss: 2.7878 - accuracy: 0.1232 - val_loss: 2.7778 - val_accuracy: 0.1254\n",
      "Epoch 33/100\n",
      "36221/36221 [==============================] - 568s 16ms/step - loss: 2.7849 - accuracy: 0.1240 - val_loss: 2.8020 - val_accuracy: 0.1198\n",
      "Epoch 34/100\n",
      "36221/36221 [==============================] - 571s 16ms/step - loss: 2.7815 - accuracy: 0.1241 - val_loss: 2.7695 - val_accuracy: 0.1249\n",
      "Epoch 35/100\n",
      "36221/36221 [==============================] - 587s 16ms/step - loss: 2.7780 - accuracy: 0.1241 - val_loss: 2.7718 - val_accuracy: 0.1238\n",
      "Epoch 36/100\n",
      "36221/36221 [==============================] - 580s 16ms/step - loss: 2.7741 - accuracy: 0.1241 - val_loss: 2.7573 - val_accuracy: 0.1256\n",
      "Epoch 37/100\n",
      "36221/36221 [==============================] - 578s 16ms/step - loss: 2.7711 - accuracy: 0.1250 - val_loss: 2.8515 - val_accuracy: 0.1187\n",
      "Epoch 38/100\n",
      "36221/36221 [==============================] - 572s 16ms/step - loss: 2.7686 - accuracy: 0.1244 - val_loss: 2.8073 - val_accuracy: 0.1178\n",
      "Epoch 39/100\n",
      "36221/36221 [==============================] - 595s 16ms/step - loss: 2.7664 - accuracy: 0.1244 - val_loss: 2.7557 - val_accuracy: 0.1247\n",
      "Epoch 40/100\n",
      "19676/36221 [===============>..............] - ETA: 4:30 - loss: 2.7639 - accuracy: 0.1247"
     ]
    }
   ],
   "source": [
    "\n",
    "model_fit = model.fit(x_train, \n",
    "                      y_train, \n",
    "                      epochs = 100,\n",
    "                      validation_data = (x_test, y_test))"
   ]
  },
  {
   "cell_type": "code",
   "execution_count": null,
   "metadata": {
    "id": "wjuD7sDq_aCv"
   },
   "outputs": [],
   "source": [
    "def plot_accuracy(history):\n",
    "    \n",
    "    plt.plot(history.history['accuracy'],label='train accuracy')\n",
    "    plt.plot(history.history['val_accuracy'],label='validation accuracy')\n",
    "    plt.title('Model accuracy')\n",
    "    plt.ylabel('Accuracy')\n",
    "    plt.xlabel('Epoch')\n",
    "    plt.legend(loc='best')\n",
    "    plt.savefig('Accuracy_v1_model_inceptionv3')\n",
    "    plt.show()\n",
    "    \n",
    "def plot_loss(history):\n",
    "    \n",
    "    plt.plot(history.history['loss'],label=\"train loss\")\n",
    "    plt.plot(history.history['val_loss'],label=\"validation loss\")\n",
    "    plt.title('Model loss')\n",
    "    plt.ylabel('Loss')\n",
    "    plt.xlabel('Epoch')\n",
    "    plt.legend(loc='best')\n",
    "    plt.savefig('Loss_v1_model_inceptionv3')\n",
    "    plt.show()\n",
    "    \n",
    "plot_accuracy(model_fit)\n",
    "plot_loss(model_fit)"
   ]
  },
  {
   "cell_type": "code",
   "execution_count": null,
   "metadata": {
    "id": "xZ9-9LhnVqS0"
   },
   "outputs": [],
   "source": []
  },
  {
   "cell_type": "code",
   "execution_count": null,
   "metadata": {
    "id": "TlE5AAOy4K7n"
   },
   "outputs": [],
   "source": [
    "model.save('/content/drive/MyDrive/Capstone/model_exercise.h5')\n",
    "# Convert the model.\n",
    "converter = tf.lite.TFLiteConverter.from_keras_model(model)\n",
    "tflite_model = converter.convert()\n",
    "\n",
    "# Save the model.\n",
    "with open('/content/drive/MyDrive/Capstone/model_exercise.tflite', 'wb') as f:\n",
    "  f.write(tflite_model)"
   ]
  },
  {
   "cell_type": "code",
   "execution_count": null,
   "metadata": {
    "id": "BVQM0EGW9OF1"
   },
   "outputs": [],
   "source": [
    "from keras.models import model_from_json\n",
    "# serialize model to json\n",
    "json_model_exercise = model.to_json()\n",
    "#save the model architecture to JSON file\n",
    "with open('/content/drive/MyDrive/Capstone/exercise_model.json', 'w') as json_file:\n",
    "    json_file.write(json_model_exercise)"
   ]
  },
  {
   "cell_type": "code",
   "execution_count": null,
   "metadata": {
    "id": "ZbQHKN_FvGql"
   },
   "outputs": [],
   "source": [
    "predict_x = model.predict(x_test) \n",
    "classes_x = np.argmax(predict_x,axis=1)\n",
    "#y_pred_class = model.predict_classes(x_test)\n",
    "\n",
    "y_pred = model.predict(x_test)\n",
    "y_test_class = np.argmax(y_test, axis=1)\n",
    "confusion_matrix = confusion_matrix(y_test_class, classes_x)"
   ]
  },
  {
   "cell_type": "code",
   "execution_count": null,
   "metadata": {
    "id": "5SKJNrmds2s1"
   },
   "outputs": [],
   "source": [
    "\n",
    "report = classification_report(y_test_class, classes_x, output_dict=True, zero_division=0)\n",
    "print(report)\n",
    "\n",
    "# Extract the metrics\n",
    "precision = report['macro avg']['precision']\n",
    "recall = report['macro avg']['recall']\n",
    "f1_score = report['macro avg']['f1-score']\n",
    "support = report['macro avg']['support']\n",
    "accuracy = report['accuracy']\n",
    "\n",
    "print(\"accuracy:\", accuracy)\n",
    "print(\"Precision:\", precision)\n",
    "print(\"Recall:\", recall)\n",
    "print(\"F1-score:\", f1_score)\n",
    "print(\"support\" , support)"
   ]
  },
  {
   "cell_type": "code",
   "execution_count": null,
   "metadata": {
    "id": "k005KG1pHG2h"
   },
   "outputs": [],
   "source": [
    "#print(type(confusion_matrix(y_test_class, classes_x)))\n",
    "#print(y_test_class)\n",
    "#print(y_test)\n",
    "print(len(y_test_class))\n",
    "print(len(classes_x))\n",
    "print(len(np.unique(y_test_class)))\n",
    "print(len(np.unique(classes_x)))"
   ]
  },
  {
   "cell_type": "code",
   "execution_count": null,
   "metadata": {
    "id": "0-IDJqedHe6S"
   },
   "outputs": [],
   "source": [
    "dict_activity = dict(enumerate(df_new['activity'].cat.categories))\n",
    "df_new['activity_code'] = df_new['activity'].cat.codes\n",
    "print(df_new['activity_code'])\n",
    "print(dict_activity)\n",
    "df_new['activity_reversed'] = df_new['activity_code'].map(dict_activity)\n",
    "df_y_test_class = pd.DataFrame(y_test_class, columns = ['activity_class'])\n",
    "df_y_test_class['activity_class_reversed'] = df_y_test_class['activity_class'].map(dict_activity)\n",
    "print(df_y_test_class)"
   ]
  },
  {
   "cell_type": "code",
   "execution_count": null,
   "metadata": {
    "id": "RuUDojZkyo0M"
   },
   "outputs": [],
   "source": [
    "\n",
    "\n",
    "\n",
    "\n",
    "\n",
    "df_cm = pd.DataFrame(confusion_matrix(y_test_class, classes_x), columns=np.unique(y_test_class), index=np.unique(y_test_class))\n",
    "df_cm.index.name = 'Actual'\n",
    "df_cm.columns.name = 'Predicted'\n",
    "\n",
    "\n",
    "f, ax = plt.subplots(figsize=(500, 500))\n",
    "cmap = sns.cubehelix_palette(light=1, as_cmap=True)\n",
    "\n",
    "sns.heatmap(df_cm, cbar=False, annot=True, cmap=cmap, square=True, fmt='.0f',\n",
    "            annot_kws={'size': 10})\n",
    "plt.title('Actuals vs Predicted')\n",
    "plt.show()"
   ]
  },
  {
   "cell_type": "code",
   "execution_count": null,
   "metadata": {
    "id": "9ofPOIUd8UGd"
   },
   "outputs": [],
   "source": []
  }
 ],
 "metadata": {
  "colab": {
   "authorship_tag": "ABX9TyP7tx1LYQfCvGVBQqAExD7e",
   "gpuType": "T4",
   "provenance": []
  },
  "kernelspec": {
   "display_name": "Python 3 (ipykernel)",
   "language": "python",
   "name": "python3"
  },
  "language_info": {
   "codemirror_mode": {
    "name": "ipython",
    "version": 3
   },
   "file_extension": ".py",
   "mimetype": "text/x-python",
   "name": "python",
   "nbconvert_exporter": "python",
   "pygments_lexer": "ipython3",
   "version": "3.11.3"
  }
 },
 "nbformat": 4,
 "nbformat_minor": 1
}
