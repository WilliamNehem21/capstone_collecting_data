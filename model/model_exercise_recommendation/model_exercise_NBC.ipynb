{
 "cells": [
  {
   "cell_type": "code",
   "execution_count": 1,
   "metadata": {
    "colab": {
     "base_uri": "https://localhost:8080/"
    },
    "executionInfo": {
     "elapsed": 47621,
     "status": "ok",
     "timestamp": 1685631990694,
     "user": {
      "displayName": "William Nehemia M213DSX0235",
      "userId": "07160615254805994192"
     },
     "user_tz": -420
    },
    "id": "rodIDMFltOx-",
    "outputId": "358cdddd-36af-4fc6-f08f-308ffac0e4fb"
   },
   "outputs": [
    {
     "name": "stdout",
     "output_type": "stream",
     "text": [
      "Mounted at /content/drive\n",
      "  Activity, Exercise or Sport (1 hour) Intensity Description  \\\n",
      "0          Cycling, mountain bike, bmx                   NaN   \n",
      "1  Cycling, <10 mph, leisure bicycling                   NaN   \n",
      "2             Cycling, >20 mph, racing                   NaN   \n",
      "3          Cycling, 10-11.9 mph, light                   NaN   \n",
      "4       Cycling, 12-13.9 mph, moderate                   NaN   \n",
      "\n",
      "   Duration (minutes)  Calories per kg  \n",
      "0                  60         1.750730  \n",
      "1                  60         0.823236  \n",
      "2                  60         3.294974  \n",
      "3                  60         1.234853  \n",
      "4                  60         1.647825  \n"
     ]
    }
   ],
   "source": [
    "from google.colab import drive\n",
    "import pandas as pd\n",
    "from sklearn.model_selection import train_test_split\n",
    "from sklearn.preprocessing import LabelEncoder\n",
    "from keras.utils import np_utils\n",
    "from keras.wrappers.scikit_learn import KerasClassifier\n",
    "from sklearn.model_selection import KFold\n",
    "from sklearn.model_selection import cross_val_score\n",
    "from sklearn.preprocessing import MinMaxScaler\n",
    "import matplotlib.pyplot as plt\n",
    "import numpy as np\n",
    "import tensorflow as tf\n",
    "from tensorflow import keras    \n",
    "from tensorflow.keras.layers import Flatten   \n",
    "from tensorflow.keras.layers import Dense, Dropout\n",
    "import numpy as np\n",
    "import pandas as pd\n",
    "import pickle\n",
    "from sklearn.naive_bayes import GaussianNB\n",
    "\n",
    "# Import LabelEncoder\n",
    "from sklearn import preprocessing\n",
    "# Library untuk feature selection\n",
    "from sklearn.feature_selection import SelectKBest\n",
    "from sklearn.feature_selection import chi2\n",
    "# Import train_test_split function\n",
    "from sklearn.model_selection import train_test_split\n",
    "# Library untuk algoritma klasifikasi KNN\n",
    "from sklearn.neighbors import KNeighborsClassifier\n",
    "#Import scikit-learn metrics module for accuracy calculation\n",
    "#from sklearn import metrics\n",
    "\n",
    "drive.mount(\"/content/drive\")\n",
    "path = \"/content/drive/MyDrive/Capstone/exercise_datasetV2.csv\"\n",
    "df = pd.read_csv(path)\n",
    "print(df.head())\n",
    "banyak_kategori = len(df.index)\n"
   ]
  },
  {
   "cell_type": "code",
   "execution_count": 2,
   "metadata": {
    "colab": {
     "base_uri": "https://localhost:8080/"
    },
    "executionInfo": {
     "elapsed": 3190,
     "status": "ok",
     "timestamp": 1685631993881,
     "user": {
      "displayName": "William Nehemia M213DSX0235",
      "userId": "07160615254805994192"
     },
     "user_tz": -420
    },
    "id": "pxRy28e4uPWD",
    "outputId": "1326bdcd-5274-4ef6-dd82-048bde301d64"
   },
   "outputs": [
    {
     "name": "stdout",
     "output_type": "stream",
     "text": [
      "0\n",
      "1\n",
      "2\n",
      "3\n",
      "4\n",
      "5\n",
      "6\n",
      "7\n",
      "8\n",
      "9\n",
      "10\n",
      "11\n",
      "12\n",
      "13\n",
      "14\n",
      "15\n",
      "16\n",
      "17\n",
      "18\n",
      "19\n",
      "20\n",
      "21\n",
      "22\n",
      "23\n",
      "24\n",
      "25\n",
      "26\n",
      "27\n",
      "28\n",
      "29\n",
      "30\n",
      "31\n",
      "32\n",
      "33\n",
      "34\n",
      "35\n",
      "36\n",
      "37\n",
      "38\n",
      "39\n",
      "40\n",
      "41\n",
      "42\n",
      "43\n",
      "44\n",
      "45\n",
      "46\n",
      "47\n",
      "48\n",
      "49\n",
      "50\n",
      "51\n",
      "52\n",
      "53\n",
      "54\n",
      "55\n",
      "56\n",
      "57\n",
      "58\n",
      "59\n",
      "60\n",
      "61\n",
      "62\n",
      "63\n",
      "64\n",
      "65\n",
      "66\n",
      "67\n",
      "68\n",
      "69\n",
      "70\n",
      "71\n",
      "72\n",
      "73\n",
      "74\n",
      "75\n",
      "76\n",
      "77\n",
      "78\n",
      "79\n",
      "80\n",
      "81\n",
      "82\n",
      "83\n",
      "84\n",
      "85\n",
      "86\n",
      "87\n",
      "88\n",
      "89\n",
      "90\n",
      "91\n",
      "92\n",
      "93\n",
      "94\n",
      "95\n",
      "96\n",
      "97\n",
      "98\n",
      "99\n",
      "100\n",
      "101\n",
      "102\n",
      "103\n",
      "104\n",
      "105\n",
      "106\n",
      "107\n",
      "108\n",
      "109\n",
      "110\n",
      "111\n",
      "112\n",
      "113\n",
      "114\n",
      "115\n",
      "116\n",
      "117\n",
      "118\n",
      "119\n",
      "120\n",
      "121\n",
      "122\n",
      "123\n",
      "124\n",
      "125\n",
      "126\n",
      "127\n",
      "128\n",
      "129\n",
      "130\n",
      "131\n",
      "132\n",
      "133\n",
      "134\n",
      "135\n",
      "136\n",
      "137\n",
      "138\n",
      "139\n",
      "140\n",
      "141\n",
      "142\n",
      "143\n",
      "144\n",
      "145\n",
      "146\n",
      "147\n",
      "148\n",
      "149\n",
      "150\n",
      "151\n",
      "152\n",
      "153\n",
      "154\n",
      "155\n",
      "156\n",
      "157\n",
      "158\n",
      "159\n",
      "160\n",
      "161\n",
      "162\n",
      "163\n",
      "164\n",
      "165\n",
      "166\n",
      "167\n",
      "168\n",
      "169\n",
      "170\n",
      "171\n",
      "172\n",
      "173\n",
      "174\n",
      "175\n",
      "176\n",
      "177\n",
      "178\n",
      "179\n",
      "180\n",
      "181\n",
      "182\n",
      "183\n",
      "184\n",
      "185\n",
      "186\n",
      "187\n",
      "188\n",
      "189\n",
      "190\n",
      "191\n",
      "192\n",
      "193\n",
      "194\n",
      "195\n",
      "196\n",
      "197\n",
      "198\n",
      "199\n",
      "200\n",
      "201\n",
      "202\n",
      "203\n",
      "204\n",
      "205\n",
      "206\n",
      "207\n",
      "208\n",
      "209\n",
      "210\n",
      "211\n",
      "212\n",
      "213\n",
      "214\n",
      "215\n",
      "216\n",
      "217\n",
      "218\n",
      "219\n",
      "220\n",
      "221\n",
      "222\n",
      "223\n",
      "224\n",
      "225\n",
      "226\n",
      "227\n",
      "228\n",
      "229\n",
      "230\n",
      "231\n",
      "232\n",
      "233\n",
      "234\n",
      "235\n",
      "236\n",
      "237\n",
      "238\n",
      "239\n",
      "240\n",
      "241\n",
      "242\n",
      "243\n",
      "244\n",
      "245\n",
      "246\n",
      "247\n",
      "  Activity, Exercise or Sport (1 hour)  Duration (minutes)  Calories per kg  \\\n",
      "0          Cycling, mountain bike, bmx                   1         0.058358   \n",
      "1          Cycling, mountain bike, bmx                   1         0.087536   \n",
      "2          Cycling, mountain bike, bmx                   1         0.116715   \n",
      "3          Cycling, mountain bike, bmx                   1         0.145894   \n",
      "4          Cycling, mountain bike, bmx                   1         0.175073   \n",
      "\n",
      "   berat Intensity Description  \n",
      "0      2                   NaN  \n",
      "1      3                   NaN  \n",
      "2      4                   NaN  \n",
      "3      5                   NaN  \n",
      "4      6                   NaN  \n",
      "            Activity, Exercise or Sport (1 hour)  Duration (minutes)  \\\n",
      "1448811                         General cleaning                  60   \n",
      "1448812                        Cleaning, dusting                  60   \n",
      "1448813                         Taking out trash                  60   \n",
      "1448814            Walking, pushing a wheelchair                  60   \n",
      "1448815  Teach physical education,exercise class                  60   \n",
      "\n",
      "         Calories per kg  berat Intensity Description  \n",
      "1448811         0.721008      1                   NaN  \n",
      "1448812         0.515199      1                   NaN  \n",
      "1448813         0.617427      1                   NaN  \n",
      "1448814         0.823236      1                   NaN  \n",
      "1448815         0.823236      1                   NaN  \n"
     ]
    }
   ],
   "source": [
    "list_berat = []\n",
    "for i in range(len(df.index)):\n",
    "  list_berat.append(1)\n",
    "\n",
    "df['berat'] =  list_berat\n",
    "dict_df = {'Activity, Exercise or Sport (1 hour)' : [], 'Duration (minutes)': [], 'Calories per kg': [], 'berat' : []}\n",
    "df_new = df\n",
    "for index, row in df.iterrows():\n",
    "  print(index)\n",
    "  menit = row['Duration (minutes)']\n",
    "  activity = row['Activity, Exercise or Sport (1 hour)']\n",
    "  calories = row['Calories per kg']\n",
    "  for i in range(1,menit):\n",
    "    for j in range(2,101):\n",
    "      new_calories = calories*1.0/60*i*j\n",
    "      list_activity = dict_df.get('Activity, Exercise or Sport (1 hour)')\n",
    "      list_duration = dict_df.get('Duration (minutes)')\n",
    "      list_calories = dict_df.get('Calories per kg')\n",
    "      list_berat = dict_df.get('berat')\n",
    "      list_activity.append(activity)\n",
    "      list_duration.append(i)\n",
    "      list_calories.append(new_calories)\n",
    "      list_berat.append(j)\n",
    "      #new_row = pd.DataFrame({'Activity, Exercise or Sport (1 hour)' : [activity], 'Duration (minutes)': [i], 'Calories per kg': [new_calories], 'berat' : [j]})\n",
    "      \n",
    "df_curr = pd.DataFrame(dict_df)   \n",
    "df_new = pd.concat([df_curr, df_new.loc[:]]).reset_index(drop=True)\n",
    "#df2 = pd.concat([new_row,df.loc[:]]).reset_index(drop=True)\n",
    "print(df_new.head())\n",
    "print(df_new.tail())"
   ]
  },
  {
   "cell_type": "code",
   "execution_count": 3,
   "metadata": {
    "colab": {
     "base_uri": "https://localhost:8080/"
    },
    "executionInfo": {
     "elapsed": 28,
     "status": "ok",
     "timestamp": 1685631993885,
     "user": {
      "displayName": "William Nehemia M213DSX0235",
      "userId": "07160615254805994192"
     },
     "user_tz": -420
    },
    "id": "0QmN7wY7wnDX",
    "outputId": "c023d784-1c2f-40b0-c08a-957a870a19a5"
   },
   "outputs": [
    {
     "name": "stdout",
     "output_type": "stream",
     "text": [
      "1448816\n",
      "       Duration (minutes)  Calories per kg         berat\n",
      "count        1.448816e+06     1.448816e+06  1.448816e+06\n",
      "mean         3.000514e+01     3.467251e+01  5.099144e+01\n",
      "std          1.703246e+01     3.748635e+01  2.858243e+01\n",
      "min          1.000000e+00     1.033558e-02  1.000000e+00\n",
      "25%          1.500000e+01     8.237434e+00  2.600000e+01\n",
      "50%          3.000000e+01     2.219663e+01  5.100000e+01\n",
      "75%          4.500000e+01     4.774767e+01  7.600000e+01\n",
      "max          6.000000e+01     3.644815e+02  1.000000e+02\n",
      "Activity, Exercise or Sport (1 hour)     object\n",
      "Duration (minutes)                        int64\n",
      "Calories per kg                         float64\n",
      "berat                                     int64\n",
      "Intensity Description                    object\n",
      "dtype: object\n",
      "                      activity  durasi  calories  berat Intensity Description\n",
      "0  Cycling, mountain bike, bmx       1  0.058358      2                   NaN\n",
      "1  Cycling, mountain bike, bmx       1  0.087536      3                   NaN\n",
      "2  Cycling, mountain bike, bmx       1  0.116715      4                   NaN\n",
      "3  Cycling, mountain bike, bmx       1  0.145894      5                   NaN\n",
      "4  Cycling, mountain bike, bmx       1  0.175073      6                   NaN\n"
     ]
    }
   ],
   "source": [
    "print(len(df_new.index))\n",
    "print(df_new.describe())\n",
    "print(df_new.dtypes)\n",
    "df_new.rename(columns = {'Activity, Exercise or Sport (1 hour)':'activity', 'Duration (minutes)' : 'durasi' , 'Calories per kg' : 'calories' }, inplace = True)\n",
    "print(df_new.head())"
   ]
  },
  {
   "cell_type": "code",
   "execution_count": 4,
   "metadata": {
    "colab": {
     "base_uri": "https://localhost:8080/",
     "height": 313
    },
    "executionInfo": {
     "elapsed": 26,
     "status": "ok",
     "timestamp": 1685631993886,
     "user": {
      "displayName": "William Nehemia M213DSX0235",
      "userId": "07160615254805994192"
     },
     "user_tz": -420
    },
    "id": "JNALWDU8wrPL",
    "outputId": "3a2bb75b-f9cd-4a78-8883-c5bc293be251"
   },
   "outputs": [
    {
     "name": "stdout",
     "output_type": "stream",
     "text": [
      "                      activity  durasi  calories  berat Intensity Description\n",
      "0  Cycling, mountain bike, bmx       1  0.058358      2                   NaN\n",
      "1  Cycling, mountain bike, bmx       1  0.087536      3                   NaN\n",
      "2  Cycling, mountain bike, bmx       1  0.116715      4                   NaN\n",
      "3  Cycling, mountain bike, bmx       1  0.145894      5                   NaN\n",
      "4  Cycling, mountain bike, bmx       1  0.175073      6                   NaN\n"
     ]
    },
    {
     "data": {
      "text/html": [
       "\n",
       "  <div id=\"df-b957cd75-3172-4f80-b5ce-c27685955194\">\n",
       "    <div class=\"colab-df-container\">\n",
       "      <div>\n",
       "<style scoped>\n",
       "    .dataframe tbody tr th:only-of-type {\n",
       "        vertical-align: middle;\n",
       "    }\n",
       "\n",
       "    .dataframe tbody tr th {\n",
       "        vertical-align: top;\n",
       "    }\n",
       "\n",
       "    .dataframe thead th {\n",
       "        text-align: right;\n",
       "    }\n",
       "</style>\n",
       "<table border=\"1\" class=\"dataframe\">\n",
       "  <thead>\n",
       "    <tr style=\"text-align: right;\">\n",
       "      <th></th>\n",
       "      <th>durasi</th>\n",
       "      <th>calories</th>\n",
       "      <th>berat</th>\n",
       "    </tr>\n",
       "  </thead>\n",
       "  <tbody>\n",
       "    <tr>\n",
       "      <th>0</th>\n",
       "      <td>1</td>\n",
       "      <td>0.058358</td>\n",
       "      <td>2</td>\n",
       "    </tr>\n",
       "    <tr>\n",
       "      <th>1</th>\n",
       "      <td>1</td>\n",
       "      <td>0.087536</td>\n",
       "      <td>3</td>\n",
       "    </tr>\n",
       "    <tr>\n",
       "      <th>2</th>\n",
       "      <td>1</td>\n",
       "      <td>0.116715</td>\n",
       "      <td>4</td>\n",
       "    </tr>\n",
       "    <tr>\n",
       "      <th>3</th>\n",
       "      <td>1</td>\n",
       "      <td>0.145894</td>\n",
       "      <td>5</td>\n",
       "    </tr>\n",
       "    <tr>\n",
       "      <th>4</th>\n",
       "      <td>1</td>\n",
       "      <td>0.175073</td>\n",
       "      <td>6</td>\n",
       "    </tr>\n",
       "  </tbody>\n",
       "</table>\n",
       "</div>\n",
       "      <button class=\"colab-df-convert\" onclick=\"convertToInteractive('df-b957cd75-3172-4f80-b5ce-c27685955194')\"\n",
       "              title=\"Convert this dataframe to an interactive table.\"\n",
       "              style=\"display:none;\">\n",
       "        \n",
       "  <svg xmlns=\"http://www.w3.org/2000/svg\" height=\"24px\"viewBox=\"0 0 24 24\"\n",
       "       width=\"24px\">\n",
       "    <path d=\"M0 0h24v24H0V0z\" fill=\"none\"/>\n",
       "    <path d=\"M18.56 5.44l.94 2.06.94-2.06 2.06-.94-2.06-.94-.94-2.06-.94 2.06-2.06.94zm-11 1L8.5 8.5l.94-2.06 2.06-.94-2.06-.94L8.5 2.5l-.94 2.06-2.06.94zm10 10l.94 2.06.94-2.06 2.06-.94-2.06-.94-.94-2.06-.94 2.06-2.06.94z\"/><path d=\"M17.41 7.96l-1.37-1.37c-.4-.4-.92-.59-1.43-.59-.52 0-1.04.2-1.43.59L10.3 9.45l-7.72 7.72c-.78.78-.78 2.05 0 2.83L4 21.41c.39.39.9.59 1.41.59.51 0 1.02-.2 1.41-.59l7.78-7.78 2.81-2.81c.8-.78.8-2.07 0-2.86zM5.41 20L4 18.59l7.72-7.72 1.47 1.35L5.41 20z\"/>\n",
       "  </svg>\n",
       "      </button>\n",
       "      \n",
       "  <style>\n",
       "    .colab-df-container {\n",
       "      display:flex;\n",
       "      flex-wrap:wrap;\n",
       "      gap: 12px;\n",
       "    }\n",
       "\n",
       "    .colab-df-convert {\n",
       "      background-color: #E8F0FE;\n",
       "      border: none;\n",
       "      border-radius: 50%;\n",
       "      cursor: pointer;\n",
       "      display: none;\n",
       "      fill: #1967D2;\n",
       "      height: 32px;\n",
       "      padding: 0 0 0 0;\n",
       "      width: 32px;\n",
       "    }\n",
       "\n",
       "    .colab-df-convert:hover {\n",
       "      background-color: #E2EBFA;\n",
       "      box-shadow: 0px 1px 2px rgba(60, 64, 67, 0.3), 0px 1px 3px 1px rgba(60, 64, 67, 0.15);\n",
       "      fill: #174EA6;\n",
       "    }\n",
       "\n",
       "    [theme=dark] .colab-df-convert {\n",
       "      background-color: #3B4455;\n",
       "      fill: #D2E3FC;\n",
       "    }\n",
       "\n",
       "    [theme=dark] .colab-df-convert:hover {\n",
       "      background-color: #434B5C;\n",
       "      box-shadow: 0px 1px 3px 1px rgba(0, 0, 0, 0.15);\n",
       "      filter: drop-shadow(0px 1px 2px rgba(0, 0, 0, 0.3));\n",
       "      fill: #FFFFFF;\n",
       "    }\n",
       "  </style>\n",
       "\n",
       "      <script>\n",
       "        const buttonEl =\n",
       "          document.querySelector('#df-b957cd75-3172-4f80-b5ce-c27685955194 button.colab-df-convert');\n",
       "        buttonEl.style.display =\n",
       "          google.colab.kernel.accessAllowed ? 'block' : 'none';\n",
       "\n",
       "        async function convertToInteractive(key) {\n",
       "          const element = document.querySelector('#df-b957cd75-3172-4f80-b5ce-c27685955194');\n",
       "          const dataTable =\n",
       "            await google.colab.kernel.invokeFunction('convertToInteractive',\n",
       "                                                     [key], {});\n",
       "          if (!dataTable) return;\n",
       "\n",
       "          const docLinkHtml = 'Like what you see? Visit the ' +\n",
       "            '<a target=\"_blank\" href=https://colab.research.google.com/notebooks/data_table.ipynb>data table notebook</a>'\n",
       "            + ' to learn more about interactive tables.';\n",
       "          element.innerHTML = '';\n",
       "          dataTable['output_type'] = 'display_data';\n",
       "          await google.colab.output.renderOutput(dataTable, element);\n",
       "          const docLink = document.createElement('div');\n",
       "          docLink.innerHTML = docLinkHtml;\n",
       "          element.appendChild(docLink);\n",
       "        }\n",
       "      </script>\n",
       "    </div>\n",
       "  </div>\n",
       "  "
      ],
      "text/plain": [
       "   durasi  calories  berat\n",
       "0       1  0.058358      2\n",
       "1       1  0.087536      3\n",
       "2       1  0.116715      4\n",
       "3       1  0.145894      5\n",
       "4       1  0.175073      6"
      ]
     },
     "execution_count": 4,
     "metadata": {},
     "output_type": "execute_result"
    }
   ],
   "source": [
    "target = df['Activity, Exercise or Sport (1 hour)']\n",
    "print(df_new.head())\n",
    "numeric_feature_names = ['durasi', 'calories', 'berat']\n",
    "numeric_features = df_new[numeric_feature_names]\n",
    "numeric_features.head()"
   ]
  },
  {
   "cell_type": "code",
   "execution_count": 5,
   "metadata": {
    "colab": {
     "base_uri": "https://localhost:8080/"
    },
    "executionInfo": {
     "elapsed": 20,
     "status": "ok",
     "timestamp": 1685631993886,
     "user": {
      "displayName": "William Nehemia M213DSX0235",
      "userId": "07160615254805994192"
     },
     "user_tz": -420
    },
    "id": "YDdjSP0GQbHE",
    "outputId": "afca43b1-f18d-4aa2-dc4a-f631a3ddf021"
   },
   "outputs": [
    {
     "name": "stdout",
     "output_type": "stream",
     "text": [
      "248\n"
     ]
    }
   ],
   "source": [
    "jumlah_class = len(df_new['activity'].value_counts())\n",
    "print(jumlah_class)"
   ]
  },
  {
   "cell_type": "code",
   "execution_count": 6,
   "metadata": {
    "colab": {
     "base_uri": "https://localhost:8080/"
    },
    "executionInfo": {
     "elapsed": 19,
     "status": "ok",
     "timestamp": 1685631993888,
     "user": {
      "displayName": "William Nehemia M213DSX0235",
      "userId": "07160615254805994192"
     },
     "user_tz": -420
    },
    "id": "XZ8bIl60W6BF",
    "outputId": "6ba63ec9-f6fd-484f-cd3b-7645e506a7c1"
   },
   "outputs": [
    {
     "name": "stdout",
     "output_type": "stream",
     "text": [
      "                      activity  durasi  calories  berat Intensity Description  \\\n",
      "0  Cycling, mountain bike, bmx       1  0.058358      2                   NaN   \n",
      "1  Cycling, mountain bike, bmx       1  0.087536      3                   NaN   \n",
      "2  Cycling, mountain bike, bmx       1  0.116715      4                   NaN   \n",
      "3  Cycling, mountain bike, bmx       1  0.145894      5                   NaN   \n",
      "4  Cycling, mountain bike, bmx       1  0.175073      6                   NaN   \n",
      "\n",
      "  activity_category  \n",
      "0                61  \n",
      "1                61  \n",
      "2                61  \n",
      "3                61  \n",
      "4                61  \n"
     ]
    }
   ],
   "source": [
    "df_new['activity'] = df_new['activity'].astype('category')\n",
    "df_new['activity_category'] = df_new['activity'].cat.codes.astype('category')\n",
    "print(df_new.head())"
   ]
  },
  {
   "cell_type": "code",
   "execution_count": 7,
   "metadata": {
    "executionInfo": {
     "elapsed": 18,
     "status": "ok",
     "timestamp": 1685631993889,
     "user": {
      "displayName": "William Nehemia M213DSX0235",
      "userId": "07160615254805994192"
     },
     "user_tz": -420
    },
    "id": "jQoBYTS2XSHR"
   },
   "outputs": [],
   "source": [
    "df_new_2 = df_new.drop(columns = ['activity', 'Intensity Description'])"
   ]
  },
  {
   "cell_type": "code",
   "execution_count": 8,
   "metadata": {
    "executionInfo": {
     "elapsed": 17,
     "status": "ok",
     "timestamp": 1685631993889,
     "user": {
      "displayName": "William Nehemia M213DSX0235",
      "userId": "07160615254805994192"
     },
     "user_tz": -420
    },
    "id": "b87zqOZ93r2F"
   },
   "outputs": [],
   "source": [
    "df_new_2['durasi'] = MinMaxScaler().fit_transform(np.array(df_new_2['durasi']).reshape(-1,1))\n",
    "df_new_2['calories'] = MinMaxScaler().fit_transform(np.array(df_new_2['calories']).reshape(-1,1))\n",
    "df_new_2['berat'] = MinMaxScaler().fit_transform(np.array(df_new_2['berat']).reshape(-1,1))"
   ]
  },
  {
   "cell_type": "code",
   "execution_count": 9,
   "metadata": {
    "executionInfo": {
     "elapsed": 18,
     "status": "ok",
     "timestamp": 1685631993890,
     "user": {
      "displayName": "William Nehemia M213DSX0235",
      "userId": "07160615254805994192"
     },
     "user_tz": -420
    },
    "id": "wtcXPL4CWJoR"
   },
   "outputs": [],
   "source": [
    "df_fitur = df_new_2[['durasi', 'calories', 'berat']]\n",
    "fitur_np = np.array(df_fitur.values)"
   ]
  },
  {
   "cell_type": "code",
   "execution_count": 10,
   "metadata": {
    "executionInfo": {
     "elapsed": 597,
     "status": "ok",
     "timestamp": 1685631994470,
     "user": {
      "displayName": "William Nehemia M213DSX0235",
      "userId": "07160615254805994192"
     },
     "user_tz": -420
    },
    "id": "pnHsikIKW301"
   },
   "outputs": [],
   "source": [
    "label_np = np.array(df_new['activity_category'].values)"
   ]
  },
  {
   "cell_type": "code",
   "execution_count": 11,
   "metadata": {
    "executionInfo": {
     "elapsed": 7,
     "status": "ok",
     "timestamp": 1685631994470,
     "user": {
      "displayName": "William Nehemia M213DSX0235",
      "userId": "07160615254805994192"
     },
     "user_tz": -420
    },
    "id": "ki1UDCcRWpKE"
   },
   "outputs": [],
   "source": [
    "X_train, X_test, Y_train, Y_test = train_test_split(fitur_np, label_np, test_size=0.3) "
   ]
  },
  {
   "cell_type": "code",
   "execution_count": 12,
   "metadata": {
    "executionInfo": {
     "elapsed": 6,
     "status": "ok",
     "timestamp": 1685631994471,
     "user": {
      "displayName": "William Nehemia M213DSX0235",
      "userId": "07160615254805994192"
     },
     "user_tz": -420
    },
    "id": "Sd171-DdYKnf"
   },
   "outputs": [],
   "source": [
    "listPrecision = []\n",
    "listAccuracy = []\n",
    "listRecall = []\n",
    "listF1_score = []\n",
    "listSupport = []"
   ]
  },
  {
   "cell_type": "code",
   "execution_count": 13,
   "metadata": {
    "executionInfo": {
     "elapsed": 18257,
     "status": "ok",
     "timestamp": 1685632012722,
     "user": {
      "displayName": "William Nehemia M213DSX0235",
      "userId": "07160615254805994192"
     },
     "user_tz": -420
    },
    "id": "bFIQXO7xXEgu"
   },
   "outputs": [],
   "source": [
    "kNN_model = KNeighborsClassifier(n_neighbors=3)\n",
    "kNN_model.fit(X_train, Y_train)\n",
    "Y_pred = kNN_model.predict(X_test)\n",
    "activity_classes = df_new.activity.unique()"
   ]
  },
  {
   "cell_type": "code",
   "execution_count": 14,
   "metadata": {
    "colab": {
     "base_uri": "https://localhost:8080/"
    },
    "executionInfo": {
     "elapsed": 4182,
     "status": "ok",
     "timestamp": 1685632016902,
     "user": {
      "displayName": "William Nehemia M213DSX0235",
      "userId": "07160615254805994192"
     },
     "user_tz": -420
    },
    "id": "rWzOrkd4XgtY",
    "outputId": "a10f5ed4-f91e-4013-c1a4-66224d960156"
   },
   "outputs": [
    {
     "name": "stderr",
     "output_type": "stream",
     "text": [
      "/usr/local/lib/python3.10/dist-packages/sklearn/metrics/_classification.py:1344: UndefinedMetricWarning: Precision and F-score are ill-defined and being set to 0.0 in labels with no predicted samples. Use `zero_division` parameter to control this behavior.\n",
      "  _warn_prf(average, modifier, msg_start, len(result))\n",
      "/usr/local/lib/python3.10/dist-packages/sklearn/metrics/_classification.py:1344: UndefinedMetricWarning: Precision and F-score are ill-defined and being set to 0.0 in labels with no predicted samples. Use `zero_division` parameter to control this behavior.\n",
      "  _warn_prf(average, modifier, msg_start, len(result))\n",
      "/usr/local/lib/python3.10/dist-packages/sklearn/metrics/_classification.py:1344: UndefinedMetricWarning: Precision and F-score are ill-defined and being set to 0.0 in labels with no predicted samples. Use `zero_division` parameter to control this behavior.\n",
      "  _warn_prf(average, modifier, msg_start, len(result))\n"
     ]
    },
    {
     "name": "stdout",
     "output_type": "stream",
     "text": [
      "                                           precision    recall  f1-score   support\n",
      "\n",
      "              Cycling, mountain bike, bmx       0.00      0.01      0.01      1728\n",
      "      Cycling, <10 mph, leisure bicycling       0.00      0.00      0.00      1773\n",
      "                 Cycling, >20 mph, racing       0.00      0.00      0.00      1718\n",
      "              Cycling, 10-11.9 mph, light       0.06      0.09      0.07      1809\n",
      "           Cycling, 12-13.9 mph, moderate       0.00      0.00      0.00      1779\n",
      "           Cycling, 14-15.9 mph, vigorous       0.00      0.00      0.00      1725\n",
      "    Cycling, 16-19 mph, very fast, racing       0.00      0.00      0.00      1816\n",
      "                               Unicycling       0.00      0.00      0.00      1733\n",
      "           Stationary cycling, very light       0.00      0.00      0.00      1734\n",
      "                Stationary cycling, light       0.01      0.03      0.01      1824\n",
      "             Stationary cycling, moderate       0.00      0.00      0.00      1676\n",
      "             Stationary cycling, vigorous       0.00      0.00      0.00      1783\n",
      "        Stationary cycling, very vigorous       0.00      0.00      0.00      1776\n",
      " Calisthenics, vigorous, pushups, situps…       0.00      0.00      0.00      1764\n",
      "                      Calisthenics, light       0.00      0.01      0.00      1767\n",
      "           Circuit training, minimal rest       0.00      0.00      0.00      1763\n",
      "  Weight lifting, body building, vigorous       0.00      0.00      0.00      1718\n",
      "            Weight lifting, light workout       0.00      0.00      0.00      1809\n",
      "                     Health club exercise       0.00      0.00      0.00      1784\n",
      "                            Stair machine       0.00      0.00      0.00      1782\n",
      "                    Rowing machine, light       0.00      0.00      0.00      1748\n",
      "                 Rowing machine, moderate       0.00      0.00      0.00      1788\n",
      "                 Rowing machine, vigorous       0.00      0.00      0.00      1740\n",
      "            Rowing machine, very vigorous       0.00      0.00      0.00      1755\n",
      "                              Ski machine       0.00      0.00      0.00      1717\n",
      "                     Aerobics, low impact       0.00      0.00      0.00      1727\n",
      "                    Aerobics, high impact       0.00      0.00      0.00      1698\n",
      "                  Aerobics, step aerobics       0.00      0.00      0.00      1724\n",
      "                        Aerobics, general       0.00      0.00      0.00      1734\n",
      "                               Jazzercise       0.00      0.00      0.00      1741\n",
      "                   Stretching, hatha yoga       0.00      0.00      0.00      1757\n",
      "                          Mild stretching       0.00      0.00      0.00      1769\n",
      "                Instructing aerobic class       0.00      0.00      0.00      1739\n",
      "                           Water aerobics       0.00      0.00      0.00      1674\n",
      "                 Ballet, twist, jazz, tap       0.00      0.00      0.00      1801\n",
      "                   Ballroom dancing, slow       0.00      0.00      0.00      1766\n",
      "                   Ballroom dancing, fast       0.00      0.00      0.00      1715\n",
      "          Running, 5 mph (12 minute mile)       0.00      0.00      0.00      1793\n",
      "      Running, 5.2 mph (11.5 minute mile)       0.00      0.00      0.00      1656\n",
      "             Running, 6 mph (10 min mile)       0.00      0.00      0.00      1754\n",
      "            Running, 6.7 mph (9 min mile)       0.00      0.00      0.00      1798\n",
      "            Running, 7 mph (8.5 min mile)       1.00      0.23      0.37      1748\n",
      "             Running, 7.5mph (8 min mile)       0.00      0.00      0.00      1796\n",
      "            Running, 8 mph (7.5 min mile)       0.00      0.00      0.00      1786\n",
      "            Running, 8.6 mph (7 min mile)       0.00      0.00      0.00      1764\n",
      "            Running, 9 mph (6.5 min mile)       0.00      0.00      0.00      1707\n",
      "             Running, 10 mph (6 min mile)       0.00      0.00      0.00      1797\n",
      "         Running, 10.9 mph (5.5 min mile)       0.00      0.00      0.00      1708\n",
      "                   Running, cross country       0.00      0.00      0.00      1732\n",
      "                         Running, general       0.00      0.00      0.00      1806\n",
      "       Running, on a track, team practice       0.10      0.17      0.13      1759\n",
      "                      Running, stairs, up       0.12      0.27      0.17      1831\n",
      "           Track and field (shot, discus)       0.00      0.00      0.00      1751\n",
      "  Track and field (high jump, pole vault)       0.00      0.00      0.00      1773\n",
      "                Track and field (hurdles)       0.00      0.00      0.00      1749\n",
      "                                  Archery       0.00      0.00      0.00      1754\n",
      "                                Badminton       0.00      0.00      0.00      1779\n",
      "             Basketball game, competitive       0.00      0.00      0.00      1731\n",
      "             Playing basketball, non game       0.00      0.00      0.00      1747\n",
      "                  Basketball, officiating       0.00      0.00      0.00      1752\n",
      "             Basketball, shooting baskets       0.05      0.09      0.06      1795\n",
      "                   Basketball, wheelchair       0.01      0.01      0.01      1803\n",
      "    Running, training, pushing wheelchair       0.00      0.00      0.00      1762\n",
      "                                Billiards       0.00      0.00      0.00      1791\n",
      "                                  Bowling       0.00      0.00      0.00      1786\n",
      "                          Boxing, in ring       0.00      0.00      0.00      1799\n",
      "                     Boxing, punching bag       0.00      0.00      0.00      1690\n",
      "                         Boxing, sparring       0.00      0.00      0.00      1691\n",
      "  Coaching: football, basketball, soccer…       0.00      0.00      0.00      1776\n",
      "               Cricket (batting, bowling)       0.00      0.00      0.00      1750\n",
      "                                  Croquet       0.00      0.00      0.00      1750\n",
      "                                  Curling       0.00      0.00      0.00      1736\n",
      "                     Darts (wall or lawn)       0.00      0.00      0.00      1689\n",
      "                                  Fencing       0.00      0.00      0.00      1709\n",
      "                    Football, competitive       0.00      0.00      0.00      1769\n",
      "           Football, touch, flag, general       0.00      0.00      0.00      1761\n",
      "      Football or baseball, playing catch       0.00      0.00      0.00      1735\n",
      "                 Frisbee playing, general       0.00      0.00      0.00      1734\n",
      "                Frisbee, ultimate frisbee       0.00      0.00      0.00      1804\n",
      "                            Golf, general       0.00      0.00      0.00      1726\n",
      "         Golf, walking and carrying clubs       0.03      0.00      0.00      1751\n",
      "                      Golf, driving range       0.00      0.00      0.00      1723\n",
      "                     Golf, miniature golf       0.00      0.00      0.00      1752\n",
      "          Golf, walking and pulling clubs       0.00      0.00      0.00      1803\n",
      "                   Golf, using power cart       0.00      0.00      0.00      1815\n",
      "                               Gymnastics       0.01      0.01      0.01      1806\n",
      "                               Hacky sack       0.00      0.00      0.00      1726\n",
      "                                 Handball       0.00      0.00      0.00      1753\n",
      "                           Handball, team       0.00      0.00      0.00      1691\n",
      "                     Hockey, field hockey       0.00      0.00      0.00      1724\n",
      "                       Hockey, ice hockey       0.00      0.00      0.00      1788\n",
      "                  Riding a horse, general       0.00      0.00      0.00      1747\n",
      "         Horesback riding, saddling horse       0.00      0.00      0.00      1780\n",
      "         Horseback riding, grooming horse       0.00      0.00      0.00      1782\n",
      "               Horseback riding, trotting       0.00      0.00      0.00      1791\n",
      "                Horseback riding, walking       0.00      0.00      0.00      1780\n",
      "                  Horse racing, galloping       0.01      0.00      0.01      1763\n",
      "                 Horse grooming, moderate       0.00      0.00      0.00      1751\n",
      "                       Horseshoe pitching       0.00      0.00      0.00      1790\n",
      "                                 Jai alai       0.00      0.00      0.00      1778\n",
      "      Martial arts, judo, karate, jujitsu       0.00      0.00      0.00      1820\n",
      "                Martial arts, kick boxing       0.00      0.00      0.00      1750\n",
      "                Martial arts, tae kwan do       0.00      0.00      0.00      1804\n",
      "                       Krav maga training       0.00      0.00      0.00      1740\n",
      "                                 Juggling       0.00      0.00      0.00      1701\n",
      "                                 Kickball       0.00      0.00      0.00      1743\n",
      "                                 Lacrosse       0.00      0.00      0.00      1742\n",
      "                             Orienteering       0.00      0.00      0.00      1770\n",
      "                       Playing paddleball       0.00      0.00      0.00      1706\n",
      "                  Paddleball, competitive       0.00      0.00      0.00      1738\n",
      "                                     Polo       0.00      0.00      0.00      1757\n",
      "                 Racquetball, competitive       0.01      0.00      0.00      1750\n",
      "                      Playing racquetball       0.00      0.00      0.00      1756\n",
      "            Rock climbing, ascending rock       0.00      0.00      0.00      1762\n",
      "                Rock climbing, rappelling       0.00      0.00      0.00      1710\n",
      "                       Jumping rope, fast       0.00      0.00      0.00      1780\n",
      "                   Jumping rope, moderate       0.00      0.00      0.00      1739\n",
      "                       Jumping rope, slow       0.00      0.00      0.00      1736\n",
      "                                    Rugby       0.00      0.00      0.00      1731\n",
      "               Shuffleboard, lawn bowling       0.00      0.00      0.00      1683\n",
      "                            Skateboarding       0.00      0.00      0.00      1725\n",
      "                           Roller skating       0.00      0.00      0.00      1758\n",
      "          Roller blading, in-line skating       0.00      0.00      0.00      1781\n",
      "                               Sky diving       0.00      0.00      0.00      1756\n",
      "                      Soccer, competitive       0.00      0.00      0.00      1792\n",
      "                           Playing soccer       0.00      0.00      0.00      1767\n",
      "                     Softball or baseball       0.00      0.00      0.00      1704\n",
      "                    Softball, officiating       0.00      0.00      0.00      1752\n",
      "                       Softball, pitching       0.00      0.00      0.00      1747\n",
      "                                   Squash       0.00      0.00      0.00      1769\n",
      "                  Table tennis, ping pong       0.00      0.00      0.00      1742\n",
      "                                  Tai chi       0.00      0.00      0.00      1742\n",
      "                           Playing tennis       0.00      0.00      0.00      1808\n",
      "                          Tennis, doubles       0.09      0.00      0.00      1775\n",
      "                          Tennis, singles       0.00      0.00      0.00      1746\n",
      "                               Trampoline       0.00      0.00      0.00      1723\n",
      "                  Volleyball, competitive       0.07      0.12      0.09      1737\n",
      "                       Playing volleyball       0.00      0.00      0.00      1754\n",
      "                        Volleyball, beach       0.00      0.00      0.00      1766\n",
      "                                Wrestling       0.00      0.00      0.00      1724\n",
      "                                Wallyball       0.00      0.00      0.00      1837\n",
      "            Backpacking, Hiking with pack       0.00      0.00      0.00      1747\n",
      "            Carrying infant, level ground       0.00      0.00      0.00      1753\n",
      "                Carrying infant, upstairs       0.00      0.00      0.00      1799\n",
      "          Carrying 16 to 24 lbs, upstairs       0.05      0.01      0.02      1758\n",
      "          Carrying 25 to 49 lbs, upstairs       0.00      0.00      0.00      1765\n",
      "   Standing, playing with children, light       0.01      0.01      0.01      1812\n",
      "Walk/run, playing with children, moderate       0.96      0.59      0.73      1733\n",
      "Walk/run, playing with children, vigorous       0.00      0.00      0.00      1772\n",
      "                  Carrying small children       0.00      0.00      0.00      1782\n",
      "                   Loading, unloading car       0.00      0.00      0.00      1712\n",
      "     Climbing hills, carrying up to 9 lbs       0.02      0.02      0.02      1703\n",
      "     Climbing hills, carrying 10 to 20 lb       0.35      0.13      0.19      1815\n",
      "     Climbing hills, carrying 21 to 42 lb       0.15      0.09      0.11      1710\n",
      "      Climbing hills, carrying over 42 lb       0.20      0.15      0.17      1774\n",
      "                       Walking downstairs       0.08      0.04      0.06      1757\n",
      "                    Hiking, cross country       0.16      0.16      0.16      1820\n",
      "                            Bird watching       0.00      0.00      0.00      1705\n",
      "              Marching, rapidly, military       0.00      0.00      0.00      1719\n",
      "   Children's games, hopscotch, dodgeball       0.00      0.00      0.00      1743\n",
      "Pushing stroller or walking with children       0.02      0.01      0.01      1739\n",
      "                     Pushing a wheelchair       0.00      0.00      0.00      1702\n",
      "                             Race walking       0.00      0.00      0.00      1735\n",
      "         Rock climbing, mountain climbing       0.00      0.00      0.00      1726\n",
      "                   Walking using crutches       0.00      0.00      0.00      1729\n",
      "                          Walking the dog       0.00      0.00      0.00      1744\n",
      "        Walking, under 2.0 mph, very slow       0.00      0.00      0.00      1692\n",
      "                    Walking 2.0 mph, slow       0.00      0.00      0.00      1799\n",
      "                          Walking 2.5 mph       0.00      0.00      0.00      1761\n",
      "                Walking 3.0 mph, moderate       0.00      0.00      0.00      1748\n",
      "              Walking 3.5 mph, brisk pace       0.00      0.00      0.00      1731\n",
      "                  Walking 3.5 mph, uphill       0.03      0.01      0.01      1750\n",
      "              Walking 4.0 mph, very brisk       0.02      0.00      0.01      1679\n",
      "                          Walking 4.5 mph       0.00      0.00      0.00      1752\n",
      "                          Walking 5.0 mph       0.00      0.00      0.00      1681\n",
      "               Boating, power, speed boat       0.00      0.00      0.00      1808\n",
      "                   Canoeing, camping trip       0.00      0.00      0.00      1707\n",
      "                  Canoeing, rowing, light       0.00      0.00      0.00      1735\n",
      "               Canoeing, rowing, moderate       0.00      0.00      0.00      1813\n",
      "               Canoeing, rowing, vigorous       0.00      0.00      0.00      1739\n",
      "      Crew, sculling, rowing, competition       0.00      0.00      0.00      1712\n",
      "                                 Kayaking       0.00      0.00      0.00      1752\n",
      "                              Paddle boat       0.00      0.00      0.00      1799\n",
      "                     Windsurfing, sailing       0.00      0.00      0.00      1786\n",
      "                     Sailing, competition       0.03      0.01      0.02      1763\n",
      "         Sailing, yachting, ocean sailing       0.00      0.00      0.00      1740\n",
      "                     Skiing, water skiing       0.00      0.00      0.00      1797\n",
      "                             Ski mobiling       1.00      0.00      0.00      1707\n",
      "                        Skin diving, fast       0.00      0.00      0.00      1754\n",
      "                    Skin diving, moderate       0.00      0.00      0.00      1742\n",
      "                Skin diving, scuba diving       0.00      0.00      0.00      1684\n",
      "                               Snorkeling       0.02      0.00      0.01      1772\n",
      "   Surfing, body surfing or board surfing       0.81      0.14      0.24      1754\n",
      "   Whitewater rafting, kayaking, canoeing       0.00      0.00      0.00      1771\n",
      "           Swimming laps, freestyle, fast       0.00      0.00      0.00      1748\n",
      "           Swimming laps, freestyle, slow       0.00      0.00      0.00      1716\n",
      "                      Swimming backstroke       0.00      0.00      0.00      1759\n",
      "                    Swimming breaststroke       0.03      0.00      0.01      1740\n",
      "                       Swimming butterfly       0.00      0.00      0.00      1689\n",
      "             Swimming leisurely, not laps       0.00      0.00      0.00      1756\n",
      "                      Swimming sidestroke       0.00      0.00      0.00      1747\n",
      "                    Swimming synchronized       0.00      0.00      0.00      1723\n",
      " Swimming, treading water, fast, vigorous       0.00      0.00      0.00      1827\n",
      "       Swimming, treading water, moderate       0.00      0.00      0.00      1742\n",
      "       Water aerobics, water calisthenics       0.00      0.00      0.00      1729\n",
      "                               Water polo       0.00      0.00      0.00      1770\n",
      "                         Water volleyball       0.00      0.00      0.00      1756\n",
      "                            Water jogging       0.00      0.00      0.00      1809\n",
      "          Diving, springboard or platform       0.00      0.00      0.00      1729\n",
      "                     Ice skating, < 9 mph       0.00      0.00      0.00      1702\n",
      "               Ice skating, average speed       0.00      0.00      0.00      1730\n",
      "                     Ice skating, rapidly       0.00      0.00      0.00      1759\n",
      "          Speed skating, ice, competitive       0.00      0.00      0.00      1790\n",
      "          Cross country snow skiing, slow       0.00      0.00      0.00      1729\n",
      "           Cross country skiing, moderate       0.00      0.00      0.00      1748\n",
      "           Cross country skiing, vigorous       0.00      0.00      0.00      1774\n",
      "             Cross country skiing, racing       0.00      0.00      0.00      1746\n",
      "             Cross country skiing, uphill       0.00      0.00      0.00      1733\n",
      "      Snow skiing, downhill skiing, light       0.00      0.00      0.00      1729\n",
      "           Downhill snow skiing, moderate       0.00      0.00      0.00      1738\n",
      "             Downhill snow skiing, racing       0.00      0.00      0.00      1742\n",
      "              Sledding, tobagganing, luge       0.00      0.00      0.00      1799\n",
      "                             Snow shoeing       0.00      0.00      0.00      1705\n",
      "                             Snowmobiling       1.00      0.00      0.00      1744\n",
      "                        General housework       1.00      0.00      0.00      1780\n",
      "                         Cleaning gutters       0.00      0.00      0.00      1709\n",
      "                                 Painting       0.00      0.00      0.00      1708\n",
      "                Sit, playing with animals       0.08      0.00      0.00      1708\n",
      "         Walk / run, playing with animals       0.00      0.00      0.00      1755\n",
      "                              Bathing dog       0.00      0.00      0.00      1799\n",
      "           Mowing lawn, walk, power mower       0.00      0.00      0.00      1758\n",
      "                Mowing lawn, riding mower       0.00      0.00      0.00      1846\n",
      "                     Walking, snow blower       0.00      0.00      0.00      1745\n",
      "                      Riding, snow blower       0.00      0.00      0.00      1741\n",
      "                   Shoveling snow by hand       0.57      0.18      0.27      1791\n",
      "                              Raking lawn       0.00      0.00      0.00      1682\n",
      "                       Gardening, general       0.00      0.00      0.00      1697\n",
      "                    Bagging grass, leaves       0.00      0.00      0.00      1791\n",
      "                  Watering lawn or garden       0.00      0.00      0.00      1728\n",
      "              Weeding, cultivating garden       0.00      0.00      0.00      1722\n",
      "                       Carpentry, general       0.00      0.00      0.00      1754\n",
      "                     Carrying heavy loads       1.00      0.37      0.54      1758\n",
      "         Carrying moderate loads upstairs       0.00      0.00      0.00      1779\n",
      "                         General cleaning       0.00      0.00      0.00      1770\n",
      "                        Cleaning, dusting       0.00      0.00      0.00      1729\n",
      "                         Taking out trash       0.00      0.00      0.00      1762\n",
      "            Walking, pushing a wheelchair       0.00      0.00      0.00      1762\n",
      "  Teach physical education,exercise class       0.00      0.00      0.00      1783\n",
      "\n",
      "                                 accuracy                           0.01    434645\n",
      "                                macro avg       0.04      0.01      0.01    434645\n",
      "                             weighted avg       0.04      0.01      0.01    434645\n",
      "\n"
     ]
    },
    {
     "name": "stderr",
     "output_type": "stream",
     "text": [
      "/usr/local/lib/python3.10/dist-packages/sklearn/metrics/_classification.py:1344: UndefinedMetricWarning: Precision and F-score are ill-defined and being set to 0.0 in labels with no predicted samples. Use `zero_division` parameter to control this behavior.\n",
      "  _warn_prf(average, modifier, msg_start, len(result))\n",
      "/usr/local/lib/python3.10/dist-packages/sklearn/metrics/_classification.py:1344: UndefinedMetricWarning: Precision and F-score are ill-defined and being set to 0.0 in labels with no predicted samples. Use `zero_division` parameter to control this behavior.\n",
      "  _warn_prf(average, modifier, msg_start, len(result))\n",
      "/usr/local/lib/python3.10/dist-packages/sklearn/metrics/_classification.py:1344: UndefinedMetricWarning: Precision and F-score are ill-defined and being set to 0.0 in labels with no predicted samples. Use `zero_division` parameter to control this behavior.\n",
      "  _warn_prf(average, modifier, msg_start, len(result))\n"
     ]
    }
   ],
   "source": [
    "from sklearn.metrics import classification_report\n",
    "print(classification_report(Y_test, Y_pred, target_names = activity_classes))\n",
    "report = classification_report(Y_test, Y_pred, output_dict=True, target_names = activity_classes )"
   ]
  },
  {
   "cell_type": "code",
   "execution_count": 18,
   "metadata": {
    "executionInfo": {
     "elapsed": 11210,
     "status": "ok",
     "timestamp": 1685632132567,
     "user": {
      "displayName": "William Nehemia M213DSX0235",
      "userId": "07160615254805994192"
     },
     "user_tz": -420
    },
    "id": "3_awpnrKZajt"
   },
   "outputs": [],
   "source": [
    "model_nb = GaussianNB()\n",
    "model_nb.fit(X_train, Y_train)\n",
    "Y_pred = model_nb.predict(X_test)\n",
    "activity_classes = df_new.activity.unique()\n",
    "report = classification_report(Y_test, Y_pred, output_dict=True, target_names = activity_classes, zero_division=1 )\n",
    "precision = report['macro avg']['precision'] \n",
    "accuracy = report['accuracy'] \n",
    "recall = report['macro avg']['recall'] \n",
    "f1_score = report['macro avg']['f1-score'] \n",
    "support = report['macro avg']['support'] "
   ]
  },
  {
   "cell_type": "code",
   "execution_count": 19,
   "metadata": {
    "colab": {
     "base_uri": "https://localhost:8080/"
    },
    "executionInfo": {
     "elapsed": 16,
     "status": "ok",
     "timestamp": 1685632132567,
     "user": {
      "displayName": "William Nehemia M213DSX0235",
      "userId": "07160615254805994192"
     },
     "user_tz": -420
    },
    "id": "_jarHZ_tf9Vi",
    "outputId": "608936f1-f516-45ee-fa58-404141befe5b"
   },
   "outputs": [
    {
     "name": "stdout",
     "output_type": "stream",
     "text": [
      "0.5868995369204587\n",
      "0.0075578920728410545\n",
      "0.007600647283131911\n",
      "0.0021401226593932413\n",
      "434645\n"
     ]
    }
   ],
   "source": [
    "print(precision)\n",
    "print(accuracy)\n",
    "print(recall)\n",
    "print(f1_score)\n",
    "print(support)\n"
   ]
  },
  {
   "cell_type": "code",
   "execution_count": null,
   "metadata": {
    "executionInfo": {
     "elapsed": 6,
     "status": "aborted",
     "timestamp": 1685632028176,
     "user": {
      "displayName": "William Nehemia M213DSX0235",
      "userId": "07160615254805994192"
     },
     "user_tz": -420
    },
    "id": "Qt3Vpp8MaSsO"
   },
   "outputs": [],
   "source": [
    "idx = [range(2,51)]\n",
    "df_report = pd.DataFrame(list(zip(listPrecision, listAccuracy, listRecall, listF1_score, listSupport)),\n",
    "               columns =['precision', 'accuracy', 'recall', 'f1_score', 'support'], index = idx)"
   ]
  },
  {
   "cell_type": "code",
   "execution_count": null,
   "metadata": {
    "executionInfo": {
     "elapsed": 6,
     "status": "aborted",
     "timestamp": 1685632028177,
     "user": {
      "displayName": "William Nehemia M213DSX0235",
      "userId": "07160615254805994192"
     },
     "user_tz": -420
    },
    "id": "uerYxiwfagkZ"
   },
   "outputs": [],
   "source": [
    "import matplotlib.pyplot as plt\n",
    "plt.scatter(idx,df_report['precision'])\n",
    "plt.title(\"scatter plot precision\")\n",
    "plt.xlabel(\"jumlah neighbour terbaik\")\n",
    "plt.ylabel(\"precision\")\n",
    "plt.show()"
   ]
  },
  {
   "cell_type": "code",
   "execution_count": null,
   "metadata": {
    "executionInfo": {
     "elapsed": 87382,
     "status": "aborted",
     "timestamp": 1685632028177,
     "user": {
      "displayName": "William Nehemia M213DSX0235",
      "userId": "07160615254805994192"
     },
     "user_tz": -420
    },
    "id": "Erw34lsZani9"
   },
   "outputs": [],
   "source": [
    "import matplotlib.pyplot as plt\n",
    "plt.scatter(idx,df_report['accuracy'])\n",
    "plt.title(\"scatter plot accuracy\")\n",
    "plt.xlabel(\"jumlah neighbour terbaik\")\n",
    "plt.ylabel(\"accuracy\")\n",
    "plt.show()"
   ]
  },
  {
   "cell_type": "code",
   "execution_count": null,
   "metadata": {
    "executionInfo": {
     "elapsed": 87381,
     "status": "aborted",
     "timestamp": 1685632028178,
     "user": {
      "displayName": "William Nehemia M213DSX0235",
      "userId": "07160615254805994192"
     },
     "user_tz": -420
    },
    "id": "iQfHRzfQapZ-"
   },
   "outputs": [],
   "source": [
    "import matplotlib.pyplot as plt\n",
    "plt.scatter(idx,df_report['recall'])\n",
    "plt.title(\"scatter plot recall\")\n",
    "plt.xlabel(\"jumlah neighbour terbaik\")\n",
    "plt.ylabel(\"recall\")\n",
    "plt.show()"
   ]
  },
  {
   "cell_type": "code",
   "execution_count": null,
   "metadata": {
    "executionInfo": {
     "elapsed": 87379,
     "status": "aborted",
     "timestamp": 1685632028178,
     "user": {
      "displayName": "William Nehemia M213DSX0235",
      "userId": "07160615254805994192"
     },
     "user_tz": -420
    },
    "id": "SQ4Pf1OIaq_y"
   },
   "outputs": [],
   "source": [
    "import matplotlib.pyplot as plt\n",
    "plt.scatter(idx,df_report['f1_score'])\n",
    "plt.title(\"scatter plot f1 score\")\n",
    "plt.xlabel(\"jumlah neighbour terbaik\")\n",
    "plt.ylabel(\"f1 score\")\n",
    "plt.show()"
   ]
  },
  {
   "cell_type": "code",
   "execution_count": null,
   "metadata": {
    "executionInfo": {
     "elapsed": 87377,
     "status": "aborted",
     "timestamp": 1685632028179,
     "user": {
      "displayName": "William Nehemia M213DSX0235",
      "userId": "07160615254805994192"
     },
     "user_tz": -420
    },
    "id": "-Y_xDvKgatGI"
   },
   "outputs": [],
   "source": [
    "\n",
    "import matplotlib.pyplot as plt\n",
    "plt.scatter(idx,df_report['support'])\n",
    "plt.title(\"scatter plot support\")\n",
    "plt.xlabel(\"jumlah neighbour terbaik\")\n",
    "plt.ylabel(\"support\")\n",
    "plt.show()"
   ]
  },
  {
   "cell_type": "code",
   "execution_count": null,
   "metadata": {
    "executionInfo": {
     "elapsed": 5,
     "status": "aborted",
     "timestamp": 1685632029156,
     "user": {
      "displayName": "William Nehemia M213DSX0235",
      "userId": "07160615254805994192"
     },
     "user_tz": -420
    },
    "id": "k8HkxZb_V9k1"
   },
   "outputs": [],
   "source": [
    "X = array_4kol_iris\n",
    "Y = df_new['activity_category']\n"
   ]
  },
  {
   "cell_type": "code",
   "execution_count": null,
   "metadata": {
    "executionInfo": {
     "elapsed": 6,
     "status": "aborted",
     "timestamp": 1685632029157,
     "user": {
      "displayName": "William Nehemia M213DSX0235",
      "userId": "07160615254805994192"
     },
     "user_tz": -420
    },
    "id": "YP6424uZr3nY"
   },
   "outputs": [],
   "source": [
    "y = tf.keras.utils.to_categorical(df_new[\"activity_category\"].values, num_classes=jumlah_class)\n",
    "\n",
    "x_train, x_test, y_train, y_test = train_test_split(df_new_2, y, test_size=0.2)"
   ]
  },
  {
   "cell_type": "code",
   "execution_count": null,
   "metadata": {
    "executionInfo": {
     "elapsed": 6,
     "status": "aborted",
     "timestamp": 1685632029157,
     "user": {
      "displayName": "William Nehemia M213DSX0235",
      "userId": "07160615254805994192"
     },
     "user_tz": -420
    },
    "id": "zLE-5kdtvThB"
   },
   "outputs": [],
   "source": [
    "x_train=np.asarray(x_train).astype(np.int)\n",
    "\n",
    "y_train=np.asarray(y_train).astype(np.int)"
   ]
  },
  {
   "cell_type": "code",
   "execution_count": null,
   "metadata": {
    "executionInfo": {
     "elapsed": 7,
     "status": "aborted",
     "timestamp": 1685632029158,
     "user": {
      "displayName": "William Nehemia M213DSX0235",
      "userId": "07160615254805994192"
     },
     "user_tz": -420
    },
    "id": "V2hzVHinWGnW"
   },
   "outputs": [],
   "source": [
    "model = get_model()"
   ]
  },
  {
   "cell_type": "code",
   "execution_count": null,
   "metadata": {
    "executionInfo": {
     "elapsed": 7,
     "status": "aborted",
     "timestamp": 1685632029158,
     "user": {
      "displayName": "William Nehemia M213DSX0235",
      "userId": "07160615254805994192"
     },
     "user_tz": -420
    },
    "id": "wjuD7sDq_aCv"
   },
   "outputs": [],
   "source": [
    "def plot_accuracy(history):\n",
    "    \n",
    "    plt.plot(history.history['accuracy'],label='train accuracy')\n",
    "    plt.plot(history.history['val_accuracy'],label='validation accuracy')\n",
    "    plt.title('Model accuracy')\n",
    "    plt.ylabel('Accuracy')\n",
    "    plt.xlabel('Epoch')\n",
    "    plt.legend(loc='best')\n",
    "    plt.savefig('Accuracy_v1_model_inceptionv3')\n",
    "    plt.show()\n",
    "    \n",
    "def plot_loss(history):\n",
    "    \n",
    "    plt.plot(history.history['loss'],label=\"train loss\")\n",
    "    plt.plot(history.history['val_loss'],label=\"validation loss\")\n",
    "    plt.title('Model loss')\n",
    "    plt.ylabel('Loss')\n",
    "    plt.xlabel('Epoch')\n",
    "    plt.legend(loc='best')\n",
    "    plt.savefig('Loss_v1_model_inceptionv3')\n",
    "    plt.show()\n",
    "    \n",
    "plot_accuracy(model_fit)\n",
    "plot_loss(model_fit)"
   ]
  },
  {
   "cell_type": "code",
   "execution_count": null,
   "metadata": {
    "executionInfo": {
     "elapsed": 6,
     "status": "aborted",
     "timestamp": 1685632029158,
     "user": {
      "displayName": "William Nehemia M213DSX0235",
      "userId": "07160615254805994192"
     },
     "user_tz": -420
    },
    "id": "xZ9-9LhnVqS0"
   },
   "outputs": [],
   "source": []
  },
  {
   "cell_type": "code",
   "execution_count": null,
   "metadata": {
    "executionInfo": {
     "elapsed": 7,
     "status": "aborted",
     "timestamp": 1685632029159,
     "user": {
      "displayName": "William Nehemia M213DSX0235",
      "userId": "07160615254805994192"
     },
     "user_tz": -420
    },
    "id": "TlE5AAOy4K7n"
   },
   "outputs": [],
   "source": [
    "model.save('/content/drive/MyDrive/Capstone/model_exercise.h5')\n",
    "# Convert the model.\n",
    "converter = tf.lite.TFLiteConverter.from_keras_model(model)\n",
    "tflite_model = converter.convert()\n",
    "\n",
    "# Save the model.\n",
    "with open('/content/drive/MyDrive/Capstone/model_exercise.tflite', 'wb') as f:\n",
    "  f.write(tflite_model)"
   ]
  }
 ],
 "metadata": {
  "colab": {
   "authorship_tag": "ABX9TyMUi+rjYOsyYacHhO6B/A9P",
   "provenance": []
  },
  "kernelspec": {
   "display_name": "Python 3 (ipykernel)",
   "language": "python",
   "name": "python3"
  },
  "language_info": {
   "codemirror_mode": {
    "name": "ipython",
    "version": 3
   },
   "file_extension": ".py",
   "mimetype": "text/x-python",
   "name": "python",
   "nbconvert_exporter": "python",
   "pygments_lexer": "ipython3",
   "version": "3.11.3"
  }
 },
 "nbformat": 4,
 "nbformat_minor": 1
}
