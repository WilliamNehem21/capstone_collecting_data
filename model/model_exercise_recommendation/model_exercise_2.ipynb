{
 "cells": [
  {
   "cell_type": "code",
   "execution_count": 1,
   "metadata": {
    "colab": {
     "base_uri": "https://localhost:8080/"
    },
    "executionInfo": {
     "elapsed": 17371,
     "status": "ok",
     "timestamp": 1685521769926,
     "user": {
      "displayName": "William Nehemia M213DSX0235",
      "userId": "07160615254805994192"
     },
     "user_tz": -420
    },
    "id": "rodIDMFltOx-",
    "outputId": "5c993c39-b4dd-4f7e-ebb7-36a2e755bf26"
   },
   "outputs": [
    {
     "name": "stdout",
     "output_type": "stream",
     "text": [
      "Drive already mounted at /content/drive; to attempt to forcibly remount, call drive.mount(\"/content/drive\", force_remount=True).\n",
      "  Activity, Exercise or Sport (1 hour) Intensity Description  \\\n",
      "0          Cycling, mountain bike, bmx                   NaN   \n",
      "1  Cycling, <10 mph, leisure bicycling                   NaN   \n",
      "2             Cycling, >20 mph, racing                   NaN   \n",
      "3          Cycling, 10-11.9 mph, light                   NaN   \n",
      "4       Cycling, 12-13.9 mph, moderate                   NaN   \n",
      "\n",
      "   Duration (minutes)  Calories per kg  \n",
      "0                  60         1.750730  \n",
      "1                  60         0.823236  \n",
      "2                  60         3.294974  \n",
      "3                  60         1.234853  \n",
      "4                  60         1.647825  \n"
     ]
    }
   ],
   "source": [
    "from google.colab import drive\n",
    "import pandas as pd\n",
    "from sklearn.model_selection import train_test_split\n",
    "from sklearn.preprocessing import LabelEncoder\n",
    "from keras.utils import np_utils\n",
    "from keras.wrappers.scikit_learn import KerasClassifier\n",
    "from sklearn.model_selection import KFold\n",
    "from sklearn.model_selection import cross_val_score\n",
    "from sklearn.preprocessing import MinMaxScaler\n",
    "import matplotlib.pyplot as plt\n",
    "import numpy as np\n",
    "import tensorflow as tf\n",
    "from tensorflow import keras    \n",
    "from tensorflow.keras.layers import Flatten   \n",
    "from tensorflow.keras.layers import Dense, Dropout\n",
    "drive.mount(\"/content/drive\")\n",
    "path = \"/content/drive/MyDrive/Capstone/exercise_datasetV2.csv\"\n",
    "df = pd.read_csv(path)\n",
    "print(df.head())\n",
    "banyak_kategori = len(df.index)\n"
   ]
  },
  {
   "cell_type": "code",
   "execution_count": 2,
   "metadata": {
    "colab": {
     "base_uri": "https://localhost:8080/"
    },
    "executionInfo": {
     "elapsed": 3424,
     "status": "ok",
     "timestamp": 1685521773343,
     "user": {
      "displayName": "William Nehemia M213DSX0235",
      "userId": "07160615254805994192"
     },
     "user_tz": -420
    },
    "id": "pxRy28e4uPWD",
    "outputId": "5192dc57-7a07-4494-e2a9-ec7d9acbaf34"
   },
   "outputs": [
    {
     "name": "stdout",
     "output_type": "stream",
     "text": [
      "0\n",
      "1\n",
      "2\n",
      "3\n",
      "4\n",
      "5\n",
      "6\n",
      "7\n",
      "8\n",
      "9\n",
      "10\n",
      "11\n",
      "12\n",
      "13\n",
      "14\n",
      "15\n",
      "16\n",
      "17\n",
      "18\n",
      "19\n",
      "20\n",
      "21\n",
      "22\n",
      "23\n",
      "24\n",
      "25\n",
      "26\n",
      "27\n",
      "28\n",
      "29\n",
      "30\n",
      "31\n",
      "32\n",
      "33\n",
      "34\n",
      "35\n",
      "36\n",
      "37\n",
      "38\n",
      "39\n",
      "40\n",
      "41\n",
      "42\n",
      "43\n",
      "44\n",
      "45\n",
      "46\n",
      "47\n",
      "48\n",
      "49\n",
      "50\n",
      "51\n",
      "52\n",
      "53\n",
      "54\n",
      "55\n",
      "56\n",
      "57\n",
      "58\n",
      "59\n",
      "60\n",
      "61\n",
      "62\n",
      "63\n",
      "64\n",
      "65\n",
      "66\n",
      "67\n",
      "68\n",
      "69\n",
      "70\n",
      "71\n",
      "72\n",
      "73\n",
      "74\n",
      "75\n",
      "76\n",
      "77\n",
      "78\n",
      "79\n",
      "80\n",
      "81\n",
      "82\n",
      "83\n",
      "84\n",
      "85\n",
      "86\n",
      "87\n",
      "88\n",
      "89\n",
      "90\n",
      "91\n",
      "92\n",
      "93\n",
      "94\n",
      "95\n",
      "96\n",
      "97\n",
      "98\n",
      "99\n",
      "100\n",
      "101\n",
      "102\n",
      "103\n",
      "104\n",
      "105\n",
      "106\n",
      "107\n",
      "108\n",
      "109\n",
      "110\n",
      "111\n",
      "112\n",
      "113\n",
      "114\n",
      "115\n",
      "116\n",
      "117\n",
      "118\n",
      "119\n",
      "120\n",
      "121\n",
      "122\n",
      "123\n",
      "124\n",
      "125\n",
      "126\n",
      "127\n",
      "128\n",
      "129\n",
      "130\n",
      "131\n",
      "132\n",
      "133\n",
      "134\n",
      "135\n",
      "136\n",
      "137\n",
      "138\n",
      "139\n",
      "140\n",
      "141\n",
      "142\n",
      "143\n",
      "144\n",
      "145\n",
      "146\n",
      "147\n",
      "148\n",
      "149\n",
      "150\n",
      "151\n",
      "152\n",
      "153\n",
      "154\n",
      "155\n",
      "156\n",
      "157\n",
      "158\n",
      "159\n",
      "160\n",
      "161\n",
      "162\n",
      "163\n",
      "164\n",
      "165\n",
      "166\n",
      "167\n",
      "168\n",
      "169\n",
      "170\n",
      "171\n",
      "172\n",
      "173\n",
      "174\n",
      "175\n",
      "176\n",
      "177\n",
      "178\n",
      "179\n",
      "180\n",
      "181\n",
      "182\n",
      "183\n",
      "184\n",
      "185\n",
      "186\n",
      "187\n",
      "188\n",
      "189\n",
      "190\n",
      "191\n",
      "192\n",
      "193\n",
      "194\n",
      "195\n",
      "196\n",
      "197\n",
      "198\n",
      "199\n",
      "200\n",
      "201\n",
      "202\n",
      "203\n",
      "204\n",
      "205\n",
      "206\n",
      "207\n",
      "208\n",
      "209\n",
      "210\n",
      "211\n",
      "212\n",
      "213\n",
      "214\n",
      "215\n",
      "216\n",
      "217\n",
      "218\n",
      "219\n",
      "220\n",
      "221\n",
      "222\n",
      "223\n",
      "224\n",
      "225\n",
      "226\n",
      "227\n",
      "228\n",
      "229\n",
      "230\n",
      "231\n",
      "232\n",
      "233\n",
      "234\n",
      "235\n",
      "236\n",
      "237\n",
      "238\n",
      "239\n",
      "240\n",
      "241\n",
      "242\n",
      "243\n",
      "244\n",
      "245\n",
      "246\n",
      "247\n",
      "  Activity, Exercise or Sport (1 hour)  Duration (minutes)  Calories per kg  \\\n",
      "0          Cycling, mountain bike, bmx                   1         0.058358   \n",
      "1          Cycling, mountain bike, bmx                   1         0.087536   \n",
      "2          Cycling, mountain bike, bmx                   1         0.116715   \n",
      "3          Cycling, mountain bike, bmx                   1         0.145894   \n",
      "4          Cycling, mountain bike, bmx                   1         0.175073   \n",
      "\n",
      "   berat Intensity Description  \n",
      "0      2                   NaN  \n",
      "1      3                   NaN  \n",
      "2      4                   NaN  \n",
      "3      5                   NaN  \n",
      "4      6                   NaN  \n",
      "            Activity, Exercise or Sport (1 hour)  Duration (minutes)  \\\n",
      "1448811                         General cleaning                  60   \n",
      "1448812                        Cleaning, dusting                  60   \n",
      "1448813                         Taking out trash                  60   \n",
      "1448814            Walking, pushing a wheelchair                  60   \n",
      "1448815  Teach physical education,exercise class                  60   \n",
      "\n",
      "         Calories per kg  berat Intensity Description  \n",
      "1448811         0.721008      1                   NaN  \n",
      "1448812         0.515199      1                   NaN  \n",
      "1448813         0.617427      1                   NaN  \n",
      "1448814         0.823236      1                   NaN  \n",
      "1448815         0.823236      1                   NaN  \n"
     ]
    }
   ],
   "source": [
    "list_berat = []\n",
    "for i in range(len(df.index)):\n",
    "  list_berat.append(1)\n",
    "\n",
    "df['berat'] =  list_berat\n",
    "dict_df = {'Activity, Exercise or Sport (1 hour)' : [], 'Duration (minutes)': [], 'Calories per kg': [], 'berat' : []}\n",
    "df_new = df\n",
    "for index, row in df.iterrows():\n",
    "  print(index)\n",
    "  menit = row['Duration (minutes)']\n",
    "  activity = row['Activity, Exercise or Sport (1 hour)']\n",
    "  calories = row['Calories per kg']\n",
    "  for i in range(1,menit):\n",
    "    for j in range(2,101):\n",
    "      new_calories = calories*1.0/60*i*j\n",
    "      list_activity = dict_df.get('Activity, Exercise or Sport (1 hour)')\n",
    "      list_duration = dict_df.get('Duration (minutes)')\n",
    "      list_calories = dict_df.get('Calories per kg')\n",
    "      list_berat = dict_df.get('berat')\n",
    "      list_activity.append(activity)\n",
    "      list_duration.append(i)\n",
    "      list_calories.append(new_calories)\n",
    "      list_berat.append(j)\n",
    "      #new_row = pd.DataFrame({'Activity, Exercise or Sport (1 hour)' : [activity], 'Duration (minutes)': [i], 'Calories per kg': [new_calories], 'berat' : [j]})\n",
    "      \n",
    "df_curr = pd.DataFrame(dict_df)   \n",
    "df_new = pd.concat([df_curr, df_new.loc[:]]).reset_index(drop=True)\n",
    "#df2 = pd.concat([new_row,df.loc[:]]).reset_index(drop=True)\n",
    "print(df_new.head())\n",
    "print(df_new.tail())"
   ]
  },
  {
   "cell_type": "code",
   "execution_count": 3,
   "metadata": {
    "colab": {
     "base_uri": "https://localhost:8080/"
    },
    "executionInfo": {
     "elapsed": 28,
     "status": "ok",
     "timestamp": 1685521773344,
     "user": {
      "displayName": "William Nehemia M213DSX0235",
      "userId": "07160615254805994192"
     },
     "user_tz": -420
    },
    "id": "0QmN7wY7wnDX",
    "outputId": "e03b4662-c9c7-4bfe-fe8d-47227fd97d20"
   },
   "outputs": [
    {
     "name": "stdout",
     "output_type": "stream",
     "text": [
      "1448816\n",
      "       Duration (minutes)  Calories per kg         berat\n",
      "count        1.448816e+06     1.448816e+06  1.448816e+06\n",
      "mean         3.000514e+01     3.467251e+01  5.099144e+01\n",
      "std          1.703246e+01     3.748635e+01  2.858243e+01\n",
      "min          1.000000e+00     1.033558e-02  1.000000e+00\n",
      "25%          1.500000e+01     8.237434e+00  2.600000e+01\n",
      "50%          3.000000e+01     2.219663e+01  5.100000e+01\n",
      "75%          4.500000e+01     4.774767e+01  7.600000e+01\n",
      "max          6.000000e+01     3.644815e+02  1.000000e+02\n",
      "Activity, Exercise or Sport (1 hour)     object\n",
      "Duration (minutes)                        int64\n",
      "Calories per kg                         float64\n",
      "berat                                     int64\n",
      "Intensity Description                    object\n",
      "dtype: object\n",
      "                      activity  durasi  calories  berat Intensity Description\n",
      "0  Cycling, mountain bike, bmx       1  0.058358      2                   NaN\n",
      "1  Cycling, mountain bike, bmx       1  0.087536      3                   NaN\n",
      "2  Cycling, mountain bike, bmx       1  0.116715      4                   NaN\n",
      "3  Cycling, mountain bike, bmx       1  0.145894      5                   NaN\n",
      "4  Cycling, mountain bike, bmx       1  0.175073      6                   NaN\n"
     ]
    }
   ],
   "source": [
    "print(len(df_new.index))\n",
    "print(df_new.describe())\n",
    "print(df_new.dtypes)\n",
    "df_new.rename(columns = {'Activity, Exercise or Sport (1 hour)':'activity', 'Duration (minutes)' : 'durasi' , 'Calories per kg' : 'calories' }, inplace = True)\n",
    "print(df_new.head())"
   ]
  },
  {
   "cell_type": "code",
   "execution_count": 4,
   "metadata": {
    "colab": {
     "base_uri": "https://localhost:8080/",
     "height": 313
    },
    "executionInfo": {
     "elapsed": 24,
     "status": "ok",
     "timestamp": 1685521773344,
     "user": {
      "displayName": "William Nehemia M213DSX0235",
      "userId": "07160615254805994192"
     },
     "user_tz": -420
    },
    "id": "JNALWDU8wrPL",
    "outputId": "dba602a9-09e6-46af-ac81-ef4c2c70e54b"
   },
   "outputs": [
    {
     "name": "stdout",
     "output_type": "stream",
     "text": [
      "                      activity  durasi  calories  berat Intensity Description\n",
      "0  Cycling, mountain bike, bmx       1  0.058358      2                   NaN\n",
      "1  Cycling, mountain bike, bmx       1  0.087536      3                   NaN\n",
      "2  Cycling, mountain bike, bmx       1  0.116715      4                   NaN\n",
      "3  Cycling, mountain bike, bmx       1  0.145894      5                   NaN\n",
      "4  Cycling, mountain bike, bmx       1  0.175073      6                   NaN\n"
     ]
    },
    {
     "data": {
      "text/html": [
       "\n",
       "  <div id=\"df-10fb32f3-c512-44e1-bb6c-04f64d19ef4b\">\n",
       "    <div class=\"colab-df-container\">\n",
       "      <div>\n",
       "<style scoped>\n",
       "    .dataframe tbody tr th:only-of-type {\n",
       "        vertical-align: middle;\n",
       "    }\n",
       "\n",
       "    .dataframe tbody tr th {\n",
       "        vertical-align: top;\n",
       "    }\n",
       "\n",
       "    .dataframe thead th {\n",
       "        text-align: right;\n",
       "    }\n",
       "</style>\n",
       "<table border=\"1\" class=\"dataframe\">\n",
       "  <thead>\n",
       "    <tr style=\"text-align: right;\">\n",
       "      <th></th>\n",
       "      <th>durasi</th>\n",
       "      <th>calories</th>\n",
       "      <th>berat</th>\n",
       "    </tr>\n",
       "  </thead>\n",
       "  <tbody>\n",
       "    <tr>\n",
       "      <th>0</th>\n",
       "      <td>1</td>\n",
       "      <td>0.058358</td>\n",
       "      <td>2</td>\n",
       "    </tr>\n",
       "    <tr>\n",
       "      <th>1</th>\n",
       "      <td>1</td>\n",
       "      <td>0.087536</td>\n",
       "      <td>3</td>\n",
       "    </tr>\n",
       "    <tr>\n",
       "      <th>2</th>\n",
       "      <td>1</td>\n",
       "      <td>0.116715</td>\n",
       "      <td>4</td>\n",
       "    </tr>\n",
       "    <tr>\n",
       "      <th>3</th>\n",
       "      <td>1</td>\n",
       "      <td>0.145894</td>\n",
       "      <td>5</td>\n",
       "    </tr>\n",
       "    <tr>\n",
       "      <th>4</th>\n",
       "      <td>1</td>\n",
       "      <td>0.175073</td>\n",
       "      <td>6</td>\n",
       "    </tr>\n",
       "  </tbody>\n",
       "</table>\n",
       "</div>\n",
       "      <button class=\"colab-df-convert\" onclick=\"convertToInteractive('df-10fb32f3-c512-44e1-bb6c-04f64d19ef4b')\"\n",
       "              title=\"Convert this dataframe to an interactive table.\"\n",
       "              style=\"display:none;\">\n",
       "        \n",
       "  <svg xmlns=\"http://www.w3.org/2000/svg\" height=\"24px\"viewBox=\"0 0 24 24\"\n",
       "       width=\"24px\">\n",
       "    <path d=\"M0 0h24v24H0V0z\" fill=\"none\"/>\n",
       "    <path d=\"M18.56 5.44l.94 2.06.94-2.06 2.06-.94-2.06-.94-.94-2.06-.94 2.06-2.06.94zm-11 1L8.5 8.5l.94-2.06 2.06-.94-2.06-.94L8.5 2.5l-.94 2.06-2.06.94zm10 10l.94 2.06.94-2.06 2.06-.94-2.06-.94-.94-2.06-.94 2.06-2.06.94z\"/><path d=\"M17.41 7.96l-1.37-1.37c-.4-.4-.92-.59-1.43-.59-.52 0-1.04.2-1.43.59L10.3 9.45l-7.72 7.72c-.78.78-.78 2.05 0 2.83L4 21.41c.39.39.9.59 1.41.59.51 0 1.02-.2 1.41-.59l7.78-7.78 2.81-2.81c.8-.78.8-2.07 0-2.86zM5.41 20L4 18.59l7.72-7.72 1.47 1.35L5.41 20z\"/>\n",
       "  </svg>\n",
       "      </button>\n",
       "      \n",
       "  <style>\n",
       "    .colab-df-container {\n",
       "      display:flex;\n",
       "      flex-wrap:wrap;\n",
       "      gap: 12px;\n",
       "    }\n",
       "\n",
       "    .colab-df-convert {\n",
       "      background-color: #E8F0FE;\n",
       "      border: none;\n",
       "      border-radius: 50%;\n",
       "      cursor: pointer;\n",
       "      display: none;\n",
       "      fill: #1967D2;\n",
       "      height: 32px;\n",
       "      padding: 0 0 0 0;\n",
       "      width: 32px;\n",
       "    }\n",
       "\n",
       "    .colab-df-convert:hover {\n",
       "      background-color: #E2EBFA;\n",
       "      box-shadow: 0px 1px 2px rgba(60, 64, 67, 0.3), 0px 1px 3px 1px rgba(60, 64, 67, 0.15);\n",
       "      fill: #174EA6;\n",
       "    }\n",
       "\n",
       "    [theme=dark] .colab-df-convert {\n",
       "      background-color: #3B4455;\n",
       "      fill: #D2E3FC;\n",
       "    }\n",
       "\n",
       "    [theme=dark] .colab-df-convert:hover {\n",
       "      background-color: #434B5C;\n",
       "      box-shadow: 0px 1px 3px 1px rgba(0, 0, 0, 0.15);\n",
       "      filter: drop-shadow(0px 1px 2px rgba(0, 0, 0, 0.3));\n",
       "      fill: #FFFFFF;\n",
       "    }\n",
       "  </style>\n",
       "\n",
       "      <script>\n",
       "        const buttonEl =\n",
       "          document.querySelector('#df-10fb32f3-c512-44e1-bb6c-04f64d19ef4b button.colab-df-convert');\n",
       "        buttonEl.style.display =\n",
       "          google.colab.kernel.accessAllowed ? 'block' : 'none';\n",
       "\n",
       "        async function convertToInteractive(key) {\n",
       "          const element = document.querySelector('#df-10fb32f3-c512-44e1-bb6c-04f64d19ef4b');\n",
       "          const dataTable =\n",
       "            await google.colab.kernel.invokeFunction('convertToInteractive',\n",
       "                                                     [key], {});\n",
       "          if (!dataTable) return;\n",
       "\n",
       "          const docLinkHtml = 'Like what you see? Visit the ' +\n",
       "            '<a target=\"_blank\" href=https://colab.research.google.com/notebooks/data_table.ipynb>data table notebook</a>'\n",
       "            + ' to learn more about interactive tables.';\n",
       "          element.innerHTML = '';\n",
       "          dataTable['output_type'] = 'display_data';\n",
       "          await google.colab.output.renderOutput(dataTable, element);\n",
       "          const docLink = document.createElement('div');\n",
       "          docLink.innerHTML = docLinkHtml;\n",
       "          element.appendChild(docLink);\n",
       "        }\n",
       "      </script>\n",
       "    </div>\n",
       "  </div>\n",
       "  "
      ],
      "text/plain": [
       "   durasi  calories  berat\n",
       "0       1  0.058358      2\n",
       "1       1  0.087536      3\n",
       "2       1  0.116715      4\n",
       "3       1  0.145894      5\n",
       "4       1  0.175073      6"
      ]
     },
     "execution_count": 4,
     "metadata": {},
     "output_type": "execute_result"
    }
   ],
   "source": [
    "target = df['Activity, Exercise or Sport (1 hour)']\n",
    "print(df_new.head())\n",
    "numeric_feature_names = ['durasi', 'calories', 'berat']\n",
    "numeric_features = df_new[numeric_feature_names]\n",
    "numeric_features.head()"
   ]
  },
  {
   "cell_type": "code",
   "execution_count": 5,
   "metadata": {
    "executionInfo": {
     "elapsed": 46211,
     "status": "ok",
     "timestamp": 1685521819549,
     "user": {
      "displayName": "William Nehemia M213DSX0235",
      "userId": "07160615254805994192"
     },
     "user_tz": -420
    },
    "id": "XQC99uUiJ2XJ"
   },
   "outputs": [],
   "source": [
    "import tensorflow as tf\n",
    "tf.convert_to_tensor(numeric_features)\n",
    "normalizer = tf.keras.layers.Normalization(axis=-1)\n",
    "normalizer.adapt(numeric_features)"
   ]
  },
  {
   "cell_type": "code",
   "execution_count": 12,
   "metadata": {
    "colab": {
     "base_uri": "https://localhost:8080/"
    },
    "executionInfo": {
     "elapsed": 21,
     "status": "ok",
     "timestamp": 1685521819553,
     "user": {
      "displayName": "William Nehemia M213DSX0235",
      "userId": "07160615254805994192"
     },
     "user_tz": -420
    },
    "id": "YDdjSP0GQbHE",
    "outputId": "d4e37879-f5ce-4599-b2c5-14dcda6776e0"
   },
   "outputs": [
    {
     "name": "stdout",
     "output_type": "stream",
     "text": [
      "248\n"
     ]
    }
   ],
   "source": [
    "jumlah_class = len(df_new['activity'].value_counts())\n",
    "print(jumlah_class)"
   ]
  },
  {
   "cell_type": "code",
   "execution_count": 13,
   "metadata": {
    "colab": {
     "base_uri": "https://localhost:8080/"
    },
    "executionInfo": {
     "elapsed": 17,
     "status": "ok",
     "timestamp": 1685521819553,
     "user": {
      "displayName": "William Nehemia M213DSX0235",
      "userId": "07160615254805994192"
     },
     "user_tz": -420
    },
    "id": "XZ8bIl60W6BF",
    "outputId": "9bb613ac-4013-46db-c968-55dacc28a12f"
   },
   "outputs": [
    {
     "name": "stdout",
     "output_type": "stream",
     "text": [
      "                      activity  durasi  calories  berat Intensity Description  \\\n",
      "0  Cycling, mountain bike, bmx       1  0.058358      2                   NaN   \n",
      "1  Cycling, mountain bike, bmx       1  0.087536      3                   NaN   \n",
      "2  Cycling, mountain bike, bmx       1  0.116715      4                   NaN   \n",
      "3  Cycling, mountain bike, bmx       1  0.145894      5                   NaN   \n",
      "4  Cycling, mountain bike, bmx       1  0.175073      6                   NaN   \n",
      "\n",
      "  activity_category  \n",
      "0                61  \n",
      "1                61  \n",
      "2                61  \n",
      "3                61  \n",
      "4                61  \n"
     ]
    }
   ],
   "source": [
    "df_new['activity'] = df_new['activity'].astype('category')\n",
    "df_new['activity_category'] = df_new['activity'].cat.codes.astype('category')\n",
    "print(df_new.head())"
   ]
  },
  {
   "cell_type": "code",
   "execution_count": 14,
   "metadata": {
    "executionInfo": {
     "elapsed": 16,
     "status": "ok",
     "timestamp": 1685521819554,
     "user": {
      "displayName": "William Nehemia M213DSX0235",
      "userId": "07160615254805994192"
     },
     "user_tz": -420
    },
    "id": "jQoBYTS2XSHR"
   },
   "outputs": [],
   "source": [
    "df_new_2 = df_new.drop(columns = ['activity', 'Intensity Description'])"
   ]
  },
  {
   "cell_type": "code",
   "execution_count": 15,
   "metadata": {
    "executionInfo": {
     "elapsed": 16,
     "status": "ok",
     "timestamp": 1685521819554,
     "user": {
      "displayName": "William Nehemia M213DSX0235",
      "userId": "07160615254805994192"
     },
     "user_tz": -420
    },
    "id": "b87zqOZ93r2F"
   },
   "outputs": [],
   "source": [
    "df_new_2['durasi'] = MinMaxScaler().fit_transform(np.array(df_new_2['durasi']).reshape(-1,1))\n",
    "df_new_2['calories'] = MinMaxScaler().fit_transform(np.array(df_new_2['calories']).reshape(-1,1))\n",
    "df_new_2['berat'] = MinMaxScaler().fit_transform(np.array(df_new_2['berat']).reshape(-1,1))"
   ]
  },
  {
   "cell_type": "code",
   "execution_count": 16,
   "metadata": {
    "executionInfo": {
     "elapsed": 5592,
     "status": "ok",
     "timestamp": 1685521825131,
     "user": {
      "displayName": "William Nehemia M213DSX0235",
      "userId": "07160615254805994192"
     },
     "user_tz": -420
    },
    "id": "YP6424uZr3nY"
   },
   "outputs": [],
   "source": [
    "y = tf.keras.utils.to_categorical(df_new[\"activity_category\"].values, num_classes=jumlah_class)\n",
    "\n",
    "x_train, x_test, y_train, y_test = train_test_split(df_new_2, y, test_size=0.2)"
   ]
  },
  {
   "cell_type": "code",
   "execution_count": 17,
   "metadata": {
    "executionInfo": {
     "elapsed": 15,
     "status": "ok",
     "timestamp": 1685521825132,
     "user": {
      "displayName": "William Nehemia M213DSX0235",
      "userId": "07160615254805994192"
     },
     "user_tz": -420
    },
    "id": "Bfqf_VCRs6ik"
   },
   "outputs": [],
   "source": [
    "def get_model():\n",
    "  model = tf.keras.Sequential([\n",
    "    #normalizer,\n",
    "    Dense(50, activation='relu'),\n",
    "    \n",
    "    Dense(50, activation='relu'),\n",
    "    Dense(50, activation='relu'),\n",
    "    \n",
    "    Dense(50, activation='relu'),\n",
    "    Dense(50, activation='relu'),\n",
    "    \n",
    "    Dense(60, activation='relu'),\n",
    "    Dense(70, activation='relu'),\n",
    "    Dense(80, activation='relu'),\n",
    "    Dropout(0.2),\n",
    "    Dense(90, activation='relu'),\n",
    "    Dense(100, activation='relu'),\n",
    "\n",
    "    \n",
    "\n",
    "    Dense(banyak_kategori, activation = 'softmax')\n",
    "  ])\n",
    "\n",
    "  model.compile(optimizer=tf.keras.optimizers.Adam(learning_rate=2e-3),\n",
    "                loss='categorical_crossentropy',\n",
    "                metrics=['accuracy'])\n",
    "  return model"
   ]
  },
  {
   "cell_type": "code",
   "execution_count": 18,
   "metadata": {
    "colab": {
     "base_uri": "https://localhost:8080/"
    },
    "executionInfo": {
     "elapsed": 2308,
     "status": "ok",
     "timestamp": 1685521827426,
     "user": {
      "displayName": "William Nehemia M213DSX0235",
      "userId": "07160615254805994192"
     },
     "user_tz": -420
    },
    "id": "zLE-5kdtvThB",
    "outputId": "9775821a-d9c4-4fcc-9cb0-3b15201ca1db"
   },
   "outputs": [
    {
     "name": "stderr",
     "output_type": "stream",
     "text": [
      "<ipython-input-18-802a2bd9ef09>:1: DeprecationWarning: `np.int` is a deprecated alias for the builtin `int`. To silence this warning, use `int` by itself. Doing this will not modify any behavior and is safe. When replacing `np.int`, you may wish to use e.g. `np.int64` or `np.int32` to specify the precision. If you wish to review your current use, check the release note link for additional information.\n",
      "Deprecated in NumPy 1.20; for more details and guidance: https://numpy.org/devdocs/release/1.20.0-notes.html#deprecations\n",
      "  x_train=np.asarray(x_train).astype(np.int)\n",
      "<ipython-input-18-802a2bd9ef09>:3: DeprecationWarning: `np.int` is a deprecated alias for the builtin `int`. To silence this warning, use `int` by itself. Doing this will not modify any behavior and is safe. When replacing `np.int`, you may wish to use e.g. `np.int64` or `np.int32` to specify the precision. If you wish to review your current use, check the release note link for additional information.\n",
      "Deprecated in NumPy 1.20; for more details and guidance: https://numpy.org/devdocs/release/1.20.0-notes.html#deprecations\n",
      "  y_train=np.asarray(y_train).astype(np.int)\n"
     ]
    }
   ],
   "source": [
    "x_train=np.asarray(x_train).astype(np.int)\n",
    "\n",
    "y_train=np.asarray(y_train).astype(np.int)"
   ]
  },
  {
   "cell_type": "code",
   "execution_count": 19,
   "metadata": {
    "executionInfo": {
     "elapsed": 4,
     "status": "ok",
     "timestamp": 1685521827427,
     "user": {
      "displayName": "William Nehemia M213DSX0235",
      "userId": "07160615254805994192"
     },
     "user_tz": -420
    },
    "id": "V2hzVHinWGnW"
   },
   "outputs": [],
   "source": [
    "model = get_model()"
   ]
  },
  {
   "cell_type": "code",
   "execution_count": 20,
   "metadata": {
    "colab": {
     "base_uri": "https://localhost:8080/"
    },
    "executionInfo": {
     "elapsed": 16334716,
     "status": "ok",
     "timestamp": 1685538162140,
     "user": {
      "displayName": "William Nehemia M213DSX0235",
      "userId": "07160615254805994192"
     },
     "user_tz": -420
    },
    "id": "I2LCjFEztSw_",
    "outputId": "231aa801-10f8-4a96-da54-d679e51e41ee"
   },
   "outputs": [
    {
     "name": "stdout",
     "output_type": "stream",
     "text": [
      "Epoch 1/100\n",
      "36221/36221 [==============================] - 159s 4ms/step - loss: 1.8966 - accuracy: 0.3031 - val_loss: 5.9981 - val_accuracy: 0.2019\n",
      "Epoch 2/100\n",
      "36221/36221 [==============================] - 147s 4ms/step - loss: 1.1197 - accuracy: 0.5399 - val_loss: 12.3234 - val_accuracy: 0.2063\n",
      "Epoch 3/100\n",
      "36221/36221 [==============================] - 158s 4ms/step - loss: 0.9144 - accuracy: 0.6332 - val_loss: 20.2124 - val_accuracy: 0.2338\n",
      "Epoch 4/100\n",
      "36221/36221 [==============================] - 162s 4ms/step - loss: 0.8214 - accuracy: 0.6792 - val_loss: 23.0678 - val_accuracy: 0.2262\n",
      "Epoch 5/100\n",
      "36221/36221 [==============================] - 160s 4ms/step - loss: 0.7520 - accuracy: 0.7066 - val_loss: 26.0931 - val_accuracy: 0.1939\n",
      "Epoch 6/100\n",
      "36221/36221 [==============================] - 160s 4ms/step - loss: 0.7367 - accuracy: 0.7246 - val_loss: 30.8763 - val_accuracy: 0.1943\n",
      "Epoch 7/100\n",
      "36221/36221 [==============================] - 157s 4ms/step - loss: 0.6997 - accuracy: 0.7429 - val_loss: 31.4636 - val_accuracy: 0.2180\n",
      "Epoch 8/100\n",
      "36221/36221 [==============================] - 163s 5ms/step - loss: 0.6631 - accuracy: 0.7590 - val_loss: 33.8647 - val_accuracy: 0.2384\n",
      "Epoch 9/100\n",
      "36221/36221 [==============================] - 163s 5ms/step - loss: 0.6316 - accuracy: 0.7736 - val_loss: 40.3549 - val_accuracy: 0.2500\n",
      "Epoch 10/100\n",
      "36221/36221 [==============================] - 155s 4ms/step - loss: 0.6136 - accuracy: 0.7811 - val_loss: 45.0986 - val_accuracy: 0.2060\n",
      "Epoch 11/100\n",
      "36221/36221 [==============================] - 154s 4ms/step - loss: 0.5970 - accuracy: 0.7918 - val_loss: 42.4056 - val_accuracy: 0.2058\n",
      "Epoch 12/100\n",
      "36221/36221 [==============================] - 160s 4ms/step - loss: 0.5823 - accuracy: 0.8045 - val_loss: 40.2725 - val_accuracy: 0.2423\n",
      "Epoch 13/100\n",
      "36221/36221 [==============================] - 161s 4ms/step - loss: 0.5560 - accuracy: 0.8041 - val_loss: 45.3729 - val_accuracy: 0.2342\n",
      "Epoch 14/100\n",
      "36221/36221 [==============================] - 153s 4ms/step - loss: 0.5573 - accuracy: 0.8139 - val_loss: 52.5504 - val_accuracy: 0.2137\n",
      "Epoch 15/100\n",
      "36221/36221 [==============================] - 161s 4ms/step - loss: 0.5322 - accuracy: 0.8212 - val_loss: 44.9422 - val_accuracy: 0.2265\n",
      "Epoch 16/100\n",
      "36221/36221 [==============================] - 159s 4ms/step - loss: 0.5319 - accuracy: 0.8291 - val_loss: 49.5129 - val_accuracy: 0.2178\n",
      "Epoch 17/100\n",
      "36221/36221 [==============================] - 161s 4ms/step - loss: 0.5129 - accuracy: 0.8311 - val_loss: 57.0433 - val_accuracy: 0.2702\n",
      "Epoch 18/100\n",
      "36221/36221 [==============================] - 154s 4ms/step - loss: 0.5030 - accuracy: 0.8401 - val_loss: 49.3397 - val_accuracy: 0.1903\n",
      "Epoch 19/100\n",
      "36221/36221 [==============================] - 156s 4ms/step - loss: 0.5697 - accuracy: 0.8234 - val_loss: 51.5212 - val_accuracy: 0.2143\n",
      "Epoch 20/100\n",
      "36221/36221 [==============================] - 156s 4ms/step - loss: 0.4858 - accuracy: 0.8395 - val_loss: 62.2278 - val_accuracy: 0.2142\n",
      "Epoch 21/100\n",
      "36221/36221 [==============================] - 149s 4ms/step - loss: 0.5431 - accuracy: 0.8327 - val_loss: 57.2912 - val_accuracy: 0.2348\n",
      "Epoch 22/100\n",
      "36221/36221 [==============================] - 157s 4ms/step - loss: 0.5182 - accuracy: 0.8398 - val_loss: 58.4720 - val_accuracy: 0.2133\n",
      "Epoch 23/100\n",
      "36221/36221 [==============================] - 159s 4ms/step - loss: 0.5093 - accuracy: 0.8458 - val_loss: 60.1622 - val_accuracy: 0.2133\n",
      "Epoch 24/100\n",
      "36221/36221 [==============================] - 155s 4ms/step - loss: 0.5536 - accuracy: 0.8372 - val_loss: 59.1614 - val_accuracy: 0.1700\n",
      "Epoch 25/100\n",
      "36221/36221 [==============================] - 151s 4ms/step - loss: 0.5560 - accuracy: 0.8294 - val_loss: 63.2087 - val_accuracy: 0.1696\n",
      "Epoch 26/100\n",
      "36221/36221 [==============================] - 156s 4ms/step - loss: 0.5599 - accuracy: 0.8395 - val_loss: 64.0112 - val_accuracy: 0.1778\n",
      "Epoch 27/100\n",
      "36221/36221 [==============================] - 159s 4ms/step - loss: 0.6005 - accuracy: 0.8252 - val_loss: 64.0084 - val_accuracy: 0.1208\n",
      "Epoch 28/100\n",
      "36221/36221 [==============================] - 162s 4ms/step - loss: 0.5980 - accuracy: 0.8170 - val_loss: 72.7529 - val_accuracy: 0.1610\n",
      "Epoch 29/100\n",
      "36221/36221 [==============================] - 159s 4ms/step - loss: 0.5359 - accuracy: 0.8340 - val_loss: 73.4903 - val_accuracy: 0.1613\n",
      "Epoch 30/100\n",
      "36221/36221 [==============================] - 150s 4ms/step - loss: 0.6112 - accuracy: 0.8285 - val_loss: 71.9679 - val_accuracy: 0.1497\n",
      "Epoch 31/100\n",
      "36221/36221 [==============================] - 156s 4ms/step - loss: 0.8806 - accuracy: 0.7602 - val_loss: 81.7494 - val_accuracy: 0.1772\n",
      "Epoch 32/100\n",
      "36221/36221 [==============================] - 155s 4ms/step - loss: 0.6114 - accuracy: 0.8063 - val_loss: 86.2074 - val_accuracy: 0.1213\n",
      "Epoch 33/100\n",
      "36221/36221 [==============================] - 150s 4ms/step - loss: 0.6325 - accuracy: 0.8158 - val_loss: 98.4106 - val_accuracy: 0.1776\n",
      "Epoch 34/100\n",
      "36221/36221 [==============================] - 156s 4ms/step - loss: 0.5958 - accuracy: 0.8214 - val_loss: 96.7188 - val_accuracy: 0.1576\n",
      "Epoch 35/100\n",
      "36221/36221 [==============================] - 159s 4ms/step - loss: 0.5942 - accuracy: 0.8300 - val_loss: 99.9342 - val_accuracy: 0.1613\n",
      "Epoch 36/100\n",
      "36221/36221 [==============================] - 158s 4ms/step - loss: 0.6974 - accuracy: 0.8163 - val_loss: 100.0691 - val_accuracy: 0.1859\n",
      "Epoch 37/100\n",
      "36221/36221 [==============================] - 158s 4ms/step - loss: 0.6665 - accuracy: 0.8235 - val_loss: 104.6543 - val_accuracy: 0.1904\n",
      "Epoch 38/100\n",
      "36221/36221 [==============================] - 157s 4ms/step - loss: 0.7271 - accuracy: 0.8119 - val_loss: 101.9589 - val_accuracy: 0.1535\n",
      "Epoch 39/100\n",
      "36221/36221 [==============================] - 153s 4ms/step - loss: 0.7165 - accuracy: 0.8097 - val_loss: 96.2298 - val_accuracy: 0.1659\n",
      "Epoch 40/100\n",
      "36221/36221 [==============================] - 158s 4ms/step - loss: 0.6538 - accuracy: 0.8121 - val_loss: 101.7607 - val_accuracy: 0.1537\n",
      "Epoch 41/100\n",
      "36221/36221 [==============================] - 163s 4ms/step - loss: 0.6912 - accuracy: 0.8313 - val_loss: 74.5604 - val_accuracy: 0.1613\n",
      "Epoch 42/100\n",
      "36221/36221 [==============================] - 162s 4ms/step - loss: 0.7598 - accuracy: 0.7977 - val_loss: 97.2011 - val_accuracy: 0.1532\n",
      "Epoch 43/100\n",
      "36221/36221 [==============================] - 151s 4ms/step - loss: 0.6866 - accuracy: 0.8196 - val_loss: 106.1098 - val_accuracy: 0.1370\n",
      "Epoch 44/100\n",
      "36221/36221 [==============================] - 160s 4ms/step - loss: 0.6896 - accuracy: 0.8199 - val_loss: 104.0710 - val_accuracy: 0.1531\n",
      "Epoch 45/100\n",
      "36221/36221 [==============================] - 152s 4ms/step - loss: 0.9022 - accuracy: 0.7899 - val_loss: 69.0675 - val_accuracy: 0.1251\n",
      "Epoch 46/100\n",
      "36221/36221 [==============================] - 161s 4ms/step - loss: 0.8795 - accuracy: 0.7860 - val_loss: 75.3110 - val_accuracy: 0.1173\n",
      "Epoch 47/100\n",
      "36221/36221 [==============================] - 183s 5ms/step - loss: 1.2132 - accuracy: 0.7476 - val_loss: 14.5362 - val_accuracy: 0.0409\n",
      "Epoch 48/100\n",
      "36221/36221 [==============================] - 194s 5ms/step - loss: 2.6603 - accuracy: 0.2732 - val_loss: 7.3632 - val_accuracy: 0.0565\n",
      "Epoch 49/100\n",
      "36221/36221 [==============================] - 189s 5ms/step - loss: 2.1215 - accuracy: 0.3486 - val_loss: 15.6000 - val_accuracy: 0.1012\n",
      "Epoch 50/100\n",
      "36221/36221 [==============================] - 177s 5ms/step - loss: 1.5781 - accuracy: 0.5210 - val_loss: 21.2408 - val_accuracy: 0.1249\n",
      "Epoch 51/100\n",
      "36221/36221 [==============================] - 176s 5ms/step - loss: 1.3210 - accuracy: 0.6081 - val_loss: 27.9117 - val_accuracy: 0.1179\n",
      "Epoch 52/100\n",
      "36221/36221 [==============================] - 170s 5ms/step - loss: 1.1718 - accuracy: 0.6487 - val_loss: 32.0414 - val_accuracy: 0.1009\n",
      "Epoch 53/100\n",
      "36221/36221 [==============================] - 180s 5ms/step - loss: 0.9327 - accuracy: 0.7120 - val_loss: 42.0796 - val_accuracy: 0.1175\n",
      "Epoch 54/100\n",
      "36221/36221 [==============================] - 175s 5ms/step - loss: 0.8085 - accuracy: 0.7537 - val_loss: 42.5004 - val_accuracy: 0.1100\n",
      "Epoch 55/100\n",
      "36221/36221 [==============================] - 179s 5ms/step - loss: 0.9446 - accuracy: 0.7506 - val_loss: 37.5198 - val_accuracy: 0.1008\n",
      "Epoch 56/100\n",
      "36221/36221 [==============================] - 186s 5ms/step - loss: 1.0432 - accuracy: 0.7298 - val_loss: 42.7441 - val_accuracy: 0.1091\n",
      "Epoch 57/100\n",
      "36221/36221 [==============================] - 174s 5ms/step - loss: 0.8027 - accuracy: 0.7646 - val_loss: 51.1870 - val_accuracy: 0.1133\n",
      "Epoch 58/100\n",
      "36221/36221 [==============================] - 180s 5ms/step - loss: 0.8196 - accuracy: 0.7736 - val_loss: 48.2686 - val_accuracy: 0.1256\n",
      "Epoch 59/100\n",
      "36221/36221 [==============================] - 179s 5ms/step - loss: 0.8469 - accuracy: 0.7822 - val_loss: 51.1986 - val_accuracy: 0.0970\n",
      "Epoch 60/100\n",
      "36221/36221 [==============================] - 174s 5ms/step - loss: 1.0630 - accuracy: 0.7206 - val_loss: 48.1705 - val_accuracy: 0.1091\n",
      "Epoch 61/100\n",
      "36221/36221 [==============================] - 181s 5ms/step - loss: 0.8026 - accuracy: 0.7758 - val_loss: 52.7778 - val_accuracy: 0.1177\n",
      "Epoch 62/100\n",
      "36221/36221 [==============================] - 180s 5ms/step - loss: 0.8559 - accuracy: 0.7901 - val_loss: 41.7414 - val_accuracy: 0.0929\n",
      "Epoch 63/100\n",
      "36221/36221 [==============================] - 178s 5ms/step - loss: 0.9141 - accuracy: 0.7627 - val_loss: 51.1610 - val_accuracy: 0.0688\n",
      "Epoch 64/100\n",
      "36221/36221 [==============================] - 171s 5ms/step - loss: 2.1562 - accuracy: 0.5252 - val_loss: 36.5950 - val_accuracy: 0.1170\n",
      "Epoch 65/100\n",
      "36221/36221 [==============================] - 169s 5ms/step - loss: 1.3090 - accuracy: 0.5838 - val_loss: 35.9674 - val_accuracy: 0.1127\n",
      "Epoch 66/100\n",
      "36221/36221 [==============================] - 179s 5ms/step - loss: 1.1914 - accuracy: 0.6369 - val_loss: 40.6816 - val_accuracy: 0.1209\n",
      "Epoch 67/100\n",
      "36221/36221 [==============================] - 173s 5ms/step - loss: 1.7531 - accuracy: 0.5869 - val_loss: 5.3165 - val_accuracy: 0.0482\n",
      "Epoch 68/100\n",
      "36221/36221 [==============================] - 159s 4ms/step - loss: 4.3260 - accuracy: 0.0742 - val_loss: 4.1001 - val_accuracy: 0.0520\n",
      "Epoch 69/100\n",
      "36221/36221 [==============================] - 155s 4ms/step - loss: 3.5491 - accuracy: 0.1309 - val_loss: 7.3070 - val_accuracy: 0.0524\n",
      "Epoch 70/100\n",
      "36221/36221 [==============================] - 163s 4ms/step - loss: 3.3273 - accuracy: 0.1531 - val_loss: 6.8181 - val_accuracy: 0.0360\n",
      "Epoch 71/100\n",
      "36221/36221 [==============================] - 159s 4ms/step - loss: 3.0312 - accuracy: 0.1988 - val_loss: 5.2480 - val_accuracy: 0.0604\n",
      "Epoch 72/100\n",
      "36221/36221 [==============================] - 155s 4ms/step - loss: 3.0717 - accuracy: 0.2050 - val_loss: 5.3104 - val_accuracy: 0.0360\n",
      "Epoch 73/100\n",
      "36221/36221 [==============================] - 157s 4ms/step - loss: 2.9193 - accuracy: 0.2181 - val_loss: 4.8223 - val_accuracy: 0.0279\n",
      "Epoch 74/100\n",
      "36221/36221 [==============================] - 161s 4ms/step - loss: 2.8591 - accuracy: 0.2255 - val_loss: 5.2324 - val_accuracy: 0.0489\n",
      "Epoch 75/100\n",
      "36221/36221 [==============================] - 169s 5ms/step - loss: 2.9755 - accuracy: 0.2225 - val_loss: 5.0037 - val_accuracy: 0.0851\n",
      "Epoch 76/100\n",
      "36221/36221 [==============================] - 166s 5ms/step - loss: 2.3739 - accuracy: 0.2671 - val_loss: 5.6446 - val_accuracy: 0.0806\n",
      "Epoch 77/100\n",
      "36221/36221 [==============================] - 163s 5ms/step - loss: 2.5703 - accuracy: 0.2632 - val_loss: 5.2589 - val_accuracy: 0.0845\n",
      "Epoch 78/100\n",
      "36221/36221 [==============================] - 166s 5ms/step - loss: 2.2691 - accuracy: 0.2947 - val_loss: 6.3028 - val_accuracy: 0.0444\n",
      "Epoch 79/100\n",
      "36221/36221 [==============================] - 158s 4ms/step - loss: 2.3470 - accuracy: 0.2869 - val_loss: 5.6241 - val_accuracy: 0.0605\n",
      "Epoch 80/100\n",
      "36221/36221 [==============================] - 163s 4ms/step - loss: 2.2419 - accuracy: 0.3003 - val_loss: 7.8165 - val_accuracy: 0.0599\n",
      "Epoch 81/100\n",
      "36221/36221 [==============================] - 167s 5ms/step - loss: 2.1563 - accuracy: 0.3160 - val_loss: 5.9257 - val_accuracy: 0.0761\n",
      "Epoch 82/100\n",
      "36221/36221 [==============================] - 166s 5ms/step - loss: 2.2916 - accuracy: 0.2976 - val_loss: 4.1206 - val_accuracy: 0.0608\n",
      "Epoch 83/100\n",
      "36221/36221 [==============================] - 162s 4ms/step - loss: 2.8667 - accuracy: 0.2603 - val_loss: 4.8207 - val_accuracy: 0.0524\n",
      "Epoch 84/100\n",
      "36221/36221 [==============================] - 162s 4ms/step - loss: 2.7972 - accuracy: 0.2497 - val_loss: 3.7804 - val_accuracy: 0.0725\n",
      "Epoch 85/100\n",
      "36221/36221 [==============================] - 169s 5ms/step - loss: 2.5480 - accuracy: 0.2635 - val_loss: 3.9600 - val_accuracy: 0.0934\n",
      "Epoch 86/100\n",
      "36221/36221 [==============================] - 164s 5ms/step - loss: 2.3136 - accuracy: 0.2982 - val_loss: 4.5881 - val_accuracy: 0.0763\n",
      "Epoch 87/100\n",
      "36221/36221 [==============================] - 165s 5ms/step - loss: 2.2312 - accuracy: 0.3161 - val_loss: 4.6030 - val_accuracy: 0.0769\n",
      "Epoch 88/100\n",
      "36221/36221 [==============================] - 162s 4ms/step - loss: 2.3217 - accuracy: 0.3134 - val_loss: 4.7758 - val_accuracy: 0.0569\n",
      "Epoch 89/100\n",
      "36221/36221 [==============================] - 160s 4ms/step - loss: 2.1851 - accuracy: 0.3303 - val_loss: 5.3644 - val_accuracy: 0.0646\n",
      "Epoch 90/100\n",
      "36221/36221 [==============================] - 167s 5ms/step - loss: 2.2592 - accuracy: 0.3309 - val_loss: 4.8736 - val_accuracy: 0.0931\n",
      "Epoch 91/100\n",
      "36221/36221 [==============================] - 158s 4ms/step - loss: 2.1621 - accuracy: 0.3353 - val_loss: 4.8043 - val_accuracy: 0.0526\n",
      "Epoch 92/100\n",
      "36221/36221 [==============================] - 156s 4ms/step - loss: 2.2766 - accuracy: 0.3319 - val_loss: 4.7989 - val_accuracy: 0.0688\n",
      "Epoch 93/100\n",
      "36221/36221 [==============================] - 167s 5ms/step - loss: 2.2082 - accuracy: 0.3445 - val_loss: 5.1137 - val_accuracy: 0.0651\n",
      "Epoch 94/100\n",
      "36221/36221 [==============================] - 166s 5ms/step - loss: 2.1501 - accuracy: 0.3514 - val_loss: 5.1076 - val_accuracy: 0.0890\n",
      "Epoch 95/100\n",
      "36221/36221 [==============================] - 161s 4ms/step - loss: 2.0940 - accuracy: 0.3592 - val_loss: 6.3500 - val_accuracy: 0.0723\n",
      "Epoch 96/100\n",
      "36221/36221 [==============================] - 162s 4ms/step - loss: 2.3348 - accuracy: 0.3355 - val_loss: 5.4677 - val_accuracy: 0.0807\n",
      "Epoch 97/100\n",
      "36221/36221 [==============================] - 162s 4ms/step - loss: 2.1978 - accuracy: 0.3516 - val_loss: 5.7940 - val_accuracy: 0.0763\n",
      "Epoch 98/100\n",
      "36221/36221 [==============================] - 166s 5ms/step - loss: 2.6067 - accuracy: 0.3252 - val_loss: 4.7514 - val_accuracy: 0.0650\n",
      "Epoch 99/100\n",
      "36221/36221 [==============================] - 164s 5ms/step - loss: 2.3870 - accuracy: 0.3352 - val_loss: 5.6942 - val_accuracy: 0.0565\n",
      "Epoch 100/100\n",
      "36221/36221 [==============================] - 156s 4ms/step - loss: 2.2686 - accuracy: 0.3324 - val_loss: 6.5894 - val_accuracy: 0.0480\n"
     ]
    }
   ],
   "source": [
    "\n",
    "model_fit = model.fit(x_train, \n",
    "                      y_train, \n",
    "                      epochs = 100,\n",
    "                      validation_data = (x_test, y_test))"
   ]
  },
  {
   "cell_type": "code",
   "execution_count": 21,
   "metadata": {
    "colab": {
     "base_uri": "https://localhost:8080/",
     "height": 927
    },
    "executionInfo": {
     "elapsed": 910,
     "status": "ok",
     "timestamp": 1685538163021,
     "user": {
      "displayName": "William Nehemia M213DSX0235",
      "userId": "07160615254805994192"
     },
     "user_tz": -420
    },
    "id": "wjuD7sDq_aCv",
    "outputId": "a2677378-d9b1-41a3-f9a7-efcce1562fcb"
   },
   "outputs": [
    {
     "data": {
      "image/png": "[encoded data removed]",
      "text/plain": [
       "<Figure size 640x480 with 1 Axes>"
      ]
     },
     "metadata": {},
     "output_type": "display_data"
    },
    {
     "data": {
      "image/png": "[encoded data removed]",
      "text/plain": [
       "<Figure size 640x480 with 1 Axes>"
      ]
     },
     "metadata": {},
     "output_type": "display_data"
    }
   ],
   "source": [
    "def plot_accuracy(history):\n",
    "    \n",
    "    plt.plot(history.history['accuracy'],label='train accuracy')\n",
    "    plt.plot(history.history['val_accuracy'],label='validation accuracy')\n",
    "    plt.title('Model accuracy')\n",
    "    plt.ylabel('Accuracy')\n",
    "    plt.xlabel('Epoch')\n",
    "    plt.legend(loc='best')\n",
    "    plt.savefig('Accuracy_v1_model_inceptionv3')\n",
    "    plt.show()\n",
    "    \n",
    "def plot_loss(history):\n",
    "    \n",
    "    plt.plot(history.history['loss'],label=\"train loss\")\n",
    "    plt.plot(history.history['val_loss'],label=\"validation loss\")\n",
    "    plt.title('Model loss')\n",
    "    plt.ylabel('Loss')\n",
    "    plt.xlabel('Epoch')\n",
    "    plt.legend(loc='best')\n",
    "    plt.savefig('Loss_v1_model_inceptionv3')\n",
    "    plt.show()\n",
    "    \n",
    "plot_accuracy(model_fit)\n",
    "plot_loss(model_fit)"
   ]
  },
  {
   "cell_type": "code",
   "execution_count": 21,
   "metadata": {
    "executionInfo": {
     "elapsed": 3,
     "status": "ok",
     "timestamp": 1685538163022,
     "user": {
      "displayName": "William Nehemia M213DSX0235",
      "userId": "07160615254805994192"
     },
     "user_tz": -420
    },
    "id": "xZ9-9LhnVqS0"
   },
   "outputs": [],
   "source": []
  },
  {
   "cell_type": "code",
   "execution_count": 22,
   "metadata": {
    "colab": {
     "base_uri": "https://localhost:8080/"
    },
    "executionInfo": {
     "elapsed": 6369,
     "status": "ok",
     "timestamp": 1685538169388,
     "user": {
      "displayName": "William Nehemia M213DSX0235",
      "userId": "07160615254805994192"
     },
     "user_tz": -420
    },
    "id": "TlE5AAOy4K7n",
    "outputId": "9967d14a-37f7-4424-d056-604cd821319d"
   },
   "outputs": [
    {
     "name": "stderr",
     "output_type": "stream",
     "text": [
      "WARNING:absl:Found untraced functions such as _update_step_xla while saving (showing 1 of 1). These functions will not be directly callable after loading.\n"
     ]
    }
   ],
   "source": [
    "model.save('/content/drive/MyDrive/Capstone/model_exercise.h5')\n",
    "# Convert the model.\n",
    "converter = tf.lite.TFLiteConverter.from_keras_model(model)\n",
    "tflite_model = converter.convert()\n",
    "\n",
    "# Save the model.\n",
    "with open('model_exercise.tflite', 'wb') as f:\n",
    "  f.write(tflite_model)"
   ]
  }
 ],
 "metadata": {
  "colab": {
   "authorship_tag": "ABX9TyN7ehL0YPKNmeMPa5Qy5jDb",
   "provenance": []
  },
  "kernelspec": {
   "display_name": "Python 3 (ipykernel)",
   "language": "python",
   "name": "python3"
  },
  "language_info": {
   "codemirror_mode": {
    "name": "ipython",
    "version": 3
   },
   "file_extension": ".py",
   "mimetype": "text/x-python",
   "name": "python",
   "nbconvert_exporter": "python",
   "pygments_lexer": "ipython3",
   "version": "3.11.3"
  }
 },
 "nbformat": 4,
 "nbformat_minor": 1
}
