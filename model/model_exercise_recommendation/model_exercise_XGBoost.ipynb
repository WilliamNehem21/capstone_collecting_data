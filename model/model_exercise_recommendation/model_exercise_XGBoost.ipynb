{
 "cells": [
  {
   "cell_type": "code",
   "execution_count": 1,
   "metadata": {
    "colab": {
     "base_uri": "https://localhost:8080/"
    },
    "executionInfo": {
     "elapsed": 42901,
     "status": "ok",
     "timestamp": 1686131080504,
     "user": {
      "displayName": "William Nehemia M213DSX0235",
      "userId": "07160615254805994192"
     },
     "user_tz": -420
    },
    "id": "rodIDMFltOx-",
    "outputId": "58bba887-fda7-47a1-ac44-0d7e5d1a469f"
   },
   "outputs": [
    {
     "name": "stdout",
     "output_type": "stream",
     "text": [
      "Mounted at /content/drive\n",
      "  Activity, Exercise or Sport (1 hour) Intensity Description  \\\n",
      "0          Cycling, mountain bike, bmx                   NaN   \n",
      "1  Cycling, <10 mph, leisure bicycling                   NaN   \n",
      "2             Cycling, >20 mph, racing                   NaN   \n",
      "3          Cycling, 10-11.9 mph, light                   NaN   \n",
      "4       Cycling, 12-13.9 mph, moderate                   NaN   \n",
      "\n",
      "   Duration (minutes)  Calories per kg  \n",
      "0                  60         1.750730  \n",
      "1                  60         0.823236  \n",
      "2                  60         3.294974  \n",
      "3                  60         1.234853  \n",
      "4                  60         1.647825  \n"
     ]
    }
   ],
   "source": [
    "from google.colab import drive\n",
    "import pandas as pd\n",
    "from sklearn.model_selection import train_test_split\n",
    "from sklearn.preprocessing import LabelEncoder\n",
    "from keras.utils import np_utils\n",
    "from keras.wrappers.scikit_learn import KerasClassifier\n",
    "from sklearn.model_selection import KFold\n",
    "from sklearn.model_selection import cross_val_score\n",
    "from sklearn.preprocessing import MinMaxScaler\n",
    "import matplotlib.pyplot as plt\n",
    "import numpy as np\n",
    "import tensorflow as tf\n",
    "from tensorflow import keras    \n",
    "from tensorflow.keras.layers import Flatten   \n",
    "from tensorflow.keras.layers import Dense, Dropout\n",
    "from tensorflow.keras import regularizers\n",
    "from keras.optimizers import Adam\n",
    "from sklearn.metrics import classification_report, confusion_matrix\n",
    "from sklearn import metrics\n",
    "from sklearn.preprocessing import StandardScaler\n",
    "import xgboost as xgb\n",
    "from sklearn.ensemble import GradientBoostingClassifier\n",
    "from sklearn.datasets import make_classification\n",
    "from sklearn.metrics import confusion_matrix\n",
    "import matplotlib.pyplot as plt\n",
    "import seaborn as sns\n",
    "%matplotlib inline\n",
    "\n",
    "\n",
    "drive.mount(\"/content/drive\")\n",
    "path = \"/content/drive/MyDrive/Capstone/exercise_datasetV2.csv\"\n",
    "df = pd.read_csv(path)\n",
    "print(df.head())\n",
    "banyak_kategori = len(df.index)\n"
   ]
  },
  {
   "cell_type": "code",
   "execution_count": 2,
   "metadata": {
    "colab": {
     "base_uri": "https://localhost:8080/"
    },
    "executionInfo": {
     "elapsed": 3381,
     "status": "ok",
     "timestamp": 1686131083871,
     "user": {
      "displayName": "William Nehemia M213DSX0235",
      "userId": "07160615254805994192"
     },
     "user_tz": -420
    },
    "id": "pxRy28e4uPWD",
    "outputId": "2a312177-5028-4f80-8836-5418417ef6c8"
   },
   "outputs": [
    {
     "name": "stdout",
     "output_type": "stream",
     "text": [
      "0\n",
      "1\n",
      "2\n",
      "3\n",
      "4\n",
      "5\n",
      "6\n",
      "7\n",
      "8\n",
      "9\n",
      "10\n",
      "11\n",
      "12\n",
      "13\n",
      "14\n",
      "15\n",
      "16\n",
      "17\n",
      "18\n",
      "19\n",
      "20\n",
      "21\n",
      "22\n",
      "23\n",
      "24\n",
      "25\n",
      "26\n",
      "27\n",
      "28\n",
      "29\n",
      "30\n",
      "31\n",
      "32\n",
      "33\n",
      "34\n",
      "35\n",
      "36\n",
      "37\n",
      "38\n",
      "39\n",
      "40\n",
      "41\n",
      "42\n",
      "43\n",
      "44\n",
      "45\n",
      "46\n",
      "47\n",
      "48\n",
      "49\n",
      "50\n",
      "51\n",
      "52\n",
      "53\n",
      "54\n",
      "55\n",
      "56\n",
      "57\n",
      "58\n",
      "59\n",
      "60\n",
      "61\n",
      "62\n",
      "63\n",
      "64\n",
      "65\n",
      "66\n",
      "67\n",
      "68\n",
      "69\n",
      "70\n",
      "71\n",
      "72\n",
      "73\n",
      "74\n",
      "75\n",
      "76\n",
      "77\n",
      "78\n",
      "79\n",
      "80\n",
      "81\n",
      "82\n",
      "83\n",
      "84\n",
      "85\n",
      "86\n",
      "87\n",
      "88\n",
      "89\n",
      "90\n",
      "91\n",
      "92\n",
      "93\n",
      "94\n",
      "95\n",
      "96\n",
      "97\n",
      "98\n",
      "99\n",
      "100\n",
      "101\n",
      "102\n",
      "103\n",
      "104\n",
      "105\n",
      "106\n",
      "107\n",
      "108\n",
      "109\n",
      "110\n",
      "111\n",
      "112\n",
      "113\n",
      "114\n",
      "115\n",
      "116\n",
      "117\n",
      "118\n",
      "119\n",
      "120\n",
      "121\n",
      "122\n",
      "123\n",
      "124\n",
      "125\n",
      "126\n",
      "127\n",
      "128\n",
      "129\n",
      "130\n",
      "131\n",
      "132\n",
      "133\n",
      "134\n",
      "135\n",
      "136\n",
      "137\n",
      "138\n",
      "139\n",
      "140\n",
      "141\n",
      "142\n",
      "143\n",
      "144\n",
      "145\n",
      "146\n",
      "147\n",
      "148\n",
      "149\n",
      "150\n",
      "151\n",
      "152\n",
      "153\n",
      "154\n",
      "155\n",
      "156\n",
      "157\n",
      "158\n",
      "159\n",
      "160\n",
      "161\n",
      "162\n",
      "163\n",
      "164\n",
      "165\n",
      "166\n",
      "167\n",
      "168\n",
      "169\n",
      "170\n",
      "171\n",
      "172\n",
      "173\n",
      "174\n",
      "175\n",
      "176\n",
      "177\n",
      "178\n",
      "179\n",
      "180\n",
      "181\n",
      "182\n",
      "183\n",
      "184\n",
      "185\n",
      "186\n",
      "187\n",
      "188\n",
      "189\n",
      "190\n",
      "191\n",
      "192\n",
      "193\n",
      "194\n",
      "195\n",
      "196\n",
      "197\n",
      "198\n",
      "199\n",
      "200\n",
      "201\n",
      "202\n",
      "203\n",
      "204\n",
      "205\n",
      "206\n",
      "207\n",
      "208\n",
      "209\n",
      "210\n",
      "211\n",
      "212\n",
      "213\n",
      "214\n",
      "215\n",
      "216\n",
      "217\n",
      "218\n",
      "219\n",
      "220\n",
      "221\n",
      "222\n",
      "223\n",
      "224\n",
      "225\n",
      "226\n",
      "227\n",
      "228\n",
      "229\n",
      "230\n",
      "231\n",
      "232\n",
      "233\n",
      "234\n",
      "235\n",
      "236\n",
      "237\n",
      "238\n",
      "239\n",
      "240\n",
      "241\n",
      "242\n",
      "243\n",
      "244\n",
      "245\n",
      "246\n",
      "247\n",
      "  Activity, Exercise or Sport (1 hour)  Duration (minutes)  Calories per kg  \\\n",
      "0          Cycling, mountain bike, bmx                   1         0.058358   \n",
      "1          Cycling, mountain bike, bmx                   1         0.087536   \n",
      "2          Cycling, mountain bike, bmx                   1         0.116715   \n",
      "3          Cycling, mountain bike, bmx                   1         0.145894   \n",
      "4          Cycling, mountain bike, bmx                   1         0.175073   \n",
      "\n",
      "   berat Intensity Description  \n",
      "0      2                   NaN  \n",
      "1      3                   NaN  \n",
      "2      4                   NaN  \n",
      "3      5                   NaN  \n",
      "4      6                   NaN  \n",
      "            Activity, Exercise or Sport (1 hour)  Duration (minutes)  \\\n",
      "1448811                         General cleaning                  60   \n",
      "1448812                        Cleaning, dusting                  60   \n",
      "1448813                         Taking out trash                  60   \n",
      "1448814            Walking, pushing a wheelchair                  60   \n",
      "1448815  Teach physical education,exercise class                  60   \n",
      "\n",
      "         Calories per kg  berat Intensity Description  \n",
      "1448811         0.721008      1                   NaN  \n",
      "1448812         0.515199      1                   NaN  \n",
      "1448813         0.617427      1                   NaN  \n",
      "1448814         0.823236      1                   NaN  \n",
      "1448815         0.823236      1                   NaN  \n"
     ]
    }
   ],
   "source": [
    "list_berat = []\n",
    "for i in range(len(df.index)):\n",
    "  list_berat.append(1)\n",
    "\n",
    "df['berat'] =  list_berat\n",
    "dict_df = {'Activity, Exercise or Sport (1 hour)' : [], 'Duration (minutes)': [], 'Calories per kg': [], 'berat' : []}\n",
    "df_new = df\n",
    "for index, row in df.iterrows():\n",
    "  print(index)\n",
    "  menit = row['Duration (minutes)']\n",
    "  activity = row['Activity, Exercise or Sport (1 hour)']\n",
    "  calories = row['Calories per kg']\n",
    "  for i in range(1,menit):\n",
    "    for j in range(2,101):\n",
    "      new_calories = calories*1.0/60*i*j\n",
    "      list_activity = dict_df.get('Activity, Exercise or Sport (1 hour)')\n",
    "      list_duration = dict_df.get('Duration (minutes)')\n",
    "      list_calories = dict_df.get('Calories per kg')\n",
    "      list_berat = dict_df.get('berat')\n",
    "      list_activity.append(activity)\n",
    "      list_duration.append(i)\n",
    "      list_calories.append(new_calories)\n",
    "      list_berat.append(j)\n",
    "      #new_row = pd.DataFrame({'Activity, Exercise or Sport (1 hour)' : [activity], 'Duration (minutes)': [i], 'Calories per kg': [new_calories], 'berat' : [j]})\n",
    "      \n",
    "df_curr = pd.DataFrame(dict_df)   \n",
    "df_new = pd.concat([df_curr, df_new.loc[:]]).reset_index(drop=True)\n",
    "#df2 = pd.concat([new_row,df.loc[:]]).reset_index(drop=True)\n",
    "print(df_new.head())\n",
    "print(df_new.tail())"
   ]
  },
  {
   "cell_type": "code",
   "execution_count": 3,
   "metadata": {
    "colab": {
     "base_uri": "https://localhost:8080/"
    },
    "executionInfo": {
     "elapsed": 600,
     "status": "ok",
     "timestamp": 1686131084468,
     "user": {
      "displayName": "William Nehemia M213DSX0235",
      "userId": "07160615254805994192"
     },
     "user_tz": -420
    },
    "id": "0QmN7wY7wnDX",
    "outputId": "611e1172-3553-4dda-c409-8c8d1e94f952"
   },
   "outputs": [
    {
     "name": "stdout",
     "output_type": "stream",
     "text": [
      "1448816\n",
      "       Duration (minutes)  Calories per kg         berat\n",
      "count        1.448816e+06     1.448816e+06  1.448816e+06\n",
      "mean         3.000514e+01     3.467251e+01  5.099144e+01\n",
      "std          1.703246e+01     3.748635e+01  2.858243e+01\n",
      "min          1.000000e+00     1.033558e-02  1.000000e+00\n",
      "25%          1.500000e+01     8.237434e+00  2.600000e+01\n",
      "50%          3.000000e+01     2.219663e+01  5.100000e+01\n",
      "75%          4.500000e+01     4.774767e+01  7.600000e+01\n",
      "max          6.000000e+01     3.644815e+02  1.000000e+02\n",
      "Activity, Exercise or Sport (1 hour)     object\n",
      "Duration (minutes)                        int64\n",
      "Calories per kg                         float64\n",
      "berat                                     int64\n",
      "Intensity Description                    object\n",
      "dtype: object\n",
      "                      activity  durasi  calories  berat Intensity Description\n",
      "0  Cycling, mountain bike, bmx       1  0.058358      2                   NaN\n",
      "1  Cycling, mountain bike, bmx       1  0.087536      3                   NaN\n",
      "2  Cycling, mountain bike, bmx       1  0.116715      4                   NaN\n",
      "3  Cycling, mountain bike, bmx       1  0.145894      5                   NaN\n",
      "4  Cycling, mountain bike, bmx       1  0.175073      6                   NaN\n"
     ]
    }
   ],
   "source": [
    "print(len(df_new.index))\n",
    "print(df_new.describe())\n",
    "print(df_new.dtypes)\n",
    "df_new.rename(columns = {'Activity, Exercise or Sport (1 hour)':'activity', 'Duration (minutes)' : 'durasi' , 'Calories per kg' : 'calories' }, inplace = True)\n",
    "print(df_new.head())"
   ]
  },
  {
   "cell_type": "code",
   "execution_count": 4,
   "metadata": {
    "colab": {
     "base_uri": "https://localhost:8080/",
     "height": 313
    },
    "executionInfo": {
     "elapsed": 22,
     "status": "ok",
     "timestamp": 1686131084469,
     "user": {
      "displayName": "William Nehemia M213DSX0235",
      "userId": "07160615254805994192"
     },
     "user_tz": -420
    },
    "id": "JNALWDU8wrPL",
    "outputId": "280307cc-f813-4aa1-b92d-6e86c8237a09"
   },
   "outputs": [
    {
     "name": "stdout",
     "output_type": "stream",
     "text": [
      "                      activity  durasi  calories  berat Intensity Description\n",
      "0  Cycling, mountain bike, bmx       1  0.058358      2                   NaN\n",
      "1  Cycling, mountain bike, bmx       1  0.087536      3                   NaN\n",
      "2  Cycling, mountain bike, bmx       1  0.116715      4                   NaN\n",
      "3  Cycling, mountain bike, bmx       1  0.145894      5                   NaN\n",
      "4  Cycling, mountain bike, bmx       1  0.175073      6                   NaN\n"
     ]
    },
    {
     "data": {
      "text/html": [
       "\n",
       "  <div id=\"df-ddbd8193-6048-411e-9dee-24c07546055c\">\n",
       "    <div class=\"colab-df-container\">\n",
       "      <div>\n",
       "<style scoped>\n",
       "    .dataframe tbody tr th:only-of-type {\n",
       "        vertical-align: middle;\n",
       "    }\n",
       "\n",
       "    .dataframe tbody tr th {\n",
       "        vertical-align: top;\n",
       "    }\n",
       "\n",
       "    .dataframe thead th {\n",
       "        text-align: right;\n",
       "    }\n",
       "</style>\n",
       "<table border=\"1\" class=\"dataframe\">\n",
       "  <thead>\n",
       "    <tr style=\"text-align: right;\">\n",
       "      <th></th>\n",
       "      <th>durasi</th>\n",
       "      <th>calories</th>\n",
       "      <th>berat</th>\n",
       "    </tr>\n",
       "  </thead>\n",
       "  <tbody>\n",
       "    <tr>\n",
       "      <th>0</th>\n",
       "      <td>1</td>\n",
       "      <td>0.058358</td>\n",
       "      <td>2</td>\n",
       "    </tr>\n",
       "    <tr>\n",
       "      <th>1</th>\n",
       "      <td>1</td>\n",
       "      <td>0.087536</td>\n",
       "      <td>3</td>\n",
       "    </tr>\n",
       "    <tr>\n",
       "      <th>2</th>\n",
       "      <td>1</td>\n",
       "      <td>0.116715</td>\n",
       "      <td>4</td>\n",
       "    </tr>\n",
       "    <tr>\n",
       "      <th>3</th>\n",
       "      <td>1</td>\n",
       "      <td>0.145894</td>\n",
       "      <td>5</td>\n",
       "    </tr>\n",
       "    <tr>\n",
       "      <th>4</th>\n",
       "      <td>1</td>\n",
       "      <td>0.175073</td>\n",
       "      <td>6</td>\n",
       "    </tr>\n",
       "  </tbody>\n",
       "</table>\n",
       "</div>\n",
       "      <button class=\"colab-df-convert\" onclick=\"convertToInteractive('df-ddbd8193-6048-411e-9dee-24c07546055c')\"\n",
       "              title=\"Convert this dataframe to an interactive table.\"\n",
       "              style=\"display:none;\">\n",
       "        \n",
       "  <svg xmlns=\"http://www.w3.org/2000/svg\" height=\"24px\"viewBox=\"0 0 24 24\"\n",
       "       width=\"24px\">\n",
       "    <path d=\"M0 0h24v24H0V0z\" fill=\"none\"/>\n",
       "    <path d=\"M18.56 5.44l.94 2.06.94-2.06 2.06-.94-2.06-.94-.94-2.06-.94 2.06-2.06.94zm-11 1L8.5 8.5l.94-2.06 2.06-.94-2.06-.94L8.5 2.5l-.94 2.06-2.06.94zm10 10l.94 2.06.94-2.06 2.06-.94-2.06-.94-.94-2.06-.94 2.06-2.06.94z\"/><path d=\"M17.41 7.96l-1.37-1.37c-.4-.4-.92-.59-1.43-.59-.52 0-1.04.2-1.43.59L10.3 9.45l-7.72 7.72c-.78.78-.78 2.05 0 2.83L4 21.41c.39.39.9.59 1.41.59.51 0 1.02-.2 1.41-.59l7.78-7.78 2.81-2.81c.8-.78.8-2.07 0-2.86zM5.41 20L4 18.59l7.72-7.72 1.47 1.35L5.41 20z\"/>\n",
       "  </svg>\n",
       "      </button>\n",
       "      \n",
       "  <style>\n",
       "    .colab-df-container {\n",
       "      display:flex;\n",
       "      flex-wrap:wrap;\n",
       "      gap: 12px;\n",
       "    }\n",
       "\n",
       "    .colab-df-convert {\n",
       "      background-color: #E8F0FE;\n",
       "      border: none;\n",
       "      border-radius: 50%;\n",
       "      cursor: pointer;\n",
       "      display: none;\n",
       "      fill: #1967D2;\n",
       "      height: 32px;\n",
       "      padding: 0 0 0 0;\n",
       "      width: 32px;\n",
       "    }\n",
       "\n",
       "    .colab-df-convert:hover {\n",
       "      background-color: #E2EBFA;\n",
       "      box-shadow: 0px 1px 2px rgba(60, 64, 67, 0.3), 0px 1px 3px 1px rgba(60, 64, 67, 0.15);\n",
       "      fill: #174EA6;\n",
       "    }\n",
       "\n",
       "    [theme=dark] .colab-df-convert {\n",
       "      background-color: #3B4455;\n",
       "      fill: #D2E3FC;\n",
       "    }\n",
       "\n",
       "    [theme=dark] .colab-df-convert:hover {\n",
       "      background-color: #434B5C;\n",
       "      box-shadow: 0px 1px 3px 1px rgba(0, 0, 0, 0.15);\n",
       "      filter: drop-shadow(0px 1px 2px rgba(0, 0, 0, 0.3));\n",
       "      fill: #FFFFFF;\n",
       "    }\n",
       "  </style>\n",
       "\n",
       "      <script>\n",
       "        const buttonEl =\n",
       "          document.querySelector('#df-ddbd8193-6048-411e-9dee-24c07546055c button.colab-df-convert');\n",
       "        buttonEl.style.display =\n",
       "          google.colab.kernel.accessAllowed ? 'block' : 'none';\n",
       "\n",
       "        async function convertToInteractive(key) {\n",
       "          const element = document.querySelector('#df-ddbd8193-6048-411e-9dee-24c07546055c');\n",
       "          const dataTable =\n",
       "            await google.colab.kernel.invokeFunction('convertToInteractive',\n",
       "                                                     [key], {});\n",
       "          if (!dataTable) return;\n",
       "\n",
       "          const docLinkHtml = 'Like what you see? Visit the ' +\n",
       "            '<a target=\"_blank\" href=https://colab.research.google.com/notebooks/data_table.ipynb>data table notebook</a>'\n",
       "            + ' to learn more about interactive tables.';\n",
       "          element.innerHTML = '';\n",
       "          dataTable['output_type'] = 'display_data';\n",
       "          await google.colab.output.renderOutput(dataTable, element);\n",
       "          const docLink = document.createElement('div');\n",
       "          docLink.innerHTML = docLinkHtml;\n",
       "          element.appendChild(docLink);\n",
       "        }\n",
       "      </script>\n",
       "    </div>\n",
       "  </div>\n",
       "  "
      ],
      "text/plain": [
       "   durasi  calories  berat\n",
       "0       1  0.058358      2\n",
       "1       1  0.087536      3\n",
       "2       1  0.116715      4\n",
       "3       1  0.145894      5\n",
       "4       1  0.175073      6"
      ]
     },
     "execution_count": 4,
     "metadata": {},
     "output_type": "execute_result"
    }
   ],
   "source": [
    "target = df['Activity, Exercise or Sport (1 hour)']\n",
    "print(df_new.head())\n",
    "numeric_feature_names = ['durasi', 'calories', 'berat']\n",
    "numeric_features = df_new[numeric_feature_names]\n",
    "numeric_features.head()"
   ]
  },
  {
   "cell_type": "code",
   "execution_count": 6,
   "metadata": {
    "colab": {
     "base_uri": "https://localhost:8080/"
    },
    "executionInfo": {
     "elapsed": 17,
     "status": "ok",
     "timestamp": 1686131084471,
     "user": {
      "displayName": "William Nehemia M213DSX0235",
      "userId": "07160615254805994192"
     },
     "user_tz": -420
    },
    "id": "YDdjSP0GQbHE",
    "outputId": "173f00b4-f0f2-4e82-dc19-c171855d4ef9"
   },
   "outputs": [
    {
     "name": "stdout",
     "output_type": "stream",
     "text": [
      "248\n"
     ]
    }
   ],
   "source": [
    "jumlah_class = len(df_new['activity'].value_counts())\n",
    "print(jumlah_class)"
   ]
  },
  {
   "cell_type": "code",
   "execution_count": 7,
   "metadata": {
    "colab": {
     "base_uri": "https://localhost:8080/"
    },
    "executionInfo": {
     "elapsed": 348,
     "status": "ok",
     "timestamp": 1686131084805,
     "user": {
      "displayName": "William Nehemia M213DSX0235",
      "userId": "07160615254805994192"
     },
     "user_tz": -420
    },
    "id": "XZ8bIl60W6BF",
    "outputId": "c0046390-9f4c-4213-b65d-7927a30155b7"
   },
   "outputs": [
    {
     "name": "stdout",
     "output_type": "stream",
     "text": [
      "                      activity  durasi  calories  berat Intensity Description  \\\n",
      "0  Cycling, mountain bike, bmx       1  0.058358      2                   NaN   \n",
      "1  Cycling, mountain bike, bmx       1  0.087536      3                   NaN   \n",
      "2  Cycling, mountain bike, bmx       1  0.116715      4                   NaN   \n",
      "3  Cycling, mountain bike, bmx       1  0.145894      5                   NaN   \n",
      "4  Cycling, mountain bike, bmx       1  0.175073      6                   NaN   \n",
      "\n",
      "  activity_category  \n",
      "0                61  \n",
      "1                61  \n",
      "2                61  \n",
      "3                61  \n",
      "4                61  \n"
     ]
    }
   ],
   "source": [
    "df_new['activity'] = df_new['activity'].astype('category')\n",
    "df_new['activity_category'] = df_new['activity'].cat.codes.astype('category')\n",
    "print(df_new.head())"
   ]
  },
  {
   "cell_type": "code",
   "execution_count": 8,
   "metadata": {
    "executionInfo": {
     "elapsed": 4,
     "status": "ok",
     "timestamp": 1686131084806,
     "user": {
      "displayName": "William Nehemia M213DSX0235",
      "userId": "07160615254805994192"
     },
     "user_tz": -420
    },
    "id": "jQoBYTS2XSHR"
   },
   "outputs": [],
   "source": [
    "df_new_2 = df_new.drop(columns = ['activity', 'Intensity Description', 'activity_category'])\n",
    "sc = StandardScaler()\n",
    "x = pd.DataFrame(sc.fit_transform(df_new_2))"
   ]
  },
  {
   "cell_type": "code",
   "execution_count": 9,
   "metadata": {
    "executionInfo": {
     "elapsed": 5,
     "status": "ok",
     "timestamp": 1686131084807,
     "user": {
      "displayName": "William Nehemia M213DSX0235",
      "userId": "07160615254805994192"
     },
     "user_tz": -420
    },
    "id": "b87zqOZ93r2F"
   },
   "outputs": [],
   "source": [
    "df_new_2['durasi'] = MinMaxScaler().fit_transform(np.array(df_new_2['durasi']).reshape(-1,1))\n",
    "df_new_2['calories'] = MinMaxScaler().fit_transform(np.array(df_new_2['calories']).reshape(-1,1))\n",
    "df_new_2['berat'] = MinMaxScaler().fit_transform(np.array(df_new_2['berat']).reshape(-1,1))"
   ]
  },
  {
   "cell_type": "code",
   "execution_count": 10,
   "metadata": {
    "colab": {
     "base_uri": "https://localhost:8080/"
    },
    "executionInfo": {
     "elapsed": 1273,
     "status": "ok",
     "timestamp": 1686131086076,
     "user": {
      "displayName": "William Nehemia M213DSX0235",
      "userId": "07160615254805994192"
     },
     "user_tz": -420
    },
    "id": "YP6424uZr3nY",
    "outputId": "d46b09c5-f5f4-4eff-a75a-50b1bf5adf71"
   },
   "outputs": [
    {
     "name": "stdout",
     "output_type": "stream",
     "text": [
      "[[-1.70293372 -0.9233803  -1.71404105]\n",
      " [-1.70293372 -0.92260191 -1.67905451]\n",
      " [-1.70293372 -0.92182353 -1.64406797]\n",
      " ...\n",
      " [ 1.76104218 -0.90846636 -1.74902759]\n",
      " [ 1.76104218 -0.90297612 -1.74902759]\n",
      " [ 1.76104218 -0.90297612 -1.74902759]]\n",
      "<class 'numpy.ndarray'>\n",
      "[[0. 0. 0. ... 0. 0. 0.]\n",
      " [0. 0. 0. ... 0. 0. 0.]\n",
      " [0. 0. 0. ... 0. 0. 0.]\n",
      " ...\n",
      " [0. 0. 0. ... 0. 0. 0.]\n",
      " [0. 0. 0. ... 0. 0. 0.]\n",
      " [0. 0. 0. ... 0. 0. 0.]]\n",
      "<class 'numpy.ndarray'>\n",
      "[ 61  61  61 ... 207 232 208]\n"
     ]
    }
   ],
   "source": [
    "y = tf.keras.utils.to_categorical(df_new[\"activity_category\"].values, num_classes=jumlah_class)\n",
    "print(x.values)\n",
    "print(type(x.values))\n",
    "print(y)\n",
    "print(type(y))\n",
    "y = np.array(df_new['activity_category'])\n",
    "print(y)\n",
    "x_train, x_test, y_train, y_test = train_test_split(x.values, y, test_size=0.2)"
   ]
  },
  {
   "cell_type": "code",
   "execution_count": 11,
   "metadata": {
    "colab": {
     "base_uri": "https://localhost:8080/"
    },
    "executionInfo": {
     "elapsed": 19,
     "status": "ok",
     "timestamp": 1686131086077,
     "user": {
      "displayName": "William Nehemia M213DSX0235",
      "userId": "07160615254805994192"
     },
     "user_tz": -420
    },
    "id": "HUor4l-J55f2",
    "outputId": "0c98cb8a-5d21-4c22-e47f-0356b9900cbb"
   },
   "outputs": [
    {
     "name": "stdout",
     "output_type": "stream",
     "text": [
      "[[ 1.35006199  0.14199908  0.1402456 ]\n",
      " [-0.05901295 -0.434158    0.17523214]\n",
      " [-0.41128169 -0.51427182 -1.3291891 ]\n",
      " ...\n",
      " [-0.05901295 -0.35971712  0.70003025]\n",
      " [ 0.76294743  1.24878701  0.63005717]\n",
      " [-0.99839625  0.03741788  0.9099495 ]]\n",
      "[ 25 223 156 ...  95  24 192]\n",
      "[[-1.23324207 -0.57547081  0.07027252]\n",
      " [-0.35257023 -0.78427141 -1.50412181]\n",
      " [ 1.05650471  0.4454262   0.94493604]\n",
      " ...\n",
      " [ 1.70233072  1.36600839  0.07027252]\n",
      " [-0.29385878  0.28291517  1.29480144]\n",
      " [-0.05901295 -0.71901132 -0.69943137]]\n",
      "[ 87 210  72 ... 148 122 116]\n"
     ]
    }
   ],
   "source": [
    "print(x_train)\n",
    "print(y_train)\n",
    "print(x_test)\n",
    "print(y_test)"
   ]
  },
  {
   "cell_type": "code",
   "execution_count": 12,
   "metadata": {
    "colab": {
     "base_uri": "https://localhost:8080/"
    },
    "executionInfo": {
     "elapsed": 13,
     "status": "ok",
     "timestamp": 1686131086078,
     "user": {
      "displayName": "William Nehemia M213DSX0235",
      "userId": "07160615254805994192"
     },
     "user_tz": -420
    },
    "id": "7CR_GNkFJcH4",
    "outputId": "4e1b12df-10eb-4710-b39b-6c61773c9b2b"
   },
   "outputs": [
    {
     "name": "stdout",
     "output_type": "stream",
     "text": [
      "[[ 0.2929949  -4.21223056 -1.288332   ... -4.43170633 -2.82646737\n",
      "   0.44916808]\n",
      " [-0.06839901  5.51884147 11.2389773  ... -3.08994781  1.19029898\n",
      "   1.62025622]\n",
      " [ 0.73161622 -0.68468633 -0.98174194 ...  5.65429655 -0.64659866\n",
      "  -3.15652999]\n",
      " ...\n",
      " [ 0.81230832  0.29333773  3.55727154 ...  7.52278375 -4.50067701\n",
      "  -1.92525878]\n",
      " [ 2.62760166 -1.9607565  -7.1050466  ...  0.02433393 -0.77573778\n",
      "   4.04660465]\n",
      " [-0.97292653  0.76166769  3.98307684 ...  0.85864477  2.406057\n",
      "   2.33338943]]\n",
      "[1 1 1 0 0 0 1 1 0 1 0 1 1 0 1 1 1 1 0 0 1 0 0 1 1 0 1 0 1 1 1 0 1 0 0 1 0\n",
      " 1 0 1 0 1 1 1 0 1 0 0 1 0 1 1 1 1 1 1 1 0 0 1 1 1 0 0 1 0 0 1 0 1 1 1 0 0\n",
      " 0 1 0 1 0 0 1 1 0 1 0 1 1 1 0 0 1 0 1 0 1 1 0 0 1 1 1 0 1 1 0 0 1 1 0 1 0\n",
      " 0 0 1 1 1 1 0 0 0 1 0 1 1 1 1 0 0 0 1 0 0 1 1 1 0 0 1 0 1 0 1 0 1 1 0 1 0\n",
      " 1 1 1 0 1 1 0 1 1 0 1 0 0 0 0 0 0 1 0 1 1 1 0 1 1 1 1 0 0 0 0 0 0 1 0 0 0\n",
      " 0 0 1 1 1 0 0 0 1 0 0 1 0 1 1 1 1 1 0 0 0 1 1 0 1 0 1 1 0 0 1 1 0 0 1 1 1\n",
      " 0 0 1 1 0 1 1 1 0 1 0 1 1 0 0 1 0 0 0 0 1 0 0 0 1 1 1 1 0 0 0 0 1 1 0 0 0\n",
      " 1 1 1 0 0 0 1 1 0 0 1 0 1 1 1 1 0 1 0 1 1 1 1 0 0 1 1 1 0 1 1 1 0 0 0 0 1\n",
      " 0 0 1 1 1 1 1 0 0 0 1 1 0 0 0 0 0 1 0 0 0 1 1 0 1 0 1 1 0 1 1 0 0 1 0 0 1\n",
      " 0 0 1 0 0 0 1 0 0 0 1 1 0 0 1 0 1 0 1 0 0 0 0 0 0 1 1 1 0 1 0 1 0 0 1 0 0\n",
      " 1 0 1 1 0 1 0 1 0 0 0 1 1 0 0 1 1 1 0 1 1 0 1 1 0 1 0 1 0 1 1 1 0 0 0 0 1\n",
      " 0 1 1 1 0 0 1 0 1 0 1 0 0 0 0 0 1 0 0 0 1 0 1 1 1 1 1 1 0 1 0 1 0 0 1 1 0\n",
      " 0 0 1 1 0 0 0 0 1 0 0 0 1 0 0 0 0 1 0 1 0 1 1 1 1 1 1 1 1 1 1 1 1 0 1 1 0\n",
      " 1 0 1 0 1 1 0 0 1 1 1 1 1 1 1 1 1 0 0 0 1 0 1 1 0 0 1 0 1 1 0 1 0 0 1 0 0\n",
      " 0 0 0 0 0 1 0 1 1 1 1 0 1 1 1 0 0 0 1 0 0 1 1 0 1 1 1 0 0 1 1 0 1 0 0 0 0\n",
      " 0 1 1 1 0 1 1 0 1 0 1 1 0 0 0 1 0 0 1 0 0 1 0 1 1 1 0 1 0 1 1 1 1 1 1 1 0\n",
      " 1 1 0 0 0 1 1 1 0 0 0 0 0 1 1 1 0 1 1 0 1 0 0 1 0 0 0 0 0 1 0 0 1 0 1 0 0\n",
      " 0 1 0 1 0 0 1 1 0 1 0 0 0 1 0 1 0 0 0 1 0 0 1 1 0 0 1 0 0 0 1 0 0 0 0 0 1\n",
      " 0 1 1 1 1 1 1 0 0 1 1 0 0 1 0 0 1 0 0 0 1 0 1 0 1 1 0 0 0 0 1 0 0 0 0 1 1\n",
      " 0 0 1 0 0 1 0 1 1 1 0 1 0 0 0 1 1 0 0 0 0 1 0 0 1 1 0 1 1 1 0 1 1 1 1 0 1\n",
      " 1 0 1 1 0 0 0 0 1 0 0 0 1 1 1 1 0 0 1 0 1 0 0 1 1 0 1 1 1 0 1 0 1 0 1 0 1\n",
      " 0 0 0 1 1 0 1 1 0 0 0 0 1 1 1 0 1 1 1 0 1 0 0 1 0 0 0 0 1 0 0 1 0 1 1 0 0\n",
      " 0 1 1 0 0 1 1 0 0 1 0 1 1 0 0 0 1 0 1 0 1 1 1 1 0 0 1 1 1 1 1 0 0 0 1 0 0\n",
      " 0 0 0 1 0 1 1 1 1 1 0 1 1 1 1 0 1 0 1 1 0 1 0 0 1 1 1 0 1 0 0 0 0 0 1 1 1\n",
      " 1 0 1 1 1 0 1 0 1 1 0 1 0 1 1 1 1 1 1 0 0 0 0 1 0 0 0 0 1 1 0 0 1 1 1 1 0\n",
      " 0 0 0 0 1 1 0 1 0 0 1 1 1 0 1 1 1 0 0 1 1 0 0 0 0 0 1 0 0 0 0 0 0 1 1 0 1\n",
      " 0 1 1 1 0 1 1 0 0 0 1 1 1 1 1 0 0 1 1 0 0 0 1 1 0 0 0 1 0 0 1 0 0 1 1 0 0\n",
      " 1]\n"
     ]
    }
   ],
   "source": [
    "x, y = make_classification(n_samples=1000, n_features=20, n_informative=15, n_redundant=5, random_state=7)\n",
    "print(x)\n",
    "print(y)"
   ]
  },
  {
   "cell_type": "code",
   "execution_count": null,
   "metadata": {
    "id": "4BJiaTgQIxQh"
   },
   "outputs": [],
   "source": [
    "model = GradientBoostingClassifier(n_estimators = banyak_kategori)\n",
    "model.fit(x_train, y_train)"
   ]
  },
  {
   "cell_type": "code",
   "execution_count": null,
   "metadata": {
    "id": "zRFoCXprNR1b"
   },
   "outputs": [],
   "source": [
    "y_pred = model.predict(x_test)\n",
    "y_test_class = np.argmax(y_test, axis=1)\n",
    "classes_pred = np.argmax(y_pred,axis=1)\n",
    "report = classification_report(y_test_class, classes_pred, output_dict=True, zero_division=0)\n",
    "print(report)\n",
    "\n",
    "# Extract the metrics\n",
    "precision = report['macro avg']['precision']\n",
    "recall = report['macro avg']['recall']\n",
    "f1_score = report['macro avg']['f1-score']\n",
    "support = report['macro avg']['support']\n",
    "accuracy = report['accuracy']\n",
    "\n",
    "print(\"accuracy:\", accuracy)\n",
    "print(\"Precision:\", precision)\n",
    "print(\"Recall:\", recall)\n",
    "print(\"F1-score:\", f1_score)\n",
    "print(\"support\" , support)"
   ]
  },
  {
   "cell_type": "code",
   "execution_count": null,
   "metadata": {
    "id": "9ofPOIUd8UGd"
   },
   "outputs": [],
   "source": []
  }
 ],
 "metadata": {
  "colab": {
   "authorship_tag": "ABX9TyMbiAwPPLhXENQZ8eCMo7eR",
   "gpuType": "T4",
   "provenance": []
  },
  "kernelspec": {
   "display_name": "Python 3 (ipykernel)",
   "language": "python",
   "name": "python3"
  },
  "language_info": {
   "codemirror_mode": {
    "name": "ipython",
    "version": 3
   },
   "file_extension": ".py",
   "mimetype": "text/x-python",
   "name": "python",
   "nbconvert_exporter": "python",
   "pygments_lexer": "ipython3",
   "version": "3.11.3"
  }
 },
 "nbformat": 4,
 "nbformat_minor": 1
}
