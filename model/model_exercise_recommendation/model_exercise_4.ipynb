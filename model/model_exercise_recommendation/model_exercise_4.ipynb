{
 "cells": [
  {
   "cell_type": "code",
   "execution_count": 1,
   "metadata": {
    "colab": {
     "base_uri": "https://localhost:8080/"
    },
    "executionInfo": {
     "elapsed": 80370,
     "status": "ok",
     "timestamp": 1685672766521,
     "user": {
      "displayName": "William Nehemia M213DSX0235",
      "userId": "07160615254805994192"
     },
     "user_tz": -420
    },
    "id": "rodIDMFltOx-",
    "outputId": "d8c896c3-e068-4227-d255-ad81a230ba8c"
   },
   "outputs": [
    {
     "name": "stdout",
     "output_type": "stream",
     "text": [
      "Mounted at /content/drive\n",
      "  Activity, Exercise or Sport (1 hour) Intensity Description  \\\n",
      "0          Cycling, mountain bike, bmx                   NaN   \n",
      "1  Cycling, <10 mph, leisure bicycling                   NaN   \n",
      "2             Cycling, >20 mph, racing                   NaN   \n",
      "3          Cycling, 10-11.9 mph, light                   NaN   \n",
      "4       Cycling, 12-13.9 mph, moderate                   NaN   \n",
      "\n",
      "   Duration (minutes)  Calories per kg  \n",
      "0                  60         1.750730  \n",
      "1                  60         0.823236  \n",
      "2                  60         3.294974  \n",
      "3                  60         1.234853  \n",
      "4                  60         1.647825  \n"
     ]
    }
   ],
   "source": [
    "from google.colab import drive\n",
    "import pandas as pd\n",
    "from sklearn.model_selection import train_test_split\n",
    "from sklearn.preprocessing import LabelEncoder\n",
    "from keras.utils import np_utils\n",
    "from keras.wrappers.scikit_learn import KerasClassifier\n",
    "from sklearn.model_selection import KFold\n",
    "from sklearn.model_selection import cross_val_score\n",
    "from sklearn.preprocessing import MinMaxScaler\n",
    "import matplotlib.pyplot as plt\n",
    "import numpy as np\n",
    "import tensorflow as tf\n",
    "from tensorflow import keras    \n",
    "from tensorflow.keras.layers import Flatten   \n",
    "from tensorflow.keras.layers import Dense, Dropout\n",
    "import numpy as np\n",
    "import pandas as pd\n",
    "import pickle\n",
    "# Import LabelEncoder\n",
    "from sklearn import preprocessing\n",
    "# Library untuk feature selection\n",
    "from sklearn.feature_selection import SelectKBest\n",
    "from sklearn.feature_selection import chi2\n",
    "# Import train_test_split function\n",
    "from sklearn.model_selection import train_test_split\n",
    "# Library untuk algoritma klasifikasi KNN\n",
    "from sklearn.neighbors import KNeighborsClassifier\n",
    "#Import scikit-learn metrics module for accuracy calculation\n",
    "#from sklearn import metrics\n",
    "\n",
    "drive.mount(\"/content/drive\")\n",
    "path = \"/content/drive/MyDrive/Capstone/exercise_datasetV2.csv\"\n",
    "df = pd.read_csv(path)\n",
    "print(df.head())\n",
    "banyak_kategori = len(df.index)\n"
   ]
  },
  {
   "cell_type": "code",
   "execution_count": 2,
   "metadata": {
    "colab": {
     "base_uri": "https://localhost:8080/"
    },
    "executionInfo": {
     "elapsed": 2874,
     "status": "ok",
     "timestamp": 1685672769386,
     "user": {
      "displayName": "William Nehemia M213DSX0235",
      "userId": "07160615254805994192"
     },
     "user_tz": -420
    },
    "id": "pxRy28e4uPWD",
    "outputId": "9ec295c1-c4ba-4643-f8b6-c9275ff7e3ae"
   },
   "outputs": [
    {
     "name": "stdout",
     "output_type": "stream",
     "text": [
      "0\n",
      "1\n",
      "2\n",
      "3\n",
      "4\n",
      "5\n",
      "6\n",
      "7\n",
      "8\n",
      "9\n",
      "10\n",
      "11\n",
      "12\n",
      "13\n",
      "14\n",
      "15\n",
      "16\n",
      "17\n",
      "18\n",
      "19\n",
      "20\n",
      "21\n",
      "22\n",
      "23\n",
      "24\n",
      "25\n",
      "26\n",
      "27\n",
      "28\n",
      "29\n",
      "30\n",
      "31\n",
      "32\n",
      "33\n",
      "34\n",
      "35\n",
      "36\n",
      "37\n",
      "38\n",
      "39\n",
      "40\n",
      "41\n",
      "42\n",
      "43\n",
      "44\n",
      "45\n",
      "46\n",
      "47\n",
      "48\n",
      "49\n",
      "50\n",
      "51\n",
      "52\n",
      "53\n",
      "54\n",
      "55\n",
      "56\n",
      "57\n",
      "58\n",
      "59\n",
      "60\n",
      "61\n",
      "62\n",
      "63\n",
      "64\n",
      "65\n",
      "66\n",
      "67\n",
      "68\n",
      "69\n",
      "70\n",
      "71\n",
      "72\n",
      "73\n",
      "74\n",
      "75\n",
      "76\n",
      "77\n",
      "78\n",
      "79\n",
      "80\n",
      "81\n",
      "82\n",
      "83\n",
      "84\n",
      "85\n",
      "86\n",
      "87\n",
      "88\n",
      "89\n",
      "90\n",
      "91\n",
      "92\n",
      "93\n",
      "94\n",
      "95\n",
      "96\n",
      "97\n",
      "98\n",
      "99\n",
      "100\n",
      "101\n",
      "102\n",
      "103\n",
      "104\n",
      "105\n",
      "106\n",
      "107\n",
      "108\n",
      "109\n",
      "110\n",
      "111\n",
      "112\n",
      "113\n",
      "114\n",
      "115\n",
      "116\n",
      "117\n",
      "118\n",
      "119\n",
      "120\n",
      "121\n",
      "122\n",
      "123\n",
      "124\n",
      "125\n",
      "126\n",
      "127\n",
      "128\n",
      "129\n",
      "130\n",
      "131\n",
      "132\n",
      "133\n",
      "134\n",
      "135\n",
      "136\n",
      "137\n",
      "138\n",
      "139\n",
      "140\n",
      "141\n",
      "142\n",
      "143\n",
      "144\n",
      "145\n",
      "146\n",
      "147\n",
      "148\n",
      "149\n",
      "150\n",
      "151\n",
      "152\n",
      "153\n",
      "154\n",
      "155\n",
      "156\n",
      "157\n",
      "158\n",
      "159\n",
      "160\n",
      "161\n",
      "162\n",
      "163\n",
      "164\n",
      "165\n",
      "166\n",
      "167\n",
      "168\n",
      "169\n",
      "170\n",
      "171\n",
      "172\n",
      "173\n",
      "174\n",
      "175\n",
      "176\n",
      "177\n",
      "178\n",
      "179\n",
      "180\n",
      "181\n",
      "182\n",
      "183\n",
      "184\n",
      "185\n",
      "186\n",
      "187\n",
      "188\n",
      "189\n",
      "190\n",
      "191\n",
      "192\n",
      "193\n",
      "194\n",
      "195\n",
      "196\n",
      "197\n",
      "198\n",
      "199\n",
      "200\n",
      "201\n",
      "202\n",
      "203\n",
      "204\n",
      "205\n",
      "206\n",
      "207\n",
      "208\n",
      "209\n",
      "210\n",
      "211\n",
      "212\n",
      "213\n",
      "214\n",
      "215\n",
      "216\n",
      "217\n",
      "218\n",
      "219\n",
      "220\n",
      "221\n",
      "222\n",
      "223\n",
      "224\n",
      "225\n",
      "226\n",
      "227\n",
      "228\n",
      "229\n",
      "230\n",
      "231\n",
      "232\n",
      "233\n",
      "234\n",
      "235\n",
      "236\n",
      "237\n",
      "238\n",
      "239\n",
      "240\n",
      "241\n",
      "242\n",
      "243\n",
      "244\n",
      "245\n",
      "246\n",
      "247\n",
      "  Activity, Exercise or Sport (1 hour)  Duration (minutes)  Calories per kg  \\\n",
      "0          Cycling, mountain bike, bmx                   1         0.058358   \n",
      "1          Cycling, mountain bike, bmx                   1         0.087536   \n",
      "2          Cycling, mountain bike, bmx                   1         0.116715   \n",
      "3          Cycling, mountain bike, bmx                   1         0.145894   \n",
      "4          Cycling, mountain bike, bmx                   1         0.175073   \n",
      "\n",
      "   berat Intensity Description  \n",
      "0      2                   NaN  \n",
      "1      3                   NaN  \n",
      "2      4                   NaN  \n",
      "3      5                   NaN  \n",
      "4      6                   NaN  \n",
      "            Activity, Exercise or Sport (1 hour)  Duration (minutes)  \\\n",
      "1448811                         General cleaning                  60   \n",
      "1448812                        Cleaning, dusting                  60   \n",
      "1448813                         Taking out trash                  60   \n",
      "1448814            Walking, pushing a wheelchair                  60   \n",
      "1448815  Teach physical education,exercise class                  60   \n",
      "\n",
      "         Calories per kg  berat Intensity Description  \n",
      "1448811         0.721008      1                   NaN  \n",
      "1448812         0.515199      1                   NaN  \n",
      "1448813         0.617427      1                   NaN  \n",
      "1448814         0.823236      1                   NaN  \n",
      "1448815         0.823236      1                   NaN  \n"
     ]
    }
   ],
   "source": [
    "list_berat = []\n",
    "for i in range(len(df.index)):\n",
    "  list_berat.append(1)\n",
    "\n",
    "df['berat'] =  list_berat\n",
    "dict_df = {'Activity, Exercise or Sport (1 hour)' : [], 'Duration (minutes)': [], 'Calories per kg': [], 'berat' : []}\n",
    "df_new = df\n",
    "for index, row in df.iterrows():\n",
    "  print(index)\n",
    "  menit = row['Duration (minutes)']\n",
    "  activity = row['Activity, Exercise or Sport (1 hour)']\n",
    "  calories = row['Calories per kg']\n",
    "  for i in range(1,menit):\n",
    "    for j in range(2,101):\n",
    "      new_calories = calories*1.0/60*i*j\n",
    "      list_activity = dict_df.get('Activity, Exercise or Sport (1 hour)')\n",
    "      list_duration = dict_df.get('Duration (minutes)')\n",
    "      list_calories = dict_df.get('Calories per kg')\n",
    "      list_berat = dict_df.get('berat')\n",
    "      list_activity.append(activity)\n",
    "      list_duration.append(i)\n",
    "      list_calories.append(new_calories)\n",
    "      list_berat.append(j)\n",
    "      #new_row = pd.DataFrame({'Activity, Exercise or Sport (1 hour)' : [activity], 'Duration (minutes)': [i], 'Calories per kg': [new_calories], 'berat' : [j]})\n",
    "      \n",
    "df_curr = pd.DataFrame(dict_df)   \n",
    "df_new = pd.concat([df_curr, df_new.loc[:]]).reset_index(drop=True)\n",
    "#df2 = pd.concat([new_row,df.loc[:]]).reset_index(drop=True)\n",
    "print(df_new.head())\n",
    "print(df_new.tail())"
   ]
  },
  {
   "cell_type": "code",
   "execution_count": 3,
   "metadata": {
    "colab": {
     "base_uri": "https://localhost:8080/"
    },
    "executionInfo": {
     "elapsed": 11,
     "status": "ok",
     "timestamp": 1685672769387,
     "user": {
      "displayName": "William Nehemia M213DSX0235",
      "userId": "07160615254805994192"
     },
     "user_tz": -420
    },
    "id": "0QmN7wY7wnDX",
    "outputId": "e6a484fa-7ebd-4a93-8fad-78dd4cd0c68b"
   },
   "outputs": [
    {
     "name": "stdout",
     "output_type": "stream",
     "text": [
      "1448816\n",
      "       Duration (minutes)  Calories per kg         berat\n",
      "count        1.448816e+06     1.448816e+06  1.448816e+06\n",
      "mean         3.000514e+01     3.467251e+01  5.099144e+01\n",
      "std          1.703246e+01     3.748635e+01  2.858243e+01\n",
      "min          1.000000e+00     1.033558e-02  1.000000e+00\n",
      "25%          1.500000e+01     8.237434e+00  2.600000e+01\n",
      "50%          3.000000e+01     2.219663e+01  5.100000e+01\n",
      "75%          4.500000e+01     4.774767e+01  7.600000e+01\n",
      "max          6.000000e+01     3.644815e+02  1.000000e+02\n",
      "Activity, Exercise or Sport (1 hour)     object\n",
      "Duration (minutes)                        int64\n",
      "Calories per kg                         float64\n",
      "berat                                     int64\n",
      "Intensity Description                    object\n",
      "dtype: object\n",
      "                      activity  durasi  calories  berat Intensity Description\n",
      "0  Cycling, mountain bike, bmx       1  0.058358      2                   NaN\n",
      "1  Cycling, mountain bike, bmx       1  0.087536      3                   NaN\n",
      "2  Cycling, mountain bike, bmx       1  0.116715      4                   NaN\n",
      "3  Cycling, mountain bike, bmx       1  0.145894      5                   NaN\n",
      "4  Cycling, mountain bike, bmx       1  0.175073      6                   NaN\n"
     ]
    }
   ],
   "source": [
    "print(len(df_new.index))\n",
    "print(df_new.describe())\n",
    "print(df_new.dtypes)\n",
    "df_new.rename(columns = {'Activity, Exercise or Sport (1 hour)':'activity', 'Duration (minutes)' : 'durasi' , 'Calories per kg' : 'calories' }, inplace = True)\n",
    "print(df_new.head())"
   ]
  },
  {
   "cell_type": "code",
   "execution_count": 4,
   "metadata": {
    "colab": {
     "base_uri": "https://localhost:8080/",
     "height": 313
    },
    "executionInfo": {
     "elapsed": 10,
     "status": "ok",
     "timestamp": 1685672769387,
     "user": {
      "displayName": "William Nehemia M213DSX0235",
      "userId": "07160615254805994192"
     },
     "user_tz": -420
    },
    "id": "JNALWDU8wrPL",
    "outputId": "f1e13b75-eabf-4627-fa1f-b2805bb05bdf"
   },
   "outputs": [
    {
     "name": "stdout",
     "output_type": "stream",
     "text": [
      "                      activity  durasi  calories  berat Intensity Description\n",
      "0  Cycling, mountain bike, bmx       1  0.058358      2                   NaN\n",
      "1  Cycling, mountain bike, bmx       1  0.087536      3                   NaN\n",
      "2  Cycling, mountain bike, bmx       1  0.116715      4                   NaN\n",
      "3  Cycling, mountain bike, bmx       1  0.145894      5                   NaN\n",
      "4  Cycling, mountain bike, bmx       1  0.175073      6                   NaN\n"
     ]
    },
    {
     "data": {
      "text/html": [
       "\n",
       "  <div id=\"df-698f2c51-8326-4f50-aa62-25fcb14b1d4e\">\n",
       "    <div class=\"colab-df-container\">\n",
       "      <div>\n",
       "<style scoped>\n",
       "    .dataframe tbody tr th:only-of-type {\n",
       "        vertical-align: middle;\n",
       "    }\n",
       "\n",
       "    .dataframe tbody tr th {\n",
       "        vertical-align: top;\n",
       "    }\n",
       "\n",
       "    .dataframe thead th {\n",
       "        text-align: right;\n",
       "    }\n",
       "</style>\n",
       "<table border=\"1\" class=\"dataframe\">\n",
       "  <thead>\n",
       "    <tr style=\"text-align: right;\">\n",
       "      <th></th>\n",
       "      <th>durasi</th>\n",
       "      <th>calories</th>\n",
       "      <th>berat</th>\n",
       "    </tr>\n",
       "  </thead>\n",
       "  <tbody>\n",
       "    <tr>\n",
       "      <th>0</th>\n",
       "      <td>1</td>\n",
       "      <td>0.058358</td>\n",
       "      <td>2</td>\n",
       "    </tr>\n",
       "    <tr>\n",
       "      <th>1</th>\n",
       "      <td>1</td>\n",
       "      <td>0.087536</td>\n",
       "      <td>3</td>\n",
       "    </tr>\n",
       "    <tr>\n",
       "      <th>2</th>\n",
       "      <td>1</td>\n",
       "      <td>0.116715</td>\n",
       "      <td>4</td>\n",
       "    </tr>\n",
       "    <tr>\n",
       "      <th>3</th>\n",
       "      <td>1</td>\n",
       "      <td>0.145894</td>\n",
       "      <td>5</td>\n",
       "    </tr>\n",
       "    <tr>\n",
       "      <th>4</th>\n",
       "      <td>1</td>\n",
       "      <td>0.175073</td>\n",
       "      <td>6</td>\n",
       "    </tr>\n",
       "  </tbody>\n",
       "</table>\n",
       "</div>\n",
       "      <button class=\"colab-df-convert\" onclick=\"convertToInteractive('df-698f2c51-8326-4f50-aa62-25fcb14b1d4e')\"\n",
       "              title=\"Convert this dataframe to an interactive table.\"\n",
       "              style=\"display:none;\">\n",
       "        \n",
       "  <svg xmlns=\"http://www.w3.org/2000/svg\" height=\"24px\"viewBox=\"0 0 24 24\"\n",
       "       width=\"24px\">\n",
       "    <path d=\"M0 0h24v24H0V0z\" fill=\"none\"/>\n",
       "    <path d=\"M18.56 5.44l.94 2.06.94-2.06 2.06-.94-2.06-.94-.94-2.06-.94 2.06-2.06.94zm-11 1L8.5 8.5l.94-2.06 2.06-.94-2.06-.94L8.5 2.5l-.94 2.06-2.06.94zm10 10l.94 2.06.94-2.06 2.06-.94-2.06-.94-.94-2.06-.94 2.06-2.06.94z\"/><path d=\"M17.41 7.96l-1.37-1.37c-.4-.4-.92-.59-1.43-.59-.52 0-1.04.2-1.43.59L10.3 9.45l-7.72 7.72c-.78.78-.78 2.05 0 2.83L4 21.41c.39.39.9.59 1.41.59.51 0 1.02-.2 1.41-.59l7.78-7.78 2.81-2.81c.8-.78.8-2.07 0-2.86zM5.41 20L4 18.59l7.72-7.72 1.47 1.35L5.41 20z\"/>\n",
       "  </svg>\n",
       "      </button>\n",
       "      \n",
       "  <style>\n",
       "    .colab-df-container {\n",
       "      display:flex;\n",
       "      flex-wrap:wrap;\n",
       "      gap: 12px;\n",
       "    }\n",
       "\n",
       "    .colab-df-convert {\n",
       "      background-color: #E8F0FE;\n",
       "      border: none;\n",
       "      border-radius: 50%;\n",
       "      cursor: pointer;\n",
       "      display: none;\n",
       "      fill: #1967D2;\n",
       "      height: 32px;\n",
       "      padding: 0 0 0 0;\n",
       "      width: 32px;\n",
       "    }\n",
       "\n",
       "    .colab-df-convert:hover {\n",
       "      background-color: #E2EBFA;\n",
       "      box-shadow: 0px 1px 2px rgba(60, 64, 67, 0.3), 0px 1px 3px 1px rgba(60, 64, 67, 0.15);\n",
       "      fill: #174EA6;\n",
       "    }\n",
       "\n",
       "    [theme=dark] .colab-df-convert {\n",
       "      background-color: #3B4455;\n",
       "      fill: #D2E3FC;\n",
       "    }\n",
       "\n",
       "    [theme=dark] .colab-df-convert:hover {\n",
       "      background-color: #434B5C;\n",
       "      box-shadow: 0px 1px 3px 1px rgba(0, 0, 0, 0.15);\n",
       "      filter: drop-shadow(0px 1px 2px rgba(0, 0, 0, 0.3));\n",
       "      fill: #FFFFFF;\n",
       "    }\n",
       "  </style>\n",
       "\n",
       "      <script>\n",
       "        const buttonEl =\n",
       "          document.querySelector('#df-698f2c51-8326-4f50-aa62-25fcb14b1d4e button.colab-df-convert');\n",
       "        buttonEl.style.display =\n",
       "          google.colab.kernel.accessAllowed ? 'block' : 'none';\n",
       "\n",
       "        async function convertToInteractive(key) {\n",
       "          const element = document.querySelector('#df-698f2c51-8326-4f50-aa62-25fcb14b1d4e');\n",
       "          const dataTable =\n",
       "            await google.colab.kernel.invokeFunction('convertToInteractive',\n",
       "                                                     [key], {});\n",
       "          if (!dataTable) return;\n",
       "\n",
       "          const docLinkHtml = 'Like what you see? Visit the ' +\n",
       "            '<a target=\"_blank\" href=https://colab.research.google.com/notebooks/data_table.ipynb>data table notebook</a>'\n",
       "            + ' to learn more about interactive tables.';\n",
       "          element.innerHTML = '';\n",
       "          dataTable['output_type'] = 'display_data';\n",
       "          await google.colab.output.renderOutput(dataTable, element);\n",
       "          const docLink = document.createElement('div');\n",
       "          docLink.innerHTML = docLinkHtml;\n",
       "          element.appendChild(docLink);\n",
       "        }\n",
       "      </script>\n",
       "    </div>\n",
       "  </div>\n",
       "  "
      ],
      "text/plain": [
       "   durasi  calories  berat\n",
       "0       1  0.058358      2\n",
       "1       1  0.087536      3\n",
       "2       1  0.116715      4\n",
       "3       1  0.145894      5\n",
       "4       1  0.175073      6"
      ]
     },
     "execution_count": 4,
     "metadata": {},
     "output_type": "execute_result"
    }
   ],
   "source": [
    "target = df['Activity, Exercise or Sport (1 hour)']\n",
    "print(df_new.head())\n",
    "numeric_feature_names = ['durasi', 'calories', 'berat']\n",
    "numeric_features = df_new[numeric_feature_names]\n",
    "numeric_features.head()"
   ]
  },
  {
   "cell_type": "code",
   "execution_count": 5,
   "metadata": {
    "colab": {
     "base_uri": "https://localhost:8080/"
    },
    "executionInfo": {
     "elapsed": 7,
     "status": "ok",
     "timestamp": 1685672769388,
     "user": {
      "displayName": "William Nehemia M213DSX0235",
      "userId": "07160615254805994192"
     },
     "user_tz": -420
    },
    "id": "YDdjSP0GQbHE",
    "outputId": "ae5dfba8-76c2-4ed6-b610-2eeb4c5881b4"
   },
   "outputs": [
    {
     "name": "stdout",
     "output_type": "stream",
     "text": [
      "248\n"
     ]
    }
   ],
   "source": [
    "jumlah_class = len(df_new['activity'].value_counts())\n",
    "print(jumlah_class)"
   ]
  },
  {
   "cell_type": "code",
   "execution_count": 6,
   "metadata": {
    "colab": {
     "base_uri": "https://localhost:8080/"
    },
    "executionInfo": {
     "elapsed": 8,
     "status": "ok",
     "timestamp": 1685672769778,
     "user": {
      "displayName": "William Nehemia M213DSX0235",
      "userId": "07160615254805994192"
     },
     "user_tz": -420
    },
    "id": "XZ8bIl60W6BF",
    "outputId": "5dbeeb6a-7f53-44ad-da29-a562e19695ce"
   },
   "outputs": [
    {
     "name": "stdout",
     "output_type": "stream",
     "text": [
      "                      activity  durasi  calories  berat Intensity Description  \\\n",
      "0  Cycling, mountain bike, bmx       1  0.058358      2                   NaN   \n",
      "1  Cycling, mountain bike, bmx       1  0.087536      3                   NaN   \n",
      "2  Cycling, mountain bike, bmx       1  0.116715      4                   NaN   \n",
      "3  Cycling, mountain bike, bmx       1  0.145894      5                   NaN   \n",
      "4  Cycling, mountain bike, bmx       1  0.175073      6                   NaN   \n",
      "\n",
      "  activity_category  \n",
      "0                61  \n",
      "1                61  \n",
      "2                61  \n",
      "3                61  \n",
      "4                61  \n"
     ]
    }
   ],
   "source": [
    "df_new['activity'] = df_new['activity'].astype('category')\n",
    "df_new['activity_category'] = df_new['activity'].cat.codes.astype('category')\n",
    "print(df_new.head())"
   ]
  },
  {
   "cell_type": "code",
   "execution_count": 7,
   "metadata": {
    "executionInfo": {
     "elapsed": 7,
     "status": "ok",
     "timestamp": 1685672769778,
     "user": {
      "displayName": "William Nehemia M213DSX0235",
      "userId": "07160615254805994192"
     },
     "user_tz": -420
    },
    "id": "jQoBYTS2XSHR"
   },
   "outputs": [],
   "source": [
    "df_new_2 = df_new.drop(columns = ['activity', 'Intensity Description'])"
   ]
  },
  {
   "cell_type": "code",
   "execution_count": 8,
   "metadata": {
    "executionInfo": {
     "elapsed": 7,
     "status": "ok",
     "timestamp": 1685672769778,
     "user": {
      "displayName": "William Nehemia M213DSX0235",
      "userId": "07160615254805994192"
     },
     "user_tz": -420
    },
    "id": "b87zqOZ93r2F"
   },
   "outputs": [],
   "source": [
    "df_new_2['durasi'] = MinMaxScaler().fit_transform(np.array(df_new_2['durasi']).reshape(-1,1))\n",
    "df_new_2['calories'] = MinMaxScaler().fit_transform(np.array(df_new_2['calories']).reshape(-1,1))\n",
    "df_new_2['berat'] = MinMaxScaler().fit_transform(np.array(df_new_2['berat']).reshape(-1,1))"
   ]
  },
  {
   "cell_type": "code",
   "execution_count": 9,
   "metadata": {
    "executionInfo": {
     "elapsed": 6,
     "status": "ok",
     "timestamp": 1685672769779,
     "user": {
      "displayName": "William Nehemia M213DSX0235",
      "userId": "07160615254805994192"
     },
     "user_tz": -420
    },
    "id": "wtcXPL4CWJoR"
   },
   "outputs": [],
   "source": [
    "df_fitur = df_new_2[['durasi', 'calories', 'berat']]\n",
    "fitur_np = np.array(df_fitur.values)"
   ]
  },
  {
   "cell_type": "code",
   "execution_count": 10,
   "metadata": {
    "executionInfo": {
     "elapsed": 6,
     "status": "ok",
     "timestamp": 1685672769779,
     "user": {
      "displayName": "William Nehemia M213DSX0235",
      "userId": "07160615254805994192"
     },
     "user_tz": -420
    },
    "id": "pnHsikIKW301"
   },
   "outputs": [],
   "source": [
    "label_np = np.array(df_new['activity_category'].values)"
   ]
  },
  {
   "cell_type": "code",
   "execution_count": 11,
   "metadata": {
    "executionInfo": {
     "elapsed": 463,
     "status": "ok",
     "timestamp": 1685672770236,
     "user": {
      "displayName": "William Nehemia M213DSX0235",
      "userId": "07160615254805994192"
     },
     "user_tz": -420
    },
    "id": "ki1UDCcRWpKE"
   },
   "outputs": [],
   "source": [
    "X_train, X_test, Y_train, Y_test = train_test_split(fitur_np, label_np, test_size=0.3) "
   ]
  },
  {
   "cell_type": "code",
   "execution_count": 12,
   "metadata": {
    "executionInfo": {
     "elapsed": 3,
     "status": "ok",
     "timestamp": 1685672770236,
     "user": {
      "displayName": "William Nehemia M213DSX0235",
      "userId": "07160615254805994192"
     },
     "user_tz": -420
    },
    "id": "Sd171-DdYKnf"
   },
   "outputs": [],
   "source": [
    "listPrecision = []\n",
    "listAccuracy = []\n",
    "listRecall = []\n",
    "listF1_score = []\n",
    "listSupport = []"
   ]
  },
  {
   "cell_type": "code",
   "execution_count": 13,
   "metadata": {
    "executionInfo": {
     "elapsed": 23178,
     "status": "ok",
     "timestamp": 1685672793411,
     "user": {
      "displayName": "William Nehemia M213DSX0235",
      "userId": "07160615254805994192"
     },
     "user_tz": -420
    },
    "id": "bFIQXO7xXEgu"
   },
   "outputs": [],
   "source": [
    "kNN_model = KNeighborsClassifier(n_neighbors=3)\n",
    "kNN_model.fit(X_train, Y_train)\n",
    "Y_pred = kNN_model.predict(X_test)\n",
    "activity_classes = df_new.activity.unique()"
   ]
  },
  {
   "cell_type": "code",
   "execution_count": 14,
   "metadata": {
    "colab": {
     "base_uri": "https://localhost:8080/"
    },
    "executionInfo": {
     "elapsed": 3645,
     "status": "ok",
     "timestamp": 1685672797054,
     "user": {
      "displayName": "William Nehemia M213DSX0235",
      "userId": "07160615254805994192"
     },
     "user_tz": -420
    },
    "id": "rWzOrkd4XgtY",
    "outputId": "19fe223e-442f-400b-aed1-c59a15f3f501"
   },
   "outputs": [
    {
     "name": "stderr",
     "output_type": "stream",
     "text": [
      "/usr/local/lib/python3.10/dist-packages/sklearn/metrics/_classification.py:1344: UndefinedMetricWarning: Precision and F-score are ill-defined and being set to 0.0 in labels with no predicted samples. Use `zero_division` parameter to control this behavior.\n",
      "  _warn_prf(average, modifier, msg_start, len(result))\n",
      "/usr/local/lib/python3.10/dist-packages/sklearn/metrics/_classification.py:1344: UndefinedMetricWarning: Precision and F-score are ill-defined and being set to 0.0 in labels with no predicted samples. Use `zero_division` parameter to control this behavior.\n",
      "  _warn_prf(average, modifier, msg_start, len(result))\n",
      "/usr/local/lib/python3.10/dist-packages/sklearn/metrics/_classification.py:1344: UndefinedMetricWarning: Precision and F-score are ill-defined and being set to 0.0 in labels with no predicted samples. Use `zero_division` parameter to control this behavior.\n",
      "  _warn_prf(average, modifier, msg_start, len(result))\n"
     ]
    },
    {
     "name": "stdout",
     "output_type": "stream",
     "text": [
      "                                           precision    recall  f1-score   support\n",
      "\n",
      "              Cycling, mountain bike, bmx       0.00      0.01      0.00      1726\n",
      "      Cycling, <10 mph, leisure bicycling       0.00      0.00      0.00      1767\n",
      "                 Cycling, >20 mph, racing       0.00      0.00      0.00      1802\n",
      "              Cycling, 10-11.9 mph, light       0.05      0.08      0.06      1762\n",
      "           Cycling, 12-13.9 mph, moderate       0.00      0.00      0.00      1795\n",
      "           Cycling, 14-15.9 mph, vigorous       0.00      0.00      0.00      1749\n",
      "    Cycling, 16-19 mph, very fast, racing       0.00      0.00      0.00      1698\n",
      "                               Unicycling       0.00      0.00      0.00      1767\n",
      "           Stationary cycling, very light       0.00      0.00      0.00      1824\n",
      "                Stationary cycling, light       0.01      0.02      0.01      1801\n",
      "             Stationary cycling, moderate       0.00      0.00      0.00      1789\n",
      "             Stationary cycling, vigorous       0.00      0.00      0.00      1775\n",
      "        Stationary cycling, very vigorous       0.00      0.00      0.00      1736\n",
      " Calisthenics, vigorous, pushups, situps…       0.00      0.00      0.00      1715\n",
      "                      Calisthenics, light       0.00      0.01      0.00      1762\n",
      "           Circuit training, minimal rest       0.00      0.00      0.00      1721\n",
      "  Weight lifting, body building, vigorous       0.00      0.00      0.00      1775\n",
      "            Weight lifting, light workout       0.00      0.00      0.00      1724\n",
      "                     Health club exercise       0.00      0.00      0.00      1801\n",
      "                            Stair machine       0.00      0.00      0.00      1776\n",
      "                    Rowing machine, light       0.00      0.00      0.00      1741\n",
      "                 Rowing machine, moderate       0.00      0.00      0.00      1761\n",
      "                 Rowing machine, vigorous       0.00      0.00      0.00      1720\n",
      "            Rowing machine, very vigorous       0.00      0.00      0.00      1710\n",
      "                              Ski machine       0.00      0.00      0.00      1802\n",
      "                     Aerobics, low impact       0.00      0.00      0.00      1770\n",
      "                    Aerobics, high impact       0.00      0.00      0.00      1745\n",
      "                  Aerobics, step aerobics       0.00      0.00      0.00      1796\n",
      "                        Aerobics, general       0.00      0.00      0.00      1768\n",
      "                               Jazzercise       0.00      0.00      0.00      1756\n",
      "                   Stretching, hatha yoga       0.00      0.00      0.00      1736\n",
      "                          Mild stretching       0.00      0.00      0.00      1781\n",
      "                Instructing aerobic class       0.00      0.00      0.00      1758\n",
      "                           Water aerobics       0.00      0.00      0.00      1752\n",
      "                 Ballet, twist, jazz, tap       0.00      0.00      0.00      1753\n",
      "                   Ballroom dancing, slow       0.00      0.00      0.00      1748\n",
      "                   Ballroom dancing, fast       0.00      0.00      0.00      1671\n",
      "          Running, 5 mph (12 minute mile)       0.00      0.00      0.00      1690\n",
      "      Running, 5.2 mph (11.5 minute mile)       0.00      0.00      0.00      1775\n",
      "             Running, 6 mph (10 min mile)       0.00      0.00      0.00      1729\n",
      "            Running, 6.7 mph (9 min mile)       0.00      0.00      0.00      1734\n",
      "            Running, 7 mph (8.5 min mile)       1.00      0.22      0.35      1777\n",
      "             Running, 7.5mph (8 min mile)       0.00      0.00      0.00      1770\n",
      "            Running, 8 mph (7.5 min mile)       0.00      0.00      0.00      1744\n",
      "            Running, 8.6 mph (7 min mile)       0.00      0.00      0.00      1726\n",
      "            Running, 9 mph (6.5 min mile)       0.00      0.00      0.00      1728\n",
      "             Running, 10 mph (6 min mile)       0.00      0.00      0.00      1728\n",
      "         Running, 10.9 mph (5.5 min mile)       0.00      0.00      0.00      1807\n",
      "                   Running, cross country       0.00      0.00      0.00      1705\n",
      "                         Running, general       0.00      0.00      0.00      1739\n",
      "       Running, on a track, team practice       0.11      0.17      0.14      1809\n",
      "                      Running, stairs, up       0.11      0.27      0.15      1712\n",
      "           Track and field (shot, discus)       0.00      0.00      0.00      1701\n",
      "  Track and field (high jump, pole vault)       0.00      0.00      0.00      1727\n",
      "                Track and field (hurdles)       0.00      0.00      0.00      1727\n",
      "                                  Archery       0.00      0.00      0.00      1748\n",
      "                                Badminton       0.00      0.00      0.00      1719\n",
      "             Basketball game, competitive       0.00      0.00      0.00      1722\n",
      "             Playing basketball, non game       0.00      0.00      0.00      1755\n",
      "                  Basketball, officiating       0.00      0.00      0.00      1843\n",
      "             Basketball, shooting baskets       0.05      0.09      0.06      1782\n",
      "                   Basketball, wheelchair       0.01      0.01      0.01      1772\n",
      "    Running, training, pushing wheelchair       0.00      0.00      0.00      1776\n",
      "                                Billiards       0.00      0.00      0.00      1832\n",
      "                                  Bowling       0.00      0.00      0.00      1722\n",
      "                          Boxing, in ring       0.00      0.00      0.00      1785\n",
      "                     Boxing, punching bag       0.00      0.00      0.00      1853\n",
      "                         Boxing, sparring       0.00      0.00      0.00      1765\n",
      "  Coaching: football, basketball, soccer…       0.00      0.00      0.00      1717\n",
      "               Cricket (batting, bowling)       0.00      0.00      0.00      1733\n",
      "                                  Croquet       0.00      0.00      0.00      1802\n",
      "                                  Curling       0.00      0.00      0.00      1808\n",
      "                     Darts (wall or lawn)       0.00      0.00      0.00      1799\n",
      "                                  Fencing       0.00      0.00      0.00      1739\n",
      "                    Football, competitive       0.00      0.00      0.00      1762\n",
      "           Football, touch, flag, general       0.00      0.00      0.00      1688\n",
      "      Football or baseball, playing catch       0.00      0.00      0.00      1820\n",
      "                 Frisbee playing, general       0.00      0.00      0.00      1763\n",
      "                Frisbee, ultimate frisbee       0.00      0.00      0.00      1745\n",
      "                            Golf, general       0.00      0.00      0.00      1729\n",
      "         Golf, walking and carrying clubs       0.01      0.00      0.00      1734\n",
      "                      Golf, driving range       0.00      0.00      0.00      1764\n",
      "                     Golf, miniature golf       0.00      0.00      0.00      1766\n",
      "          Golf, walking and pulling clubs       0.00      0.00      0.00      1787\n",
      "                   Golf, using power cart       0.00      0.00      0.00      1777\n",
      "                               Gymnastics       0.01      0.01      0.01      1770\n",
      "                               Hacky sack       0.00      0.00      0.00      1800\n",
      "                                 Handball       0.00      0.00      0.00      1813\n",
      "                           Handball, team       0.00      0.00      0.00      1718\n",
      "                     Hockey, field hockey       0.00      0.00      0.00      1783\n",
      "                       Hockey, ice hockey       0.00      0.00      0.00      1823\n",
      "                  Riding a horse, general       0.00      0.00      0.00      1708\n",
      "         Horesback riding, saddling horse       0.00      0.00      0.00      1756\n",
      "         Horseback riding, grooming horse       0.00      0.00      0.00      1759\n",
      "               Horseback riding, trotting       0.00      0.00      0.00      1720\n",
      "                Horseback riding, walking       0.00      0.00      0.00      1754\n",
      "                  Horse racing, galloping       0.00      0.00      0.00      1736\n",
      "                 Horse grooming, moderate       0.00      0.00      0.00      1791\n",
      "                       Horseshoe pitching       0.00      0.00      0.00      1752\n",
      "                                 Jai alai       0.00      0.00      0.00      1795\n",
      "      Martial arts, judo, karate, jujitsu       0.00      0.00      0.00      1812\n",
      "                Martial arts, kick boxing       0.00      0.00      0.00      1728\n",
      "                Martial arts, tae kwan do       0.00      0.00      0.00      1715\n",
      "                       Krav maga training       0.00      0.00      0.00      1757\n",
      "                                 Juggling       0.00      0.00      0.00      1750\n",
      "                                 Kickball       0.00      0.00      0.00      1713\n",
      "                                 Lacrosse       0.00      0.00      0.00      1707\n",
      "                             Orienteering       0.00      0.00      0.00      1746\n",
      "                       Playing paddleball       0.00      0.00      0.00      1706\n",
      "                  Paddleball, competitive       0.00      0.00      0.00      1725\n",
      "                                     Polo       0.00      0.00      0.00      1756\n",
      "                 Racquetball, competitive       0.00      0.00      0.00      1740\n",
      "                      Playing racquetball       0.00      0.00      0.00      1795\n",
      "            Rock climbing, ascending rock       0.00      0.00      0.00      1774\n",
      "                Rock climbing, rappelling       0.00      0.00      0.00      1707\n",
      "                       Jumping rope, fast       0.00      0.00      0.00      1693\n",
      "                   Jumping rope, moderate       0.00      0.00      0.00      1714\n",
      "                       Jumping rope, slow       0.00      0.00      0.00      1773\n",
      "                                    Rugby       0.00      0.00      0.00      1657\n",
      "               Shuffleboard, lawn bowling       0.00      0.00      0.00      1788\n",
      "                            Skateboarding       0.00      0.00      0.00      1771\n",
      "                           Roller skating       0.00      0.00      0.00      1691\n",
      "          Roller blading, in-line skating       0.00      0.00      0.00      1766\n",
      "                               Sky diving       0.00      0.00      0.00      1744\n",
      "                      Soccer, competitive       0.00      0.00      0.00      1754\n",
      "                           Playing soccer       0.00      0.00      0.00      1759\n",
      "                     Softball or baseball       0.00      0.00      0.00      1793\n",
      "                    Softball, officiating       0.00      0.00      0.00      1762\n",
      "                       Softball, pitching       0.00      0.00      0.00      1750\n",
      "                                   Squash       0.00      0.00      0.00      1712\n",
      "                  Table tennis, ping pong       0.00      0.00      0.00      1783\n",
      "                                  Tai chi       0.00      0.00      0.00      1718\n",
      "                           Playing tennis       0.00      0.00      0.00      1769\n",
      "                          Tennis, doubles       0.09      0.00      0.00      1722\n",
      "                          Tennis, singles       0.00      0.00      0.00      1692\n",
      "                               Trampoline       0.00      0.00      0.00      1698\n",
      "                  Volleyball, competitive       0.07      0.11      0.09      1763\n",
      "                       Playing volleyball       0.00      0.00      0.00      1776\n",
      "                        Volleyball, beach       0.00      0.00      0.00      1801\n",
      "                                Wrestling       0.00      0.00      0.00      1719\n",
      "                                Wallyball       0.00      0.00      0.00      1742\n",
      "            Backpacking, Hiking with pack       0.00      0.00      0.00      1730\n",
      "            Carrying infant, level ground       0.00      0.00      0.00      1765\n",
      "                Carrying infant, upstairs       0.00      0.00      0.00      1754\n",
      "          Carrying 16 to 24 lbs, upstairs       0.02      0.00      0.01      1738\n",
      "          Carrying 25 to 49 lbs, upstairs       0.00      0.00      0.00      1734\n",
      "   Standing, playing with children, light       0.01      0.01      0.01      1741\n",
      "Walk/run, playing with children, moderate       0.93      0.55      0.69      1757\n",
      "Walk/run, playing with children, vigorous       0.00      0.00      0.00      1717\n",
      "                  Carrying small children       0.00      0.00      0.00      1771\n",
      "                   Loading, unloading car       0.00      0.00      0.00      1773\n",
      "     Climbing hills, carrying up to 9 lbs       0.02      0.01      0.01      1744\n",
      "     Climbing hills, carrying 10 to 20 lb       0.34      0.13      0.19      1757\n",
      "     Climbing hills, carrying 21 to 42 lb       0.14      0.09      0.11      1728\n",
      "      Climbing hills, carrying over 42 lb       0.19      0.15      0.17      1725\n",
      "                       Walking downstairs       0.10      0.06      0.07      1709\n",
      "                    Hiking, cross country       0.17      0.18      0.17      1798\n",
      "                            Bird watching       0.00      0.00      0.00      1764\n",
      "              Marching, rapidly, military       0.00      0.00      0.00      1740\n",
      "   Children's games, hopscotch, dodgeball       0.00      0.00      0.00      1739\n",
      "Pushing stroller or walking with children       0.03      0.01      0.02      1758\n",
      "                     Pushing a wheelchair       0.00      0.00      0.00      1791\n",
      "                             Race walking       0.00      0.00      0.00      1763\n",
      "         Rock climbing, mountain climbing       0.00      0.00      0.00      1734\n",
      "                   Walking using crutches       0.00      0.00      0.00      1776\n",
      "                          Walking the dog       0.00      0.00      0.00      1747\n",
      "        Walking, under 2.0 mph, very slow       0.00      0.00      0.00      1751\n",
      "                    Walking 2.0 mph, slow       0.00      0.00      0.00      1736\n",
      "                          Walking 2.5 mph       0.00      0.00      0.00      1733\n",
      "                Walking 3.0 mph, moderate       0.00      0.00      0.00      1716\n",
      "              Walking 3.5 mph, brisk pace       0.00      0.00      0.00      1777\n",
      "                  Walking 3.5 mph, uphill       0.03      0.01      0.01      1813\n",
      "              Walking 4.0 mph, very brisk       0.03      0.01      0.01      1765\n",
      "                          Walking 4.5 mph       0.00      0.00      0.00      1738\n",
      "                          Walking 5.0 mph       0.00      0.00      0.00      1746\n",
      "               Boating, power, speed boat       0.00      0.00      0.00      1751\n",
      "                   Canoeing, camping trip       0.00      0.00      0.00      1838\n",
      "                  Canoeing, rowing, light       0.00      0.00      0.00      1739\n",
      "               Canoeing, rowing, moderate       0.00      0.00      0.00      1762\n",
      "               Canoeing, rowing, vigorous       0.00      0.00      0.00      1752\n",
      "      Crew, sculling, rowing, competition       0.00      0.00      0.00      1771\n",
      "                                 Kayaking       0.00      0.00      0.00      1738\n",
      "                              Paddle boat       0.00      0.00      0.00      1783\n",
      "                     Windsurfing, sailing       0.00      0.00      0.00      1708\n",
      "                     Sailing, competition       0.02      0.01      0.01      1720\n",
      "         Sailing, yachting, ocean sailing       0.00      0.00      0.00      1768\n",
      "                     Skiing, water skiing       0.00      0.00      0.00      1742\n",
      "                             Ski mobiling       1.00      0.00      0.00      1748\n",
      "                        Skin diving, fast       0.00      0.00      0.00      1729\n",
      "                    Skin diving, moderate       0.00      0.00      0.00      1720\n",
      "                Skin diving, scuba diving       0.00      0.00      0.00      1707\n",
      "                               Snorkeling       0.03      0.00      0.01      1805\n",
      "   Surfing, body surfing or board surfing       0.81      0.15      0.25      1708\n",
      "   Whitewater rafting, kayaking, canoeing       0.00      0.00      0.00      1753\n",
      "           Swimming laps, freestyle, fast       0.00      0.00      0.00      1758\n",
      "           Swimming laps, freestyle, slow       0.00      0.00      0.00      1783\n",
      "                      Swimming backstroke       0.00      0.00      0.00      1768\n",
      "                    Swimming breaststroke       0.02      0.00      0.01      1774\n",
      "                       Swimming butterfly       0.00      0.00      0.00      1789\n",
      "             Swimming leisurely, not laps       0.00      0.00      0.00      1690\n",
      "                      Swimming sidestroke       0.00      0.00      0.00      1748\n",
      "                    Swimming synchronized       0.00      0.00      0.00      1732\n",
      " Swimming, treading water, fast, vigorous       0.00      0.00      0.00      1783\n",
      "       Swimming, treading water, moderate       0.00      0.00      0.00      1735\n",
      "       Water aerobics, water calisthenics       0.00      0.00      0.00      1727\n",
      "                               Water polo       0.00      0.00      0.00      1801\n",
      "                         Water volleyball       0.00      0.00      0.00      1794\n",
      "                            Water jogging       0.00      0.00      0.00      1692\n",
      "          Diving, springboard or platform       0.00      0.00      0.00      1735\n",
      "                     Ice skating, < 9 mph       0.00      0.00      0.00      1689\n",
      "               Ice skating, average speed       0.00      0.00      0.00      1753\n",
      "                     Ice skating, rapidly       0.00      0.00      0.00      1757\n",
      "          Speed skating, ice, competitive       0.00      0.00      0.00      1721\n",
      "          Cross country snow skiing, slow       0.00      0.00      0.00      1765\n",
      "           Cross country skiing, moderate       0.00      0.00      0.00      1731\n",
      "           Cross country skiing, vigorous       0.00      0.00      0.00      1736\n",
      "             Cross country skiing, racing       0.00      0.00      0.00      1717\n",
      "             Cross country skiing, uphill       0.00      0.00      0.00      1745\n",
      "      Snow skiing, downhill skiing, light       0.00      0.00      0.00      1758\n",
      "           Downhill snow skiing, moderate       0.00      0.00      0.00      1707\n",
      "             Downhill snow skiing, racing       0.00      0.00      0.00      1752\n",
      "              Sledding, tobagganing, luge       0.00      0.00      0.00      1734\n",
      "                             Snow shoeing       0.00      0.00      0.00      1718\n",
      "                             Snowmobiling       1.00      0.00      0.00      1704\n",
      "                        General housework       1.00      0.00      0.00      1794\n",
      "                         Cleaning gutters       0.00      0.00      0.00      1731\n",
      "                                 Painting       0.00      0.00      0.00      1738\n",
      "                Sit, playing with animals       0.33      0.00      0.00      1777\n",
      "         Walk / run, playing with animals       0.00      0.00      0.00      1771\n",
      "                              Bathing dog       0.00      0.00      0.00      1759\n",
      "           Mowing lawn, walk, power mower       0.00      0.00      0.00      1818\n",
      "                Mowing lawn, riding mower       0.00      0.00      0.00      1805\n",
      "                     Walking, snow blower       0.00      0.00      0.00      1794\n",
      "                      Riding, snow blower       0.00      0.00      0.00      1775\n",
      "                   Shoveling snow by hand       0.55      0.18      0.27      1699\n",
      "                              Raking lawn       0.00      0.00      0.00      1815\n",
      "                       Gardening, general       0.00      0.00      0.00      1728\n",
      "                    Bagging grass, leaves       0.00      0.00      0.00      1779\n",
      "                  Watering lawn or garden       0.00      0.00      0.00      1731\n",
      "              Weeding, cultivating garden       0.00      0.00      0.00      1735\n",
      "                       Carpentry, general       0.00      0.00      0.00      1775\n",
      "                     Carrying heavy loads       1.00      0.34      0.50      1746\n",
      "         Carrying moderate loads upstairs       0.00      0.00      0.00      1744\n",
      "                         General cleaning       0.00      0.00      0.00      1764\n",
      "                        Cleaning, dusting       0.00      0.00      0.00      1725\n",
      "                         Taking out trash       0.00      0.00      0.00      1752\n",
      "            Walking, pushing a wheelchair       0.00      0.00      0.00      1754\n",
      "  Teach physical education,exercise class       0.00      0.00      0.00      1783\n",
      "\n",
      "                                 accuracy                           0.01    434645\n",
      "                                macro avg       0.04      0.01      0.01    434645\n",
      "                             weighted avg       0.04      0.01      0.01    434645\n",
      "\n"
     ]
    },
    {
     "name": "stderr",
     "output_type": "stream",
     "text": [
      "/usr/local/lib/python3.10/dist-packages/sklearn/metrics/_classification.py:1344: UndefinedMetricWarning: Precision and F-score are ill-defined and being set to 0.0 in labels with no predicted samples. Use `zero_division` parameter to control this behavior.\n",
      "  _warn_prf(average, modifier, msg_start, len(result))\n",
      "/usr/local/lib/python3.10/dist-packages/sklearn/metrics/_classification.py:1344: UndefinedMetricWarning: Precision and F-score are ill-defined and being set to 0.0 in labels with no predicted samples. Use `zero_division` parameter to control this behavior.\n",
      "  _warn_prf(average, modifier, msg_start, len(result))\n",
      "/usr/local/lib/python3.10/dist-packages/sklearn/metrics/_classification.py:1344: UndefinedMetricWarning: Precision and F-score are ill-defined and being set to 0.0 in labels with no predicted samples. Use `zero_division` parameter to control this behavior.\n",
      "  _warn_prf(average, modifier, msg_start, len(result))\n"
     ]
    }
   ],
   "source": [
    "from sklearn.metrics import classification_report\n",
    "print(classification_report(Y_test, Y_pred, target_names = activity_classes))\n",
    "report = classification_report(Y_test, Y_pred, output_dict=True, target_names = activity_classes )"
   ]
  },
  {
   "cell_type": "code",
   "execution_count": 15,
   "metadata": {
    "executionInfo": {
     "elapsed": 6130059,
     "status": "ok",
     "timestamp": 1685678927110,
     "user": {
      "displayName": "William Nehemia M213DSX0235",
      "userId": "07160615254805994192"
     },
     "user_tz": -420
    },
    "id": "3_awpnrKZajt"
   },
   "outputs": [],
   "source": [
    "#!pip install ipython==7.10.0\n",
    "import warnings\n",
    "warnings.filterwarnings('always')\n",
    "for i in range(100,201):\n",
    "  \n",
    "  kNN_model = KNeighborsClassifier(n_neighbors=i)\n",
    "  kNN_model.fit(X_train, Y_train)\n",
    "  Y_pred = kNN_model.predict(X_test)\n",
    "  activity_classes = df_new.activity.unique()\n",
    "  report = classification_report(Y_test, Y_pred, output_dict=True, target_names = activity_classes, zero_division=1)\n",
    "  \n",
    "  precision = report['macro avg']['precision'] \n",
    "  listPrecision.append(precision)\n",
    "\n",
    "  accuracy = report['accuracy'] \n",
    "  listAccuracy.append(accuracy)\n",
    "\n",
    "  recall = report['macro avg']['recall'] \n",
    "  listRecall.append(recall)\n",
    "\n",
    "  f1_score = report['macro avg']['f1-score'] \n",
    "  listF1_score.append(f1_score)\n",
    "\n",
    "  support = report['macro avg']['support'] \n",
    "  listSupport.append(support)"
   ]
  },
  {
   "cell_type": "code",
   "execution_count": 16,
   "metadata": {
    "colab": {
     "base_uri": "https://localhost:8080/"
    },
    "executionInfo": {
     "elapsed": 26,
     "status": "ok",
     "timestamp": 1685678927111,
     "user": {
      "displayName": "William Nehemia M213DSX0235",
      "userId": "07160615254805994192"
     },
     "user_tz": -420
    },
    "id": "jD3xuhlUbioh",
    "outputId": "e62cb067-e921-43c8-b4a6-79c52a0cc55a"
   },
   "outputs": [
    {
     "name": "stdout",
     "output_type": "stream",
     "text": [
      "101\n",
      "101\n",
      "101\n",
      "101\n",
      "101\n"
     ]
    },
    {
     "name": "stderr",
     "output_type": "stream",
     "text": [
      "/usr/local/lib/python3.10/dist-packages/ipykernel/ipkernel.py:283: DeprecationWarning: `should_run_async` will not call `transform_cell` automatically in the future. Please pass the result to `transformed_cell` argument and any exception that happen during thetransform in `preprocessing_exc_tuple` in IPython 7.17 and above.\n",
      "  and should_run_async(code)\n"
     ]
    }
   ],
   "source": [
    "print(len(listPrecision))\n",
    "print(len(listAccuracy))\n",
    "print(len(listRecall))\n",
    "print(len(listF1_score))\n",
    "print(len(listSupport))"
   ]
  },
  {
   "cell_type": "code",
   "execution_count": 18,
   "metadata": {
    "colab": {
     "base_uri": "https://localhost:8080/"
    },
    "executionInfo": {
     "elapsed": 338,
     "status": "ok",
     "timestamp": 1685678969928,
     "user": {
      "displayName": "William Nehemia M213DSX0235",
      "userId": "07160615254805994192"
     },
     "user_tz": -420
    },
    "id": "Qt3Vpp8MaSsO",
    "outputId": "8f370119-e283-42d5-cfbf-cb3c4f53ce0b"
   },
   "outputs": [
    {
     "name": "stdout",
     "output_type": "stream",
     "text": [
      "[100, 101, 102, 103, 104, 105, 106, 107, 108, 109, 110, 111, 112, 113, 114, 115, 116, 117, 118, 119, 120, 121, 122, 123, 124, 125, 126, 127, 128, 129, 130, 131, 132, 133, 134, 135, 136, 137, 138, 139, 140, 141, 142, 143, 144, 145, 146, 147, 148, 149, 150, 151, 152, 153, 154, 155, 156, 157, 158, 159, 160, 161, 162, 163, 164, 165, 166, 167, 168, 169, 170, 171, 172, 173, 174, 175, 176, 177, 178, 179, 180, 181, 182, 183, 184, 185, 186, 187, 188, 189, 190, 191, 192, 193, 194, 195, 196, 197, 198, 199, 200]\n"
     ]
    },
    {
     "name": "stderr",
     "output_type": "stream",
     "text": [
      "/usr/local/lib/python3.10/dist-packages/ipykernel/ipkernel.py:283: DeprecationWarning: `should_run_async` will not call `transform_cell` automatically in the future. Please pass the result to `transformed_cell` argument and any exception that happen during thetransform in `preprocessing_exc_tuple` in IPython 7.17 and above.\n",
      "  and should_run_async(code)\n"
     ]
    }
   ],
   "source": [
    "idx = [*range(100,201,1)]\n",
    "print(idx)\n",
    "df_report = pd.DataFrame(list(zip(listPrecision, listAccuracy, listRecall, listF1_score, listSupport)),\n",
    "               columns =['precision', 'accuracy', 'recall', 'f1_score', 'support'], index = idx)"
   ]
  },
  {
   "cell_type": "code",
   "execution_count": 19,
   "metadata": {
    "colab": {
     "base_uri": "https://localhost:8080/",
     "height": 1000
    },
    "executionInfo": {
     "elapsed": 738,
     "status": "ok",
     "timestamp": 1685678973690,
     "user": {
      "displayName": "William Nehemia M213DSX0235",
      "userId": "07160615254805994192"
     },
     "user_tz": -420
    },
    "id": "uerYxiwfagkZ",
    "outputId": "26e5e7c5-b2e5-4502-88f0-73565e853f3e"
   },
   "outputs": [
    {
     "name": "stderr",
     "output_type": "stream",
     "text": [
      "/usr/local/lib/python3.10/dist-packages/ipykernel/ipkernel.py:283: DeprecationWarning: `should_run_async` will not call `transform_cell` automatically in the future. Please pass the result to `transformed_cell` argument and any exception that happen during thetransform in `preprocessing_exc_tuple` in IPython 7.17 and above.\n",
      "  and should_run_async(code)\n",
      "<frozen importlib._bootstrap>:914: ImportWarning: APICoreClientInfoImportHook.find_spec() not found; falling back to find_module()\n",
      "<frozen importlib._bootstrap>:914: ImportWarning: _PyDriveImportHook.find_spec() not found; falling back to find_module()\n",
      "<frozen importlib._bootstrap>:914: ImportWarning: _OpenCVImportHook.find_spec() not found; falling back to find_module()\n",
      "<frozen importlib._bootstrap>:914: ImportWarning: _BokehImportHook.find_spec() not found; falling back to find_module()\n",
      "<frozen importlib._bootstrap>:914: ImportWarning: _AltairImportHook.find_spec() not found; falling back to find_module()\n",
      "<frozen importlib._bootstrap>:914: ImportWarning: APICoreClientInfoImportHook.find_spec() not found; falling back to find_module()\n",
      "<frozen importlib._bootstrap>:914: ImportWarning: _PyDriveImportHook.find_spec() not found; falling back to find_module()\n",
      "<frozen importlib._bootstrap>:914: ImportWarning: _OpenCVImportHook.find_spec() not found; falling back to find_module()\n",
      "<frozen importlib._bootstrap>:914: ImportWarning: _BokehImportHook.find_spec() not found; falling back to find_module()\n",
      "<frozen importlib._bootstrap>:914: ImportWarning: _AltairImportHook.find_spec() not found; falling back to find_module()\n",
      "<frozen importlib._bootstrap>:914: ImportWarning: APICoreClientInfoImportHook.find_spec() not found; falling back to find_module()\n",
      "<frozen importlib._bootstrap>:914: ImportWarning: _PyDriveImportHook.find_spec() not found; falling back to find_module()\n",
      "<frozen importlib._bootstrap>:914: ImportWarning: _OpenCVImportHook.find_spec() not found; falling back to find_module()\n",
      "<frozen importlib._bootstrap>:914: ImportWarning: _BokehImportHook.find_spec() not found; falling back to find_module()\n",
      "<frozen importlib._bootstrap>:914: ImportWarning: _AltairImportHook.find_spec() not found; falling back to find_module()\n",
      "<frozen importlib._bootstrap>:914: ImportWarning: APICoreClientInfoImportHook.find_spec() not found; falling back to find_module()\n",
      "<frozen importlib._bootstrap>:914: ImportWarning: _PyDriveImportHook.find_spec() not found; falling back to find_module()\n",
      "<frozen importlib._bootstrap>:914: ImportWarning: _OpenCVImportHook.find_spec() not found; falling back to find_module()\n",
      "<frozen importlib._bootstrap>:914: ImportWarning: _BokehImportHook.find_spec() not found; falling back to find_module()\n",
      "<frozen importlib._bootstrap>:914: ImportWarning: _AltairImportHook.find_spec() not found; falling back to find_module()\n",
      "<frozen importlib._bootstrap>:914: ImportWarning: APICoreClientInfoImportHook.find_spec() not found; falling back to find_module()\n",
      "<frozen importlib._bootstrap>:914: ImportWarning: _PyDriveImportHook.find_spec() not found; falling back to find_module()\n",
      "<frozen importlib._bootstrap>:914: ImportWarning: _OpenCVImportHook.find_spec() not found; falling back to find_module()\n",
      "<frozen importlib._bootstrap>:914: ImportWarning: _BokehImportHook.find_spec() not found; falling back to find_module()\n",
      "<frozen importlib._bootstrap>:914: ImportWarning: _AltairImportHook.find_spec() not found; falling back to find_module()\n",
      "<frozen importlib._bootstrap>:914: ImportWarning: APICoreClientInfoImportHook.find_spec() not found; falling back to find_module()\n",
      "<frozen importlib._bootstrap>:914: ImportWarning: _PyDriveImportHook.find_spec() not found; falling back to find_module()\n",
      "<frozen importlib._bootstrap>:914: ImportWarning: _OpenCVImportHook.find_spec() not found; falling back to find_module()\n",
      "<frozen importlib._bootstrap>:914: ImportWarning: _BokehImportHook.find_spec() not found; falling back to find_module()\n",
      "<frozen importlib._bootstrap>:914: ImportWarning: _AltairImportHook.find_spec() not found; falling back to find_module()\n",
      "<frozen importlib._bootstrap>:914: ImportWarning: APICoreClientInfoImportHook.find_spec() not found; falling back to find_module()\n",
      "<frozen importlib._bootstrap>:914: ImportWarning: _PyDriveImportHook.find_spec() not found; falling back to find_module()\n",
      "<frozen importlib._bootstrap>:914: ImportWarning: _OpenCVImportHook.find_spec() not found; falling back to find_module()\n",
      "<frozen importlib._bootstrap>:914: ImportWarning: _BokehImportHook.find_spec() not found; falling back to find_module()\n",
      "<frozen importlib._bootstrap>:914: ImportWarning: _AltairImportHook.find_spec() not found; falling back to find_module()\n"
     ]
    },
    {
     "data": {
      "image/png": "[encoded data removed]",
      "text/plain": [
       "<Figure size 640x480 with 1 Axes>"
      ]
     },
     "metadata": {},
     "output_type": "display_data"
    }
   ],
   "source": [
    "import matplotlib.pyplot as plt\n",
    "plt.scatter(idx,df_report['precision'])\n",
    "plt.title(\"scatter plot precision\")\n",
    "plt.xlabel(\"jumlah neighbour terbaik\")\n",
    "plt.ylabel(\"precision\")\n",
    "plt.show()"
   ]
  },
  {
   "cell_type": "code",
   "execution_count": 20,
   "metadata": {
    "colab": {
     "base_uri": "https://localhost:8080/",
     "height": 528
    },
    "executionInfo": {
     "elapsed": 696,
     "status": "ok",
     "timestamp": 1685678974954,
     "user": {
      "displayName": "William Nehemia M213DSX0235",
      "userId": "07160615254805994192"
     },
     "user_tz": -420
    },
    "id": "Erw34lsZani9",
    "outputId": "229c331f-c1f1-4971-8d09-f8b300be5c20"
   },
   "outputs": [
    {
     "name": "stderr",
     "output_type": "stream",
     "text": [
      "/usr/local/lib/python3.10/dist-packages/ipykernel/ipkernel.py:283: DeprecationWarning: `should_run_async` will not call `transform_cell` automatically in the future. Please pass the result to `transformed_cell` argument and any exception that happen during thetransform in `preprocessing_exc_tuple` in IPython 7.17 and above.\n",
      "  and should_run_async(code)\n"
     ]
    },
    {
     "data": {
      "image/png": "[encoded data removed]",
      "text/plain": [
       "<Figure size 640x480 with 1 Axes>"
      ]
     },
     "metadata": {},
     "output_type": "display_data"
    }
   ],
   "source": [
    "import matplotlib.pyplot as plt\n",
    "plt.scatter(idx,df_report['accuracy'])\n",
    "plt.title(\"scatter plot accuracy\")\n",
    "plt.xlabel(\"jumlah neighbour terbaik\")\n",
    "plt.ylabel(\"accuracy\")\n",
    "plt.show()"
   ]
  },
  {
   "cell_type": "code",
   "execution_count": 21,
   "metadata": {
    "colab": {
     "base_uri": "https://localhost:8080/",
     "height": 528
    },
    "executionInfo": {
     "elapsed": 726,
     "status": "ok",
     "timestamp": 1685678985936,
     "user": {
      "displayName": "William Nehemia M213DSX0235",
      "userId": "07160615254805994192"
     },
     "user_tz": -420
    },
    "id": "iQfHRzfQapZ-",
    "outputId": "04e6a190-7c20-4ff7-d203-6b0309665007"
   },
   "outputs": [
    {
     "name": "stderr",
     "output_type": "stream",
     "text": [
      "/usr/local/lib/python3.10/dist-packages/ipykernel/ipkernel.py:283: DeprecationWarning: `should_run_async` will not call `transform_cell` automatically in the future. Please pass the result to `transformed_cell` argument and any exception that happen during thetransform in `preprocessing_exc_tuple` in IPython 7.17 and above.\n",
      "  and should_run_async(code)\n"
     ]
    },
    {
     "data": {
      "image/png": "[encoded data removed]",
      "text/plain": [
       "<Figure size 640x480 with 1 Axes>"
      ]
     },
     "metadata": {},
     "output_type": "display_data"
    }
   ],
   "source": [
    "import matplotlib.pyplot as plt\n",
    "plt.scatter(idx,df_report['recall'])\n",
    "plt.title(\"scatter plot recall\")\n",
    "plt.xlabel(\"jumlah neighbour terbaik\")\n",
    "plt.ylabel(\"recall\")\n",
    "plt.show()"
   ]
  },
  {
   "cell_type": "code",
   "execution_count": 22,
   "metadata": {
    "colab": {
     "base_uri": "https://localhost:8080/",
     "height": 528
    },
    "executionInfo": {
     "elapsed": 6,
     "status": "ok",
     "timestamp": 1685678986687,
     "user": {
      "displayName": "William Nehemia M213DSX0235",
      "userId": "07160615254805994192"
     },
     "user_tz": -420
    },
    "id": "SQ4Pf1OIaq_y",
    "outputId": "40b37230-f0e2-44d5-dd4f-554b6f8e51c5"
   },
   "outputs": [
    {
     "name": "stderr",
     "output_type": "stream",
     "text": [
      "/usr/local/lib/python3.10/dist-packages/ipykernel/ipkernel.py:283: DeprecationWarning: `should_run_async` will not call `transform_cell` automatically in the future. Please pass the result to `transformed_cell` argument and any exception that happen during thetransform in `preprocessing_exc_tuple` in IPython 7.17 and above.\n",
      "  and should_run_async(code)\n"
     ]
    },
    {
     "data": {
      "image/png": "[encoded data removed]",
      "text/plain": [
       "<Figure size 640x480 with 1 Axes>"
      ]
     },
     "metadata": {},
     "output_type": "display_data"
    }
   ],
   "source": [
    "import matplotlib.pyplot as plt\n",
    "plt.scatter(idx,df_report['f1_score'])\n",
    "plt.title(\"scatter plot f1 score\")\n",
    "plt.xlabel(\"jumlah neighbour terbaik\")\n",
    "plt.ylabel(\"f1 score\")\n",
    "plt.show()"
   ]
  },
  {
   "cell_type": "code",
   "execution_count": 23,
   "metadata": {
    "colab": {
     "base_uri": "https://localhost:8080/",
     "height": 528
    },
    "executionInfo": {
     "elapsed": 351,
     "status": "ok",
     "timestamp": 1685678992781,
     "user": {
      "displayName": "William Nehemia M213DSX0235",
      "userId": "07160615254805994192"
     },
     "user_tz": -420
    },
    "id": "-Y_xDvKgatGI",
    "outputId": "bd42b392-f71a-4059-ea80-cd1e8d8c4b07"
   },
   "outputs": [
    {
     "name": "stderr",
     "output_type": "stream",
     "text": [
      "/usr/local/lib/python3.10/dist-packages/ipykernel/ipkernel.py:283: DeprecationWarning: `should_run_async` will not call `transform_cell` automatically in the future. Please pass the result to `transformed_cell` argument and any exception that happen during thetransform in `preprocessing_exc_tuple` in IPython 7.17 and above.\n",
      "  and should_run_async(code)\n"
     ]
    },
    {
     "data": {
      "image/png": "[encoded data removed]",
      "text/plain": [
       "<Figure size 640x480 with 1 Axes>"
      ]
     },
     "metadata": {},
     "output_type": "display_data"
    }
   ],
   "source": [
    "\n",
    "import matplotlib.pyplot as plt\n",
    "plt.scatter(idx,df_report['support'])\n",
    "plt.title(\"scatter plot support\")\n",
    "plt.xlabel(\"jumlah neighbour terbaik\")\n",
    "plt.ylabel(\"support\")\n",
    "plt.show()"
   ]
  },
  {
   "cell_type": "code",
   "execution_count": null,
   "metadata": {
    "executionInfo": {
     "elapsed": 40,
     "status": "aborted",
     "timestamp": 1685678927743,
     "user": {
      "displayName": "William Nehemia M213DSX0235",
      "userId": "07160615254805994192"
     },
     "user_tz": -420
    },
    "id": "wjuD7sDq_aCv"
   },
   "outputs": [],
   "source": [
    "def plot_accuracy(history):\n",
    "    \n",
    "    plt.plot(history.history['accuracy'],label='train accuracy')\n",
    "    plt.plot(history.history['val_accuracy'],label='validation accuracy')\n",
    "    plt.title('Model accuracy')\n",
    "    plt.ylabel('Accuracy')\n",
    "    plt.xlabel('Epoch')\n",
    "    plt.legend(loc='best')\n",
    "    plt.savefig('Accuracy_v1_model_inceptionv3')\n",
    "    plt.show()\n",
    "    \n",
    "def plot_loss(history):\n",
    "    \n",
    "    plt.plot(history.history['loss'],label=\"train loss\")\n",
    "    plt.plot(history.history['val_loss'],label=\"validation loss\")\n",
    "    plt.title('Model loss')\n",
    "    plt.ylabel('Loss')\n",
    "    plt.xlabel('Epoch')\n",
    "    plt.legend(loc='best')\n",
    "    plt.savefig('Loss_v1_model_inceptionv3')\n",
    "    plt.show()\n",
    "    \n",
    "plot_accuracy(model_fit)\n",
    "plot_loss(model_fit)"
   ]
  },
  {
   "cell_type": "code",
   "execution_count": null,
   "metadata": {
    "executionInfo": {
     "elapsed": 40,
     "status": "aborted",
     "timestamp": 1685678927744,
     "user": {
      "displayName": "William Nehemia M213DSX0235",
      "userId": "07160615254805994192"
     },
     "user_tz": -420
    },
    "id": "xZ9-9LhnVqS0"
   },
   "outputs": [],
   "source": []
  },
  {
   "cell_type": "code",
   "execution_count": null,
   "metadata": {
    "executionInfo": {
     "elapsed": 40,
     "status": "aborted",
     "timestamp": 1685678927745,
     "user": {
      "displayName": "William Nehemia M213DSX0235",
      "userId": "07160615254805994192"
     },
     "user_tz": -420
    },
    "id": "TlE5AAOy4K7n"
   },
   "outputs": [],
   "source": [
    "model.save('/content/drive/MyDrive/Capstone/model_exercise.h5')\n",
    "# Convert the model.\n",
    "converter = tf.lite.TFLiteConverter.from_keras_model(model)\n",
    "tflite_model = converter.convert()\n",
    "\n",
    "# Save the model.\n",
    "with open('/content/drive/MyDrive/Capstone/model_exercise.tflite', 'wb') as f:\n",
    "  f.write(tflite_model)"
   ]
  }
 ],
 "metadata": {
  "colab": {
   "authorship_tag": "ABX9TyOVpSF/+Bq9LxP9KBqI+Rhl",
   "provenance": []
  },
  "kernelspec": {
   "display_name": "Python 3 (ipykernel)",
   "language": "python",
   "name": "python3"
  },
  "language_info": {
   "codemirror_mode": {
    "name": "ipython",
    "version": 3
   },
   "file_extension": ".py",
   "mimetype": "text/x-python",
   "name": "python",
   "nbconvert_exporter": "python",
   "pygments_lexer": "ipython3",
   "version": "3.11.3"
  }
 },
 "nbformat": 4,
 "nbformat_minor": 1
}
