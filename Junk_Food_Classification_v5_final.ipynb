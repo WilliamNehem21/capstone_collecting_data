version https://git-lfs.github.com/spec/v1
oid sha256:cd73de42d31b4a7345571ce9b6f051ffec92b11290ff7de88cde02e0e806923a
size 75421202
